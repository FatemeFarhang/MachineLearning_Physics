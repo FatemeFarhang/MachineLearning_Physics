{
  "nbformat": 4,
  "nbformat_minor": 0,
  "metadata": {
    "accelerator": "GPU",
    "celltoolbar": "Initialization Cell",
    "colab": {
      "name": "MLP_NN_Libraries.ipynb",
      "provenance": [],
      "collapsed_sections": [
        "DHsgox0o117V",
        "i57n75TH8hps",
        "up0G4Hqm1z7S",
        "4pBsRp0S1z7a",
        "sTy_cs4Q1z7o",
        "5ns2Pq871z73",
        "AvJuZGcu1z7_",
        "HV2AO9Yx1z8Z",
        "Pw3EoyFJ8hsR"
      ],
      "toc_visible": true,
      "include_colab_link": true
    },
    "kernelspec": {
      "display_name": "Python 3",
      "language": "python",
      "name": "python3"
    },
    "language_info": {
      "codemirror_mode": {
        "name": "ipython",
        "version": 3
      },
      "file_extension": ".py",
      "mimetype": "text/x-python",
      "name": "python",
      "nbconvert_exporter": "python",
      "pygments_lexer": "ipython3",
      "version": "3.6.10"
    },
    "latex_envs": {
      "LaTeX_envs_menu_present": true,
      "autoclose": false,
      "autocomplete": true,
      "bibliofile": "biblio.bib",
      "cite_by": "apalike",
      "current_citInitial": 1,
      "eqLabelWithNumbers": true,
      "eqNumInitial": 1,
      "hotkeys": {
        "equation": "Ctrl-E",
        "itemize": "Ctrl-I"
      },
      "labels_anchors": false,
      "latex_user_defs": false,
      "report_style_numbering": false,
      "user_envs_cfg": false
    },
    "toc": {
      "base_numbering": 1,
      "nav_menu": {},
      "number_sections": true,
      "sideBar": true,
      "skip_h1_title": false,
      "title_cell": "Table of Contents",
      "title_sidebar": "Contents",
      "toc_cell": false,
      "toc_position": {},
      "toc_section_display": true,
      "toc_window_display": false
    },
    "varInspector": {
      "cols": {
        "lenName": 16,
        "lenType": 16,
        "lenVar": 40
      },
      "kernels_config": {
        "python": {
          "delete_cmd_postfix": "",
          "delete_cmd_prefix": "del ",
          "library": "var_list.py",
          "varRefreshCmd": "print(var_dic_list())"
        },
        "r": {
          "delete_cmd_postfix": ") ",
          "delete_cmd_prefix": "rm(",
          "library": "var_list.r",
          "varRefreshCmd": "cat(var_dic_list()) "
        }
      },
      "types_to_exclude": [
        "module",
        "function",
        "builtin_function_or_method",
        "instance",
        "_Feature"
      ],
      "window_display": false
    }
  },
  "cells": [
    {
      "cell_type": "markdown",
      "metadata": {
        "id": "view-in-github",
        "colab_type": "text"
      },
      "source": [
        "<a href=\"https://colab.research.google.com/github/sraeisi/MachineLearning_Physics/blob/master/2/MLP_NN_Libraries.ipynb\" target=\"_parent\"><img src=\"https://colab.research.google.com/assets/colab-badge.svg\" alt=\"Open In Colab\"/></a>"
      ]
    },
    {
      "cell_type": "markdown",
      "metadata": {
        "id": "DHsgox0o117V"
      },
      "source": [
        "# Pre"
      ]
    },
    {
      "cell_type": "code",
      "metadata": {
        "ExecuteTime": {
          "end_time": "2020-04-26T10:02:49.473349Z",
          "start_time": "2020-04-26T10:02:49.469347Z"
        },
        "id": "0e_arpYe1z6X",
        "init_cell": true
      },
      "source": [
        "import numpy as np\n",
        "import pandas as pd\n",
        "import matplotlib.pyplot as plt\n",
        "plt.style.use('seaborn-talk')\n",
        "\n",
        "import datetime\n",
        "\n",
        "import io, requests, zipfile\n",
        "\n",
        "\n",
        "\n",
        "'''Set the defaults for your plots.'''\n",
        "# plt.rcParams.update({'font.size': 20, 'figsize':(8,6)})\n",
        "SMALL_SIZE = 12\n",
        "MEDIUM_SIZE = 15\n",
        "BIGGER_SIZE = 18\n",
        "\n",
        "plt.rc('font', size=BIGGER_SIZE)          # controls default text sizes\n",
        "plt.rc('axes', titlesize=MEDIUM_SIZE)     # fontsize of the axes title\n",
        "plt.rc('axes', labelsize=BIGGER_SIZE)    # fontsize of the x and y labels\n",
        "plt.rc('xtick', labelsize=SMALL_SIZE)    # fontsize of the tick labels\n",
        "plt.rc('ytick', labelsize=SMALL_SIZE)    # fontsize of the tick labels\n",
        "plt.rc('legend', fontsize=MEDIUM_SIZE)    # legend fontsize\n",
        "plt.rc('figure', titlesize=BIGGER_SIZE)  # fontsize of the figure title\n",
        "\n",
        "plt.rc('axes', linewidth = 5 )\n",
        "plt.rc('lines', linewidth = 5 )\n",
        "\n",
        "plt.rc('lines', markersize = 5 )\n",
        "\n",
        "plt.rc('figure', figsize=(8,4) )         # Image size\n",
        "\n",
        "from zipfile import ZipFile\n",
        "\n",
        "\n",
        "from collections import Counter\n",
        "\n",
        "import warnings\n",
        "warnings.filterwarnings('ignore')\n",
        "\n",
        "from sklearn.utils import shuffle\n",
        "\n"
      ],
      "execution_count": 1,
      "outputs": []
    },
    {
      "cell_type": "code",
      "metadata": {
        "ExecuteTime": {
          "end_time": "2020-04-26T10:02:49.492349Z",
          "start_time": "2020-04-26T10:02:49.475349Z"
        },
        "init_cell": true,
        "id": "UzYne0CK8hpo"
      },
      "source": [
        "def grid(x1, x2, off_set = .1, n_points = 100):\n",
        "    ## d s show the range in the two varible. \n",
        "    d1 = x1.max() - x1.min()\n",
        "    d2 = x2.max() - x2.min()\n",
        "    \n",
        "    x1_min, x1_max = x1.min() - off_set * d1 , x1.max() + off_set * d1\n",
        "    x2_min, x2_max = x2.min() - off_set * d2 , x2.max() + off_set * d2\n",
        "\n",
        "    ## This function from numpy gives a list of coordinates that are the points on the grid. \n",
        "    x, y = np.meshgrid(np.arange(x1_min, x1_max , d1/n_points), np.arange(x2_min, x2_max , d2/n_points) )\n",
        "\n",
        "    return x , y "
      ],
      "execution_count": 2,
      "outputs": []
    },
    {
      "cell_type": "markdown",
      "metadata": {
        "id": "mfNj91Ci6eI9"
      },
      "source": [
        "### Data"
      ]
    },
    {
      "cell_type": "code",
      "metadata": {
        "id": "jOjbPWEhUSf6",
        "colab": {
          "base_uri": "https://localhost:8080/",
          "height": 0
        },
        "outputId": "690cc97a-df98-455c-d8b8-3d5979307321"
      },
      "source": [
        "## First load the data from the following url\n",
        "url = 'https://www.dropbox.com/s/66dbhxl93y41coe/particle-identification-from-detector-responses.zip?dl=1'\n",
        "s=requests.get(url, stream=True).content\n",
        "data=pd.read_csv(io.BytesIO(s) , compression='zip' )\n",
        "\n",
        "data = shuffle(data)\n",
        "\n",
        "'''\n",
        "Alternatively, you can download the file into your computer and run the following code. \n",
        "You need to uncomment it first. \n",
        "'''    \n",
        "\n",
        "# data = pd.read_csv('particle-identification-from-detector-responses.zip', compression='zip')\n",
        "data.head()"
      ],
      "execution_count": 3,
      "outputs": [
        {
          "output_type": "execute_result",
          "data": {
            "text/html": [
              "<div>\n",
              "<style scoped>\n",
              "    .dataframe tbody tr th:only-of-type {\n",
              "        vertical-align: middle;\n",
              "    }\n",
              "\n",
              "    .dataframe tbody tr th {\n",
              "        vertical-align: top;\n",
              "    }\n",
              "\n",
              "    .dataframe thead th {\n",
              "        text-align: right;\n",
              "    }\n",
              "</style>\n",
              "<table border=\"1\" class=\"dataframe\">\n",
              "  <thead>\n",
              "    <tr style=\"text-align: right;\">\n",
              "      <th></th>\n",
              "      <th>id</th>\n",
              "      <th>p</th>\n",
              "      <th>theta</th>\n",
              "      <th>beta</th>\n",
              "      <th>nphe</th>\n",
              "      <th>ein</th>\n",
              "      <th>eout</th>\n",
              "    </tr>\n",
              "  </thead>\n",
              "  <tbody>\n",
              "    <tr>\n",
              "      <th>1640065</th>\n",
              "      <td>2212</td>\n",
              "      <td>0.994430</td>\n",
              "      <td>0.513494</td>\n",
              "      <td>0.710614</td>\n",
              "      <td>0</td>\n",
              "      <td>0.085603</td>\n",
              "      <td>0.000000</td>\n",
              "    </tr>\n",
              "    <tr>\n",
              "      <th>3923151</th>\n",
              "      <td>211</td>\n",
              "      <td>2.026550</td>\n",
              "      <td>0.201995</td>\n",
              "      <td>0.992739</td>\n",
              "      <td>0</td>\n",
              "      <td>0.026368</td>\n",
              "      <td>0.047288</td>\n",
              "    </tr>\n",
              "    <tr>\n",
              "      <th>4066649</th>\n",
              "      <td>211</td>\n",
              "      <td>0.794537</td>\n",
              "      <td>0.486123</td>\n",
              "      <td>0.997970</td>\n",
              "      <td>0</td>\n",
              "      <td>0.024353</td>\n",
              "      <td>0.085924</td>\n",
              "    </tr>\n",
              "    <tr>\n",
              "      <th>962336</th>\n",
              "      <td>2212</td>\n",
              "      <td>1.028150</td>\n",
              "      <td>0.307077</td>\n",
              "      <td>0.725036</td>\n",
              "      <td>0</td>\n",
              "      <td>0.106661</td>\n",
              "      <td>0.067933</td>\n",
              "    </tr>\n",
              "    <tr>\n",
              "      <th>4096345</th>\n",
              "      <td>2212</td>\n",
              "      <td>1.687340</td>\n",
              "      <td>0.195407</td>\n",
              "      <td>0.893784</td>\n",
              "      <td>0</td>\n",
              "      <td>0.105013</td>\n",
              "      <td>0.044175</td>\n",
              "    </tr>\n",
              "  </tbody>\n",
              "</table>\n",
              "</div>"
            ],
            "text/plain": [
              "           id         p     theta      beta  nphe       ein      eout\n",
              "1640065  2212  0.994430  0.513494  0.710614     0  0.085603  0.000000\n",
              "3923151   211  2.026550  0.201995  0.992739     0  0.026368  0.047288\n",
              "4066649   211  0.794537  0.486123  0.997970     0  0.024353  0.085924\n",
              "962336   2212  1.028150  0.307077  0.725036     0  0.106661  0.067933\n",
              "4096345  2212  1.687340  0.195407  0.893784     0  0.105013  0.044175"
            ]
          },
          "metadata": {},
          "execution_count": 3
        }
      ]
    },
    {
      "cell_type": "code",
      "metadata": {
        "id": "_qmdVz5EW7pr",
        "colab": {
          "base_uri": "https://localhost:8080/"
        },
        "outputId": "b9c2e865-bb3d-4f72-b1ab-a68060a8bdbb"
      },
      "source": [
        "## Targets\n",
        "targets = list(set(data['id']))\n",
        "print(targets)\n",
        "target_freq = Counter(data['id'])\n",
        "\n",
        "\n",
        "features =  data.columns \n",
        "print(features)\n"
      ],
      "execution_count": 4,
      "outputs": [
        {
          "output_type": "stream",
          "name": "stdout",
          "text": [
            "[321, 211, 2212, -11]\n",
            "Index(['id', 'p', 'theta', 'beta', 'nphe', 'ein', 'eout'], dtype='object')\n"
          ]
        }
      ]
    },
    {
      "cell_type": "code",
      "metadata": {
        "id": "rJqKWQtTWToZ",
        "colab": {
          "base_uri": "https://localhost:8080/",
          "height": 0
        },
        "outputId": "9bf1cf4b-b572-40b3-b7e5-b7b0551fb768"
      },
      "source": [
        "## We only keep two features, this is for simplicity and also for visulaization purposes. \n",
        "features_2d = features[[0,1,3]]\n",
        "\n",
        "\n",
        "## To speed things up in the class we take a small sample of the data\n",
        "\n",
        "n_s = 10000  ## number of samples we keep. \n",
        "\n",
        "mini_data = data[features_2d].sample(n_s, axis=0, random_state=0)\n",
        "\n",
        "mini_data['target'] = mini_data['id'].apply(lambda x: targets.index(x)) ## We add a label/target/class col which is the index of the id in the list of ids.\n",
        "\n",
        "mini_data.drop('id',axis=1, inplace=True)\n",
        "mini_data.head()\n"
      ],
      "execution_count": 5,
      "outputs": [
        {
          "output_type": "execute_result",
          "data": {
            "text/html": [
              "<div>\n",
              "<style scoped>\n",
              "    .dataframe tbody tr th:only-of-type {\n",
              "        vertical-align: middle;\n",
              "    }\n",
              "\n",
              "    .dataframe tbody tr th {\n",
              "        vertical-align: top;\n",
              "    }\n",
              "\n",
              "    .dataframe thead th {\n",
              "        text-align: right;\n",
              "    }\n",
              "</style>\n",
              "<table border=\"1\" class=\"dataframe\">\n",
              "  <thead>\n",
              "    <tr style=\"text-align: right;\">\n",
              "      <th></th>\n",
              "      <th>p</th>\n",
              "      <th>beta</th>\n",
              "      <th>target</th>\n",
              "    </tr>\n",
              "  </thead>\n",
              "  <tbody>\n",
              "    <tr>\n",
              "      <th>730028</th>\n",
              "      <td>1.018540</td>\n",
              "      <td>0.724876</td>\n",
              "      <td>2</td>\n",
              "    </tr>\n",
              "    <tr>\n",
              "      <th>1736847</th>\n",
              "      <td>2.810560</td>\n",
              "      <td>0.937268</td>\n",
              "      <td>2</td>\n",
              "    </tr>\n",
              "    <tr>\n",
              "      <th>25746</th>\n",
              "      <td>2.505070</td>\n",
              "      <td>0.986875</td>\n",
              "      <td>1</td>\n",
              "    </tr>\n",
              "    <tr>\n",
              "      <th>1531374</th>\n",
              "      <td>0.953231</td>\n",
              "      <td>0.997742</td>\n",
              "      <td>1</td>\n",
              "    </tr>\n",
              "    <tr>\n",
              "      <th>504261</th>\n",
              "      <td>3.142600</td>\n",
              "      <td>0.967875</td>\n",
              "      <td>2</td>\n",
              "    </tr>\n",
              "  </tbody>\n",
              "</table>\n",
              "</div>"
            ],
            "text/plain": [
              "                p      beta  target\n",
              "730028   1.018540  0.724876       2\n",
              "1736847  2.810560  0.937268       2\n",
              "25746    2.505070  0.986875       1\n",
              "1531374  0.953231  0.997742       1\n",
              "504261   3.142600  0.967875       2"
            ]
          },
          "metadata": {},
          "execution_count": 5
        }
      ]
    },
    {
      "cell_type": "code",
      "metadata": {
        "id": "M8f8ltboxXLX"
      },
      "source": [
        "X, Y = mini_data[['p','beta']].values, mini_data.target.values\n",
        "\n",
        "from sklearn.model_selection import train_test_split\n",
        "X_train, X_test, Y_train, Y_test  = train_test_split(X, Y, random_state= 0)"
      ],
      "execution_count": 6,
      "outputs": []
    },
    {
      "cell_type": "code",
      "metadata": {
        "colab": {
          "base_uri": "https://localhost:8080/"
        },
        "id": "vVwOMU09y_8h",
        "outputId": "dad888ed-9913-4e7e-fd20-c59cf0091871"
      },
      "source": [
        "## We only keep the following two targets\n",
        "## We intentionally pick two classes with the largest bias. \n",
        "ind_1 = 1\n",
        "ind_2 =  2\n",
        "print('The ratio of the number of the samples of the two classes are {}'.format( target_freq[targets[ind_1]]/target_freq[targets[ind_2]] ) )\n",
        "\n",
        "\n",
        "## Only keep the part of the data with one of the two target classes. \n",
        "bmd = mini_data[ (mini_data['target']==ind_1) | (mini_data['target']==ind_2) ].copy()\n",
        "\n",
        "\n",
        "X = bmd.drop('target', axis=1).values\n",
        "Y = (bmd['target'].values >1.5).astype(int)\n",
        "print(Counter(Y))\n",
        "\n",
        "from sklearn.model_selection import train_test_split\n",
        "X_train, X_test, Y_train, Y_test  = train_test_split(X, Y, random_state= 0)"
      ],
      "execution_count": 7,
      "outputs": [
        {
          "output_type": "stream",
          "name": "stdout",
          "text": [
            "The ratio of the number of the samples of the two classes are 1.4424721548280468\n",
            "Counter({0: 5564, 1: 3904})\n"
          ]
        }
      ]
    },
    {
      "cell_type": "markdown",
      "metadata": {
        "id": "sXyJ6nLB8hpr"
      },
      "source": [
        "# Tensorflow\n",
        "\n",
        "There are many different frameworks and APIs for deep learning and neural networks. \n",
        "\n",
        "Here you learn more about them and how they compare to each other:  \n",
        "https://wiki.pathmind.com/comparison-frameworks-dl4j-tensorflow-pytorch\n",
        "\n",
        "Here we focus on Tensorflow (Keras) and Pytorch as the two main tools that we'll be using."
      ]
    },
    {
      "cell_type": "markdown",
      "metadata": {
        "id": "i57n75TH8hps"
      },
      "source": [
        "## Old version and the computation graph"
      ]
    },
    {
      "cell_type": "code",
      "metadata": {
        "id": "a_Fcdf7X8hps",
        "colab": {
          "base_uri": "https://localhost:8080/"
        },
        "outputId": "a265a511-f898-4da7-b847-24bf4d0efa8a"
      },
      "source": [
        "%tensorflow_version 1.x\n",
        "import tensorflow as tf\n",
        "print(tf.__version__)\n",
        "\n",
        "%load_ext tensorboard\n"
      ],
      "execution_count": 8,
      "outputs": [
        {
          "output_type": "stream",
          "name": "stdout",
          "text": [
            "TensorFlow 1.x selected.\n",
            "1.15.2\n"
          ]
        }
      ]
    },
    {
      "cell_type": "code",
      "metadata": {
        "id": "e-ix6fzV8hpv",
        "colab": {
          "base_uri": "https://localhost:8080/"
        },
        "outputId": "e0283540-0000-4241-ec92-60dcaa221c9f"
      },
      "source": [
        "###1. Simple Algebra\n",
        "\n",
        "a = tf.Variable(1, name='a')\n",
        "b = tf.Variable(2, name='b')\n",
        "\n",
        "f = a + b\n",
        "\n",
        "print(f)"
      ],
      "execution_count": 16,
      "outputs": [
        {
          "output_type": "stream",
          "name": "stdout",
          "text": [
            "Tensor(\"add_1:0\", shape=(), dtype=int32)\n"
          ]
        }
      ]
    },
    {
      "cell_type": "code",
      "metadata": {
        "colab": {
          "base_uri": "https://localhost:8080/"
        },
        "id": "rVyePJAubvaS",
        "outputId": "d48cfc0f-0ed2-4bc4-8bde-f1268cd5ab09"
      },
      "source": [
        "a"
      ],
      "execution_count": 11,
      "outputs": [
        {
          "output_type": "execute_result",
          "data": {
            "text/plain": [
              "<tf.Variable 'a:0' shape=() dtype=int32_ref>"
            ]
          },
          "metadata": {},
          "execution_count": 11
        }
      ]
    },
    {
      "cell_type": "code",
      "metadata": {
        "id": "e9D0lP-Q8hpx",
        "colab": {
          "base_uri": "https://localhost:8080/"
        },
        "outputId": "6e2a971b-5e01-4aab-d1be-61c60965f353"
      },
      "source": [
        "init = tf.global_variables_initializer()\n",
        "\n",
        "with tf.Session() as s:\n",
        "    init.run()\n",
        "    print(b.eval())\n",
        "    \n",
        "\n",
        "    print(f.eval() )\n"
      ],
      "execution_count": 13,
      "outputs": [
        {
          "output_type": "stream",
          "name": "stdout",
          "text": [
            "2\n",
            "3\n"
          ]
        }
      ]
    },
    {
      "cell_type": "code",
      "metadata": {
        "id": "bIGHFLRGH4ZQ"
      },
      "source": [
        "# del( f, init)"
      ],
      "execution_count": 14,
      "outputs": []
    },
    {
      "cell_type": "code",
      "metadata": {
        "id": "CiZJdZjA8hp1",
        "colab": {
          "base_uri": "https://localhost:8080/"
        },
        "outputId": "0773d337-f045-4e08-d2e5-b02412ac9535"
      },
      "source": [
        "init = tf.global_variables_initializer()\n",
        " \n",
        "# Clear any logs from previous runs\n",
        "!rm -rf ./logs/ \n",
        "\n",
        "log_file = \"logs/fit/\" + datetime.datetime.now().strftime(\"%Y%m%d-%H%M%S\")\n",
        "# log_Name = 'Simple_Addition'\n",
        "\n",
        "with tf.Session() as s:\n",
        "    file_writer = tf.summary.FileWriter(log_file, s.graph)\n",
        "    init.run()\n",
        "    print(f.eval() )"
      ],
      "execution_count": 17,
      "outputs": [
        {
          "output_type": "stream",
          "name": "stdout",
          "text": [
            "3\n"
          ]
        }
      ]
    },
    {
      "cell_type": "code",
      "metadata": {
        "id": "yDMdzMGr9IFp"
      },
      "source": [
        "%tensorboard --logdir logs/fit\n"
      ],
      "execution_count": null,
      "outputs": []
    },
    {
      "cell_type": "code",
      "metadata": {
        "id": "7jgzL4qF8hp4",
        "colab": {
          "base_uri": "https://localhost:8080/"
        },
        "outputId": "a305cbd7-997f-4ea0-cfc7-054307663569"
      },
      "source": [
        "###2. Simple Optimization Problem\n",
        "\n",
        "w = tf.Variable([0], dtype=tf.float32)\n",
        "f = w**2 -10 * w + 25\n",
        "\n",
        "optimize = tf.train.GradientDescentOptimizer(0.01).minimize(f)\n",
        "\n",
        "init = tf.global_variables_initializer()\n",
        "\n",
        "## Add Tensor board\n",
        "# Clear any logs from previous runs\n",
        "!rm -rf ./logs/ \n",
        "\n",
        "log_file = \"logs/fit/\" + datetime.datetime.now().strftime(\"%Y%m%d-%H%M%S\")\n",
        "# log_Name = 'Simple_Addition'\n",
        "\n",
        "\n",
        "with tf.Session() as s:\n",
        "    file_writer = tf.summary.FileWriter(log_file, s.graph)\n",
        "    init.run()\n",
        "    print(w.eval() )\n",
        "    \n",
        "    for i in range(1000):\n",
        "        s.run(optimize)\n",
        "    \n",
        "    print(w.eval())"
      ],
      "execution_count": 19,
      "outputs": [
        {
          "output_type": "stream",
          "name": "stdout",
          "text": [
            "WARNING:tensorflow:From /tensorflow-1.15.2/python3.7/tensorflow_core/python/ops/math_grad.py:1375: where (from tensorflow.python.ops.array_ops) is deprecated and will be removed in a future version.\n",
            "Instructions for updating:\n",
            "Use tf.where in 2.0, which has the same broadcast rule as np.where\n",
            "[0.]\n",
            "[4.999988]\n"
          ]
        }
      ]
    },
    {
      "cell_type": "code",
      "metadata": {
        "id": "KLaeE0uWAkOI"
      },
      "source": [
        "%tensorboard --logdir logs/fit"
      ],
      "execution_count": null,
      "outputs": []
    },
    {
      "cell_type": "code",
      "metadata": {
        "id": "TGr2A5MC8hp7",
        "colab": {
          "base_uri": "https://localhost:8080/"
        },
        "outputId": "c2d83b9d-e530-43ff-f737-8d5acfc52733"
      },
      "source": [
        "###3. Optimization with Variable inputs\n",
        "\n",
        "X = tf.placeholder(tf.float32, [3,1])\n",
        "w = tf.Variable([0], dtype=tf.float32)\n",
        "f = X[0][0] * w**2 -X[1][0] * w + X[2][0] \n",
        "\n",
        "coefs = np.array( [[1] , [-12], [36] ] )\n",
        "\n",
        "optimize = tf.train.GradientDescentOptimizer(0.01).minimize(f)\n",
        "\n",
        "init = tf.global_variables_initializer()\n",
        "\n",
        "## Add Tensor board\n",
        "# Clear any logs from previous runs\n",
        "!rm -rf ./logs/ \n",
        "\n",
        "log_file = \"logs/fit/\" + datetime.datetime.now().strftime(\"%Y%m%d-%H%M%S\")\n",
        "# log_Name = 'Simple_Addition'\n",
        "\n",
        "\n",
        "with tf.Session() as s:\n",
        "  file_writer = tf.summary.FileWriter(log_file, s.graph)\n",
        "  init.run()\n",
        "  print(w.eval() )\n",
        "  \n",
        "  for i in range(1000):\n",
        "      s.run(optimize, feed_dict = {X:coefs})\n",
        "  \n",
        "  print(w.eval())\t\n",
        "\n"
      ],
      "execution_count": 22,
      "outputs": [
        {
          "output_type": "stream",
          "name": "stdout",
          "text": [
            "[0.]\n",
            "[-5.999988]\n"
          ]
        }
      ]
    },
    {
      "cell_type": "code",
      "metadata": {
        "id": "tTIwtpr8KzgO"
      },
      "source": [
        "!kill 869"
      ],
      "execution_count": null,
      "outputs": []
    },
    {
      "cell_type": "code",
      "metadata": {
        "id": "hKKksCXi8hp9"
      },
      "source": [
        "%tensorboard --logdir logs/fit"
      ],
      "execution_count": null,
      "outputs": []
    },
    {
      "cell_type": "markdown",
      "metadata": {
        "id": "BfLrohni8hqA"
      },
      "source": [
        "## Keras"
      ]
    },
    {
      "cell_type": "markdown",
      "metadata": {
        "id": "DZJfPwxW9Fqn"
      },
      "source": [
        "Need to restart runtime and start with the latest version of TF."
      ]
    },
    {
      "cell_type": "code",
      "metadata": {
        "id": "W_N3YEeG1uW9"
      },
      "source": [
        "from tensorflow import keras as ks"
      ],
      "execution_count": 8,
      "outputs": []
    },
    {
      "cell_type": "code",
      "metadata": {
        "colab": {
          "base_uri": "https://localhost:8080/"
        },
        "id": "wuT8k9gO2ipO",
        "outputId": "cbd625c6-e26f-4988-f284-01dfed729342"
      },
      "source": [
        "print(X_train.shape)\n",
        "print( Counter(Y_train) )"
      ],
      "execution_count": 9,
      "outputs": [
        {
          "output_type": "stream",
          "name": "stdout",
          "text": [
            "(7101, 2)\n",
            "Counter({0: 4183, 1: 2918})\n"
          ]
        }
      ]
    },
    {
      "cell_type": "code",
      "metadata": {
        "id": "SFKvm5zRz7y4",
        "outputId": "7d128e96-aeaf-4f6e-ac2f-7f7bc5c430a9",
        "colab": {
          "base_uri": "https://localhost:8080/"
        }
      },
      "source": [
        "from tensorflow import keras as ks\n",
        "\n",
        "model = ks.Sequential()\n",
        "model.add(ks.layers.Dense(10, activation=ks.activations.relu, input_dim = 2)  )\n",
        "model.add(ks.layers.Dense(10, activation=ks.activations.relu)  )\n",
        "model.add(ks.layers.Dense(1, activation=ks.activations.sigmoid)  )\n",
        "model.summary()"
      ],
      "execution_count": 25,
      "outputs": [
        {
          "output_type": "stream",
          "name": "stdout",
          "text": [
            "Model: \"sequential_4\"\n",
            "_________________________________________________________________\n",
            " Layer (type)                Output Shape              Param #   \n",
            "=================================================================\n",
            " dense_10 (Dense)            (None, 10)                30        \n",
            "                                                                 \n",
            " dense_11 (Dense)            (None, 10)                110       \n",
            "                                                                 \n",
            " dense_12 (Dense)            (None, 1)                 11        \n",
            "                                                                 \n",
            "=================================================================\n",
            "Total params: 151\n",
            "Trainable params: 151\n",
            "Non-trainable params: 0\n",
            "_________________________________________________________________\n"
          ]
        }
      ]
    },
    {
      "cell_type": "code",
      "metadata": {
        "id": "67dHIZyd8hqG"
      },
      "source": [
        "model.compile( loss=ks.losses.binary_crossentropy  , \n",
        "              optimizer = ks.optimizers.SGD() ,  \n",
        "              metrics = ks.metrics.binary_accuracy )"
      ],
      "execution_count": 26,
      "outputs": []
    },
    {
      "cell_type": "code",
      "metadata": {
        "colab": {
          "base_uri": "https://localhost:8080/"
        },
        "id": "bcgTpiqayqN2",
        "outputId": "4c10d25f-4629-4dd6-9f69-76863b19acd0"
      },
      "source": [
        "print(Counter(Y))\n",
        "model.predict(X_test[:3])"
      ],
      "execution_count": 27,
      "outputs": [
        {
          "output_type": "stream",
          "name": "stdout",
          "text": [
            "Counter({0: 5564, 1: 3904})\n"
          ]
        },
        {
          "output_type": "execute_result",
          "data": {
            "text/plain": [
              "array([[0.44345385],\n",
              "       [0.51097715],\n",
              "       [0.5336526 ]], dtype=float32)"
            ]
          },
          "metadata": {},
          "execution_count": 27
        }
      ]
    },
    {
      "cell_type": "code",
      "metadata": {
        "id": "7AfdgqVf8hqJ",
        "colab": {
          "base_uri": "https://localhost:8080/"
        },
        "outputId": "80839e6d-ac8b-4404-805e-5c53c7aa00bd"
      },
      "source": [
        "## Let's try this for the particle identification \n",
        "history = model.fit(X_train, Y_train, \n",
        "                    epochs=50 \n",
        "                    )\n"
      ],
      "execution_count": 28,
      "outputs": [
        {
          "output_type": "stream",
          "name": "stdout",
          "text": [
            "Epoch 1/50\n",
            "222/222 [==============================] - 1s 4ms/step - loss: 0.6209 - binary_accuracy: 0.6189\n",
            "Epoch 2/50\n",
            "222/222 [==============================] - 1s 3ms/step - loss: 0.5860 - binary_accuracy: 0.6216\n",
            "Epoch 3/50\n",
            "222/222 [==============================] - 1s 4ms/step - loss: 0.5572 - binary_accuracy: 0.6357\n",
            "Epoch 4/50\n",
            "222/222 [==============================] - 1s 4ms/step - loss: 0.5304 - binary_accuracy: 0.6567\n",
            "Epoch 5/50\n",
            "222/222 [==============================] - 1s 4ms/step - loss: 0.5006 - binary_accuracy: 0.6937\n",
            "Epoch 6/50\n",
            "222/222 [==============================] - 1s 3ms/step - loss: 0.4721 - binary_accuracy: 0.7469\n",
            "Epoch 7/50\n",
            "222/222 [==============================] - 1s 4ms/step - loss: 0.4431 - binary_accuracy: 0.8137\n",
            "Epoch 8/50\n",
            "222/222 [==============================] - 1s 4ms/step - loss: 0.4130 - binary_accuracy: 0.8648\n",
            "Epoch 9/50\n",
            "222/222 [==============================] - 1s 3ms/step - loss: 0.3812 - binary_accuracy: 0.8724\n",
            "Epoch 10/50\n",
            "222/222 [==============================] - 1s 3ms/step - loss: 0.3486 - binary_accuracy: 0.8793\n",
            "Epoch 11/50\n",
            "222/222 [==============================] - 1s 3ms/step - loss: 0.3158 - binary_accuracy: 0.8916\n",
            "Epoch 12/50\n",
            "222/222 [==============================] - 1s 3ms/step - loss: 0.2869 - binary_accuracy: 0.9040\n",
            "Epoch 13/50\n",
            "222/222 [==============================] - 1s 4ms/step - loss: 0.2594 - binary_accuracy: 0.9179\n",
            "Epoch 14/50\n",
            "222/222 [==============================] - 1s 3ms/step - loss: 0.2356 - binary_accuracy: 0.9334\n",
            "Epoch 15/50\n",
            "222/222 [==============================] - 1s 3ms/step - loss: 0.2145 - binary_accuracy: 0.9380\n",
            "Epoch 16/50\n",
            "222/222 [==============================] - 1s 3ms/step - loss: 0.1957 - binary_accuracy: 0.9514\n",
            "Epoch 17/50\n",
            "222/222 [==============================] - 1s 4ms/step - loss: 0.1774 - binary_accuracy: 0.9589\n",
            "Epoch 18/50\n",
            "222/222 [==============================] - 1s 3ms/step - loss: 0.1625 - binary_accuracy: 0.9676\n",
            "Epoch 19/50\n",
            "222/222 [==============================] - 1s 3ms/step - loss: 0.1500 - binary_accuracy: 0.9742\n",
            "Epoch 20/50\n",
            "222/222 [==============================] - 1s 4ms/step - loss: 0.1409 - binary_accuracy: 0.9763\n",
            "Epoch 21/50\n",
            "222/222 [==============================] - 1s 4ms/step - loss: 0.1317 - binary_accuracy: 0.9763\n",
            "Epoch 22/50\n",
            "222/222 [==============================] - 1s 4ms/step - loss: 0.1252 - binary_accuracy: 0.9775\n",
            "Epoch 23/50\n",
            "222/222 [==============================] - 1s 4ms/step - loss: 0.1197 - binary_accuracy: 0.9782\n",
            "Epoch 24/50\n",
            "222/222 [==============================] - 1s 3ms/step - loss: 0.1130 - binary_accuracy: 0.9814\n",
            "Epoch 25/50\n",
            "222/222 [==============================] - 1s 4ms/step - loss: 0.1095 - binary_accuracy: 0.9792\n",
            "Epoch 26/50\n",
            "222/222 [==============================] - 1s 3ms/step - loss: 0.1048 - binary_accuracy: 0.9810\n",
            "Epoch 27/50\n",
            "222/222 [==============================] - 1s 3ms/step - loss: 0.1022 - binary_accuracy: 0.9799\n",
            "Epoch 28/50\n",
            "222/222 [==============================] - 1s 3ms/step - loss: 0.0980 - binary_accuracy: 0.9828\n",
            "Epoch 29/50\n",
            "222/222 [==============================] - 1s 4ms/step - loss: 0.0972 - binary_accuracy: 0.9816\n",
            "Epoch 30/50\n",
            "222/222 [==============================] - 1s 3ms/step - loss: 0.0929 - binary_accuracy: 0.9835\n",
            "Epoch 31/50\n",
            "222/222 [==============================] - 1s 4ms/step - loss: 0.0909 - binary_accuracy: 0.9831\n",
            "Epoch 32/50\n",
            "222/222 [==============================] - 1s 3ms/step - loss: 0.0887 - binary_accuracy: 0.9831\n",
            "Epoch 33/50\n",
            "222/222 [==============================] - 1s 4ms/step - loss: 0.0868 - binary_accuracy: 0.9825\n",
            "Epoch 34/50\n",
            "222/222 [==============================] - 1s 3ms/step - loss: 0.0858 - binary_accuracy: 0.9818\n",
            "Epoch 35/50\n",
            "222/222 [==============================] - 1s 4ms/step - loss: 0.0840 - binary_accuracy: 0.9837\n",
            "Epoch 36/50\n",
            "222/222 [==============================] - 1s 4ms/step - loss: 0.0829 - binary_accuracy: 0.9821\n",
            "Epoch 37/50\n",
            "222/222 [==============================] - 1s 3ms/step - loss: 0.0806 - binary_accuracy: 0.9839\n",
            "Epoch 38/50\n",
            "222/222 [==============================] - 1s 3ms/step - loss: 0.0788 - binary_accuracy: 0.9845\n",
            "Epoch 39/50\n",
            "222/222 [==============================] - 1s 3ms/step - loss: 0.0790 - binary_accuracy: 0.9834\n",
            "Epoch 40/50\n",
            "222/222 [==============================] - 1s 4ms/step - loss: 0.0780 - binary_accuracy: 0.9837\n",
            "Epoch 41/50\n",
            "222/222 [==============================] - 1s 3ms/step - loss: 0.0762 - binary_accuracy: 0.9841\n",
            "Epoch 42/50\n",
            "222/222 [==============================] - 1s 4ms/step - loss: 0.0761 - binary_accuracy: 0.9832\n",
            "Epoch 43/50\n",
            "222/222 [==============================] - 1s 3ms/step - loss: 0.0739 - binary_accuracy: 0.9842\n",
            "Epoch 44/50\n",
            "222/222 [==============================] - 1s 4ms/step - loss: 0.0748 - binary_accuracy: 0.9832\n",
            "Epoch 45/50\n",
            "222/222 [==============================] - 1s 4ms/step - loss: 0.0732 - binary_accuracy: 0.9844\n",
            "Epoch 46/50\n",
            "222/222 [==============================] - 1s 4ms/step - loss: 0.0724 - binary_accuracy: 0.9842\n",
            "Epoch 47/50\n",
            "222/222 [==============================] - 1s 3ms/step - loss: 0.0714 - binary_accuracy: 0.9859\n",
            "Epoch 48/50\n",
            "222/222 [==============================] - 1s 4ms/step - loss: 0.0702 - binary_accuracy: 0.9848\n",
            "Epoch 49/50\n",
            "222/222 [==============================] - 1s 4ms/step - loss: 0.0697 - binary_accuracy: 0.9851\n",
            "Epoch 50/50\n",
            "222/222 [==============================] - 1s 4ms/step - loss: 0.0688 - binary_accuracy: 0.9851\n"
          ]
        }
      ]
    },
    {
      "cell_type": "code",
      "metadata": {
        "id": "L2lAP4mJ-JY4",
        "outputId": "7c7688da-66b5-4668-9236-9d4d66509d89",
        "colab": {
          "base_uri": "https://localhost:8080/",
          "height": 369
        }
      },
      "source": [
        "# Plot training & validation accuracy values\n",
        "fig = plt.figure(figsize=(10,5))\n",
        "\n",
        "# Plot training & validation loss values\n",
        "ax = fig.add_subplot(1,1,1, title = 'Model loss', ylabel= 'Loss')\n",
        "plt.plot(history.history['loss'])\n",
        "# plt.plot(history.history['val_loss'])\n",
        "plt.legend(['Train', 'Test'], loc='upper left')\n",
        "\n",
        "plt.tight_layout()\n",
        "plt.show()"
      ],
      "execution_count": 29,
      "outputs": [
        {
          "output_type": "display_data",
          "data": {
            "image/png": "[encoded data removed]",
            "text/plain": [
              "<Figure size 720x360 with 1 Axes>"
            ]
          },
          "metadata": {
            "needs_background": "light"
          }
        }
      ]
    },
    {
      "cell_type": "code",
      "metadata": {
        "id": "xzgfOmqX8hqL",
        "colab": {
          "base_uri": "https://localhost:8080/",
          "height": 369
        },
        "outputId": "5c82ffa3-fa1d-40c7-a3bd-9f6580e64470"
      },
      "source": [
        "#predictions of the model for test set\n",
        "y_predict = (model.predict(X_test)>.5).astype(int)\n",
        "\n",
        "x1_list, x2_list = grid(X[:,0], X[:,1], n_points=70)\n",
        "X_grid = np.vstack([x1_list.reshape(-1),x2_list.reshape(-1)]).T\n",
        "Y_grid = model.predict( X_grid ).reshape(x1_list.shape )\n",
        "\n",
        "fig = plt.figure(figsize=(15,5))\n",
        "ax = fig.add_subplot(121 , xlabel = 'X1', ylabel='X2', title = 'Result of the Classification')\n",
        "    \n",
        "ax.contourf(x1_list, x2_list, Y_grid, alpha=.4, cmap=plt.cm.coolwarm)\n",
        "ax.scatter(*X.T, c=Y)    \n",
        "# ax.text(3, 1.4, f'Accuracy: {np.round( model.score(X_test.T, Y_test) , 3)}' , fontsize=20)\n",
        "\n",
        "ax = fig.add_subplot(122 , xlabel = 'X1', ylabel='X2', title = 'Predicitions of the NN')\n",
        "plt.scatter(*X_test.T, c = y_predict.reshape(-1))\n",
        "\n",
        "\n",
        "plt.tight_layout()\n",
        "plt.show()"
      ],
      "execution_count": 30,
      "outputs": [
        {
          "output_type": "display_data",
          "data": {
            "image/png": "[encoded data removed]",
            "text/plain": [
              "<Figure size 1080x360 with 2 Axes>"
            ]
          },
          "metadata": {
            "needs_background": "light"
          }
        }
      ]
    },
    {
      "cell_type": "markdown",
      "metadata": {
        "id": "18y41-saEmPr"
      },
      "source": [
        "### More structured"
      ]
    },
    {
      "cell_type": "code",
      "metadata": {
        "id": "7qhQ32B557Z9"
      },
      "source": [
        "n_epoch=20\n",
        "btch_size = 100\n",
        "lr = .1"
      ],
      "execution_count": 31,
      "outputs": []
    },
    {
      "cell_type": "code",
      "metadata": {
        "id": "4AX4mq3_4baU"
      },
      "source": [
        "from tensorflow import keras as ks\n",
        "\n",
        "model = ks.Sequential()\n",
        "model.add(ks.layers.Dense(10, activation=ks.activations.relu, input_dim = 2)  )\n",
        "model.add(ks.layers.Dense(10, activation=ks.activations.relu)  )\n",
        "model.add(ks.layers.Dense(1, activation=ks.activations.sigmoid)  )\n",
        "\n",
        "\n",
        "model.compile(  \n",
        "    optimizer=ks.optimizers.SGD(learning_rate=lr ), \n",
        "    loss = ks.losses.mse, \n",
        "    metrics = 'acc'    \n",
        ")"
      ],
      "execution_count": 32,
      "outputs": []
    },
    {
      "cell_type": "code",
      "metadata": {
        "id": "7XI8-JcI8hqQ",
        "colab": {
          "base_uri": "https://localhost:8080/"
        },
        "outputId": "b4aab7dd-ee66-4651-dcf4-74ef8afcdff8"
      },
      "source": [
        "# Tensorboard\n",
        "# https://www.tensorflow.org/tensorboard/get_started\n",
        "# Load the TensorBoard notebook extension\n",
        "%load_ext tensorboard\n",
        "\n",
        "# Clear any logs from previous runs\n",
        "!rm -rf ./logs/ \n",
        "\n",
        "log_dir = \"logs/fit/\" + datetime.datetime.now().strftime(\"%Y%m%d-%H%M%S\")\n",
        "tensorboard_callback = ks.callbacks.TensorBoard(log_dir=log_dir, histogram_freq=1)\n",
        "\n",
        "history = model.fit( x=X_train, \n",
        "          y=Y_train, \n",
        "          epochs=n_epoch,\n",
        "          batch_size = btch_size, \n",
        "          validation_data=(X_test, Y_test), \n",
        "          callbacks=[tensorboard_callback])\n"
      ],
      "execution_count": 33,
      "outputs": [
        {
          "output_type": "stream",
          "name": "stdout",
          "text": [
            "Epoch 1/20\n",
            "72/72 [==============================] - 1s 8ms/step - loss: 0.2393 - acc: 0.5868 - val_loss: 0.2308 - val_acc: 0.5948\n",
            "Epoch 2/20\n",
            "72/72 [==============================] - 0s 6ms/step - loss: 0.2220 - acc: 0.6110 - val_loss: 0.2181 - val_acc: 0.5851\n",
            "Epoch 3/20\n",
            "72/72 [==============================] - 0s 5ms/step - loss: 0.2092 - acc: 0.6426 - val_loss: 0.2038 - val_acc: 0.6789\n",
            "Epoch 4/20\n",
            "72/72 [==============================] - 0s 5ms/step - loss: 0.1971 - acc: 0.6831 - val_loss: 0.1973 - val_acc: 0.5877\n",
            "Epoch 5/20\n",
            "72/72 [==============================] - 0s 5ms/step - loss: 0.1861 - acc: 0.6933 - val_loss: 0.1835 - val_acc: 0.6595\n",
            "Epoch 6/20\n",
            "72/72 [==============================] - 0s 5ms/step - loss: 0.1730 - acc: 0.7389 - val_loss: 0.1762 - val_acc: 0.6003\n",
            "Epoch 7/20\n",
            "72/72 [==============================] - 0s 5ms/step - loss: 0.1605 - acc: 0.8066 - val_loss: 0.1545 - val_acc: 0.8462\n",
            "Epoch 8/20\n",
            "72/72 [==============================] - 0s 5ms/step - loss: 0.1461 - acc: 0.8476 - val_loss: 0.1588 - val_acc: 0.7909\n",
            "Epoch 9/20\n",
            "72/72 [==============================] - 0s 5ms/step - loss: 0.1315 - acc: 0.8589 - val_loss: 0.1542 - val_acc: 0.7892\n",
            "Epoch 10/20\n",
            "72/72 [==============================] - 0s 5ms/step - loss: 0.1158 - acc: 0.8745 - val_loss: 0.1262 - val_acc: 0.8407\n",
            "Epoch 11/20\n",
            "72/72 [==============================] - 0s 5ms/step - loss: 0.0979 - acc: 0.9075 - val_loss: 0.1607 - val_acc: 0.7866\n",
            "Epoch 12/20\n",
            "72/72 [==============================] - 0s 5ms/step - loss: 0.0809 - acc: 0.9393 - val_loss: 0.0950 - val_acc: 0.8441\n",
            "Epoch 13/20\n",
            "72/72 [==============================] - 0s 5ms/step - loss: 0.0673 - acc: 0.9566 - val_loss: 0.0744 - val_acc: 0.8969\n",
            "Epoch 14/20\n",
            "72/72 [==============================] - 0s 5ms/step - loss: 0.0598 - acc: 0.9530 - val_loss: 0.0637 - val_acc: 0.9552\n",
            "Epoch 15/20\n",
            "72/72 [==============================] - 0s 5ms/step - loss: 0.0519 - acc: 0.9617 - val_loss: 0.0731 - val_acc: 0.8804\n",
            "Epoch 16/20\n",
            "72/72 [==============================] - 0s 5ms/step - loss: 0.0484 - acc: 0.9603 - val_loss: 0.1422 - val_acc: 0.8166\n",
            "Epoch 17/20\n",
            "72/72 [==============================] - 0s 5ms/step - loss: 0.0479 - acc: 0.9566 - val_loss: 0.0399 - val_acc: 0.9725\n",
            "Epoch 18/20\n",
            "72/72 [==============================] - 0s 5ms/step - loss: 0.0428 - acc: 0.9618 - val_loss: 0.0375 - val_acc: 0.9704\n",
            "Epoch 19/20\n",
            "72/72 [==============================] - 0s 5ms/step - loss: 0.0425 - acc: 0.9617 - val_loss: 0.2403 - val_acc: 0.7098\n",
            "Epoch 20/20\n",
            "72/72 [==============================] - 0s 5ms/step - loss: 0.0464 - acc: 0.9470 - val_loss: 0.0398 - val_acc: 0.9789\n"
          ]
        }
      ]
    },
    {
      "cell_type": "markdown",
      "metadata": {
        "id": "9vgQj9l88hqP"
      },
      "source": [
        "### Visualization"
      ]
    },
    {
      "cell_type": "code",
      "metadata": {
        "colab": {
          "base_uri": "https://localhost:8080/"
        },
        "id": "QX22Upsn5SQL",
        "outputId": "1d5ee557-72d8-4560-8c4f-2a702a6968be"
      },
      "source": [
        "print(type(history.history))\n",
        "print(history.history.keys())"
      ],
      "execution_count": null,
      "outputs": [
        {
          "output_type": "stream",
          "text": [
            "<class 'dict'>\n",
            "dict_keys(['loss', 'acc', 'val_loss', 'val_acc'])\n"
          ],
          "name": "stdout"
        }
      ]
    },
    {
      "cell_type": "code",
      "metadata": {
        "colab": {
          "base_uri": "https://localhost:8080/",
          "height": 369
        },
        "id": "fkFb4UwC5IW5",
        "outputId": "20c15c56-70f4-440f-d960-13afa07ac7ce"
      },
      "source": [
        "# Plot training & validation accuracy values\n",
        "fig = plt.figure(figsize=(14,5))\n",
        "ax = fig.add_subplot(1,2,1, title = 'Model accuracy', ylabel= 'Accuracy')\n",
        "plt.plot(history.history['acc'])\n",
        "plt.plot(history.history['val_acc'])\n",
        "plt.legend(['Train', 'Test'], loc='upper left')\n",
        "\n",
        "# Plot training & validation loss values\n",
        "ax = fig.add_subplot(1,2,2, title = 'Model loss', ylabel= 'Loss')\n",
        "plt.plot(history.history['loss'])\n",
        "plt.plot(history.history['val_loss'])\n",
        "plt.legend(['Train', 'Test'], loc='upper left')\n",
        "\n",
        "plt.tight_layout()\n",
        "plt.show()"
      ],
      "execution_count": 34,
      "outputs": [
        {
          "output_type": "display_data",
          "data": {
            "image/png": "[encoded data removed]",
            "text/plain": [
              "<Figure size 1008x360 with 2 Axes>"
            ]
          },
          "metadata": {
            "needs_background": "light"
          }
        }
      ]
    },
    {
      "cell_type": "code",
      "metadata": {
        "id": "BTOr2Mip5nZR"
      },
      "source": [
        "%tensorboard --logdir logs/fit"
      ],
      "execution_count": null,
      "outputs": []
    },
    {
      "cell_type": "markdown",
      "metadata": {
        "id": "hVYW5F7oErmw"
      },
      "source": [
        "### Saving and loading models\n",
        "\n",
        "For more info see\n",
        "\n",
        "https://www.tensorflow.org/guide/keras/save_and_serialize"
      ]
    },
    {
      "cell_type": "code",
      "metadata": {
        "colab": {
          "base_uri": "https://localhost:8080/"
        },
        "id": "s76khAA6EvlA",
        "outputId": "77601387-caab-4486-83e3-ee034cc08c26"
      },
      "source": [
        "path = 'keras_test_model'\n",
        "model.save(path)\n"
      ],
      "execution_count": 36,
      "outputs": [
        {
          "output_type": "stream",
          "name": "stdout",
          "text": [
            "INFO:tensorflow:Assets written to: keras_test_model/assets\n"
          ]
        }
      ]
    },
    {
      "cell_type": "code",
      "metadata": {
        "colab": {
          "base_uri": "https://localhost:8080/"
        },
        "id": "bZsZ1kGhGBgg",
        "outputId": "60c11997-0113-4d6f-c409-b1d6affee818"
      },
      "source": [
        "new_model = ks.models.load_model(path)\n",
        "new_model.predict(X_test[:3])"
      ],
      "execution_count": 37,
      "outputs": [
        {
          "output_type": "execute_result",
          "data": {
            "text/plain": [
              "array([[0.02619186],\n",
              "       [0.04496951],\n",
              "       [0.72316116]], dtype=float32)"
            ]
          },
          "metadata": {},
          "execution_count": 37
        }
      ]
    },
    {
      "cell_type": "markdown",
      "metadata": {
        "id": "_myzYSTV1z7S"
      },
      "source": [
        "# Pytorch"
      ]
    },
    {
      "cell_type": "code",
      "metadata": {
        "ExecuteTime": {
          "end_time": "2020-04-26T10:02:49.506457Z",
          "start_time": "2020-04-26T10:02:49.494349Z"
        },
        "init_cell": true,
        "id": "_rmOlVVc8hqW"
      },
      "source": [
        "import torch"
      ],
      "execution_count": 38,
      "outputs": []
    },
    {
      "cell_type": "markdown",
      "metadata": {
        "id": "Rf2HrDXA1z7R"
      },
      "source": [
        "This is prepared mainly based on the tutorial from the official website and some other sources:\n",
        "\n",
        "https://pytorch.org/tutorials/beginner/deep_learning_60min_blitz.html"
      ]
    },
    {
      "cell_type": "markdown",
      "metadata": {
        "ExecuteTime": {
          "end_time": "2020-04-26T08:17:41.229158Z",
          "start_time": "2020-04-26T08:17:41.222586Z"
        },
        "heading_collapsed": true,
        "id": "Y62PJjYC8hqb"
      },
      "source": [
        "## Basics"
      ]
    },
    {
      "cell_type": "markdown",
      "metadata": {
        "heading_collapsed": true,
        "hidden": true,
        "id": "up0G4Hqm1z7S"
      },
      "source": [
        "### Pytorch as alternative to numpy"
      ]
    },
    {
      "cell_type": "code",
      "metadata": {
        "hidden": true,
        "id": "qNJk5g46MOaR",
        "colab": {
          "base_uri": "https://localhost:8080/"
        },
        "outputId": "a8b8a155-ef13-4c50-8d34-75c8d2a26da2"
      },
      "source": [
        "np.zeros((2,3))"
      ],
      "execution_count": 39,
      "outputs": [
        {
          "output_type": "execute_result",
          "data": {
            "text/plain": [
              "array([[0., 0., 0.],\n",
              "       [0., 0., 0.]])"
            ]
          },
          "metadata": {},
          "execution_count": 39
        }
      ]
    },
    {
      "cell_type": "code",
      "metadata": {
        "ExecuteTime": {
          "end_time": "2020-03-27T11:27:30.937142Z",
          "start_time": "2020-03-27T11:27:30.903632Z"
        },
        "hidden": true,
        "id": "nyW7HeLK1z7T",
        "colab": {
          "base_uri": "https://localhost:8080/"
        },
        "outputId": "6485ffb5-8880-4869-f365-88ec1c62dc81"
      },
      "source": [
        "### A bunch of zeros\n",
        "a = torch.zeros( (2,3))\n",
        "a"
      ],
      "execution_count": 40,
      "outputs": [
        {
          "output_type": "execute_result",
          "data": {
            "text/plain": [
              "tensor([[0., 0., 0.],\n",
              "        [0., 0., 0.]])"
            ]
          },
          "metadata": {},
          "execution_count": 40
        }
      ]
    },
    {
      "cell_type": "code",
      "metadata": {
        "hidden": true,
        "id": "iwdD07Pt1z7Y",
        "colab": {
          "base_uri": "https://localhost:8080/"
        },
        "outputId": "30dcb224-61be-46c2-9f2e-8285adfccbeb"
      },
      "source": [
        "a = torch.rand( 2,3 )\n",
        "a"
      ],
      "execution_count": 41,
      "outputs": [
        {
          "output_type": "execute_result",
          "data": {
            "text/plain": [
              "tensor([[0.0414, 0.5257, 0.8193],\n",
              "        [0.6104, 0.5448, 0.7749]])"
            ]
          },
          "metadata": {},
          "execution_count": 41
        }
      ]
    },
    {
      "cell_type": "markdown",
      "metadata": {
        "heading_collapsed": true,
        "hidden": true,
        "id": "4pBsRp0S1z7a"
      },
      "source": [
        "### Converting numpy array to tensor and reverse"
      ]
    },
    {
      "cell_type": "code",
      "metadata": {
        "ExecuteTime": {
          "end_time": "2020-03-27T12:08:43.905962Z",
          "start_time": "2020-03-27T12:08:43.891787Z"
        },
        "hidden": true,
        "id": "-gUQfePv1z7b",
        "colab": {
          "base_uri": "https://localhost:8080/"
        },
        "outputId": "86444e2d-5979-49f1-dfb5-ac2d4e9ed9aa"
      },
      "source": [
        "# We can convert our np arrays to tensors\n",
        "a = np.random.uniform(0,3, size = (2,3))\n",
        "a = torch.tensor(a)\n",
        "# a = torch.from_numpy(a)\n",
        "a"
      ],
      "execution_count": 42,
      "outputs": [
        {
          "output_type": "execute_result",
          "data": {
            "text/plain": [
              "tensor([[0.3944, 0.8824, 2.3419],\n",
              "        [2.8303, 2.5990, 0.4919]], dtype=torch.float64)"
            ]
          },
          "metadata": {},
          "execution_count": 42
        }
      ]
    },
    {
      "cell_type": "code",
      "metadata": {
        "ExecuteTime": {
          "end_time": "2020-03-27T12:17:31.129948Z",
          "start_time": "2020-03-27T12:17:31.113807Z"
        },
        "hidden": true,
        "id": "m7NStrrJ1z7e",
        "colab": {
          "base_uri": "https://localhost:8080/"
        },
        "outputId": "c0aaf9ce-19a7-4723-dee4-6e30df3c28d5"
      },
      "source": [
        "a.numpy()"
      ],
      "execution_count": 43,
      "outputs": [
        {
          "output_type": "execute_result",
          "data": {
            "text/plain": [
              "array([[0.39442944, 0.88242436, 2.34187879],\n",
              "       [2.83030719, 2.59900584, 0.49192162]])"
            ]
          },
          "metadata": {},
          "execution_count": 43
        }
      ]
    },
    {
      "cell_type": "code",
      "metadata": {
        "ExecuteTime": {
          "end_time": "2020-03-27T12:17:35.794914Z",
          "start_time": "2020-03-27T12:17:35.780994Z"
        },
        "hidden": true,
        "id": "5xE1iD5H1z7i",
        "colab": {
          "base_uri": "https://localhost:8080/"
        },
        "outputId": "b7e6debf-fa9b-42e6-bebb-07fdcd9ff8d9"
      },
      "source": [
        "a"
      ],
      "execution_count": 44,
      "outputs": [
        {
          "output_type": "execute_result",
          "data": {
            "text/plain": [
              "tensor([[0.3944, 0.8824, 2.3419],\n",
              "        [2.8303, 2.5990, 0.4919]], dtype=torch.float64)"
            ]
          },
          "metadata": {},
          "execution_count": 44
        }
      ]
    },
    {
      "cell_type": "code",
      "metadata": {
        "ExecuteTime": {
          "end_time": "2020-03-27T12:21:49.418221Z",
          "start_time": "2020-03-27T12:21:49.392384Z"
        },
        "hidden": true,
        "id": "KBItngSY1z7l",
        "colab": {
          "base_uri": "https://localhost:8080/"
        },
        "outputId": "711b21a9-2af9-4d4b-8d7b-135cf5ca0f86"
      },
      "source": [
        "print(a)\n",
        "\n",
        "a_np = a.numpy()\n",
        "print(a_np)\n",
        "\n",
        "\n",
        "# The value of the numpy version is linked to the original tensor. \n",
        "a+=1\n",
        "print('\\n The value of a is updated. \\n')\n",
        "print(a)\n",
        "\n",
        "print(a_np)\n",
        "\n"
      ],
      "execution_count": 46,
      "outputs": [
        {
          "output_type": "stream",
          "name": "stdout",
          "text": [
            "tensor([[1.3944, 1.8824, 3.3419],\n",
            "        [3.8303, 3.5990, 1.4919]], dtype=torch.float64)\n",
            "[[1.39442944 1.88242436 3.34187879]\n",
            " [3.83030719 3.59900584 1.49192162]]\n",
            "\n",
            " The value of a is updated. \n",
            "\n",
            "tensor([[2.3944, 2.8824, 4.3419],\n",
            "        [4.8303, 4.5990, 2.4919]], dtype=torch.float64)\n",
            "[[2.39442944 2.88242436 4.34187879]\n",
            " [4.83030719 4.59900584 2.49192162]]\n"
          ]
        }
      ]
    },
    {
      "cell_type": "markdown",
      "metadata": {
        "heading_collapsed": true,
        "hidden": true,
        "id": "sTy_cs4Q1z7o"
      },
      "source": [
        "### Tensor operations"
      ]
    },
    {
      "cell_type": "code",
      "metadata": {
        "ExecuteTime": {
          "end_time": "2020-03-27T12:19:02.975705Z",
          "start_time": "2020-03-27T12:19:02.958196Z"
        },
        "hidden": true,
        "id": "xv3BqMk31z7p",
        "colab": {
          "base_uri": "https://localhost:8080/"
        },
        "outputId": "28303a67-ebd3-451c-a3fe-dacc744cd4ab"
      },
      "source": [
        "print(a)\n",
        "\n",
        "## Similar to numpy, values are broadcasted.\n",
        "print(a+1)"
      ],
      "execution_count": 47,
      "outputs": [
        {
          "output_type": "stream",
          "name": "stdout",
          "text": [
            "tensor([[2.3944, 2.8824, 4.3419],\n",
            "        [4.8303, 4.5990, 2.4919]], dtype=torch.float64)\n",
            "tensor([[3.3944, 3.8824, 5.3419],\n",
            "        [5.8303, 5.5990, 3.4919]], dtype=torch.float64)\n"
          ]
        }
      ]
    },
    {
      "cell_type": "code",
      "metadata": {
        "ExecuteTime": {
          "end_time": "2020-03-27T12:05:06.818639Z",
          "start_time": "2020-03-27T12:05:06.803436Z"
        },
        "hidden": true,
        "id": "wE1BBkmN1z7r",
        "colab": {
          "base_uri": "https://localhost:8080/"
        },
        "outputId": "0307e1f0-5b17-4950-95be-3a68f245b672"
      },
      "source": [
        "b = torch.tensor(np.random.uniform( 0,3, (2,3) )  )\n",
        "\n",
        "#Transposition\n",
        "b.t()"
      ],
      "execution_count": 48,
      "outputs": [
        {
          "output_type": "execute_result",
          "data": {
            "text/plain": [
              "tensor([[2.1256, 2.4286],\n",
              "        [2.3388, 1.5498],\n",
              "        [2.9496, 1.8113]], dtype=torch.float64)"
            ]
          },
          "metadata": {},
          "execution_count": 48
        }
      ]
    },
    {
      "cell_type": "code",
      "metadata": {
        "ExecuteTime": {
          "end_time": "2020-03-27T12:06:49.163858Z",
          "start_time": "2020-03-27T12:06:49.152715Z"
        },
        "hidden": true,
        "id": "NBlyn3571z7u",
        "colab": {
          "base_uri": "https://localhost:8080/"
        },
        "outputId": "157314ae-612f-4f2d-c192-c083ac381143"
      },
      "source": [
        "#Shape\n",
        "print(f\"The shape of b is {b.size()}.\"  )\n",
        "\n",
        "#Reshape\n",
        "print(f\"We can flatten b to {b.view(-1)}.\"  )"
      ],
      "execution_count": 49,
      "outputs": [
        {
          "output_type": "stream",
          "name": "stdout",
          "text": [
            "The shape of b is torch.Size([2, 3]).\n",
            "We can flatten b to tensor([2.1256, 2.3388, 2.9496, 2.4286, 1.5498, 1.8113], dtype=torch.float64).\n"
          ]
        }
      ]
    },
    {
      "cell_type": "code",
      "metadata": {
        "ExecuteTime": {
          "end_time": "2020-03-27T12:14:24.340356Z",
          "start_time": "2020-03-27T12:14:24.329970Z"
        },
        "hidden": true,
        "id": "I8el3Koh1z7x",
        "colab": {
          "base_uri": "https://localhost:8080/"
        },
        "outputId": "d49f4585-044f-4f45-b277-5fb9663fbe97"
      },
      "source": [
        "# Matrix Multipication\n",
        "print(f\"The matrix multipication of a.b is \\n{torch.mm(a , b.t())  }.\"  )\n"
      ],
      "execution_count": 50,
      "outputs": [
        {
          "output_type": "stream",
          "name": "stdout",
          "text": [
            "The matrix multipication of a.b is \n",
            "tensor([[24.6375, 18.1467],\n",
            "        [28.3733, 23.3721]], dtype=torch.float64).\n"
          ]
        }
      ]
    },
    {
      "cell_type": "code",
      "metadata": {
        "ExecuteTime": {
          "end_time": "2020-03-27T12:15:09.150939Z",
          "start_time": "2020-03-27T12:15:09.124561Z"
        },
        "hidden": true,
        "id": "NWYXCeXh1z71",
        "colab": {
          "base_uri": "https://localhost:8080/"
        },
        "outputId": "00974051-fe44-43c9-8e16-2965e9dcc294"
      },
      "source": [
        "# Or we can do\n",
        "a.mm(b.t())"
      ],
      "execution_count": 51,
      "outputs": [
        {
          "output_type": "execute_result",
          "data": {
            "text/plain": [
              "tensor([[24.6375, 18.1467],\n",
              "        [28.3733, 23.3721]], dtype=torch.float64)"
            ]
          },
          "metadata": {},
          "execution_count": 51
        }
      ]
    },
    {
      "cell_type": "markdown",
      "metadata": {
        "heading_collapsed": true,
        "hidden": true,
        "id": "5ns2Pq871z73"
      },
      "source": [
        "### Empty tensors"
      ]
    },
    {
      "cell_type": "code",
      "metadata": {
        "ExecuteTime": {
          "end_time": "2020-03-27T12:12:39.386468Z",
          "start_time": "2020-03-27T12:12:39.370821Z"
        },
        "hidden": true,
        "id": "f0pg2Uui1z74",
        "outputId": "9a660596-7cfc-4ea3-a378-42e187039ff0",
        "colab": {
          "base_uri": "https://localhost:8080/"
        }
      },
      "source": [
        "x = torch.empty((2,2),dtype=torch.float64)\n",
        "\n",
        "x"
      ],
      "execution_count": 52,
      "outputs": [
        {
          "output_type": "execute_result",
          "data": {
            "text/plain": [
              "tensor([[4.6672e-310, 1.1858e-322],\n",
              "        [ 2.8373e+01, 1.7456e+238]], dtype=torch.float64)"
            ]
          },
          "metadata": {},
          "execution_count": 52
        }
      ]
    },
    {
      "cell_type": "code",
      "metadata": {
        "ExecuteTime": {
          "end_time": "2020-03-27T12:13:57.387850Z",
          "start_time": "2020-03-27T12:13:57.376574Z"
        },
        "hidden": true,
        "id": "XgnC39dv1z76",
        "outputId": "b906217c-dd87-4025-99ed-b7781ae85734",
        "colab": {
          "base_uri": "https://localhost:8080/"
        }
      },
      "source": [
        "torch.mm(a , b.t(), out = x)\n",
        "\n",
        "print(f\"x is now updated to\\n{x}.\")"
      ],
      "execution_count": 53,
      "outputs": [
        {
          "output_type": "stream",
          "name": "stdout",
          "text": [
            "x is now updated to\n",
            "tensor([[24.6375, 18.1467],\n",
            "        [28.3733, 23.3721]], dtype=torch.float64).\n"
          ]
        }
      ]
    },
    {
      "cell_type": "markdown",
      "metadata": {
        "heading_collapsed": true,
        "hidden": true,
        "id": "AvJuZGcu1z7_"
      },
      "source": [
        "### GPU\n",
        "\n",
        "One cool feature of pytorch is that it presents a cool alternative to numpy but with the advantage that the operations can be run on GPU. Note that that numpy arrays and operations are not GPU enabled (at least not out of the box)."
      ]
    },
    {
      "cell_type": "code",
      "metadata": {
        "ExecuteTime": {
          "end_time": "2020-03-27T12:47:09.377042Z",
          "start_time": "2020-03-27T12:47:08.028134Z"
        },
        "hidden": true,
        "id": "9aUzArhD1z7_",
        "colab": {
          "base_uri": "https://localhost:8080/"
        },
        "outputId": "ad18931a-0adc-4ee3-8f48-4e1ea9b92147"
      },
      "source": [
        "device = torch.device(\"cuda:0\" if torch.cuda.is_available() else \"cpu\")\n",
        "print(device)"
      ],
      "execution_count": 54,
      "outputs": [
        {
          "output_type": "stream",
          "name": "stdout",
          "text": [
            "cuda:0\n"
          ]
        }
      ]
    },
    {
      "cell_type": "code",
      "metadata": {
        "ExecuteTime": {
          "end_time": "2020-03-27T12:33:45.142021Z",
          "start_time": "2020-03-27T12:33:45.122144Z"
        },
        "hidden": true,
        "id": "Sv_75HOx1z8C",
        "colab": {
          "base_uri": "https://localhost:8080/"
        },
        "outputId": "ea96817e-185e-4bfd-bfd8-d2af60cfd231"
      },
      "source": [
        "a = np.random.uniform(0,3, size = (2,3))\n",
        "print(a)\n",
        "# a = torch.tensor(a, device=device, dtype = torch.int)\n",
        "a = torch.from_numpy(a).to(device)\n",
        "a"
      ],
      "execution_count": 55,
      "outputs": [
        {
          "output_type": "stream",
          "name": "stdout",
          "text": [
            "[[1.93446793 1.22842365 0.84499213]\n",
            " [1.42445614 1.41918468 2.20524853]]\n"
          ]
        },
        {
          "output_type": "execute_result",
          "data": {
            "text/plain": [
              "tensor([[1.9345, 1.2284, 0.8450],\n",
              "        [1.4245, 1.4192, 2.2052]], device='cuda:0', dtype=torch.float64)"
            ]
          },
          "metadata": {},
          "execution_count": 55
        }
      ]
    },
    {
      "cell_type": "markdown",
      "metadata": {
        "heading_collapsed": true,
        "hidden": true,
        "id": "-CLURPvt1z8E"
      },
      "source": [
        "#### Speedup over GPU."
      ]
    },
    {
      "cell_type": "code",
      "metadata": {
        "ExecuteTime": {
          "end_time": "2020-03-27T12:47:18.569000Z",
          "start_time": "2020-03-27T12:47:13.507010Z"
        },
        "hidden": true,
        "id": "QdijhTx11z8F",
        "colab": {
          "base_uri": "https://localhost:8080/"
        },
        "outputId": "8f3e7f26-3976-4f7f-d291-d8723ff7a354"
      },
      "source": [
        "%%time\n",
        "d_mat = 10**4\n",
        "a = np.random.rand(d_mat, d_mat)\n",
        "b = np.random.rand(d_mat, d_mat)\n"
      ],
      "execution_count": 57,
      "outputs": [
        {
          "output_type": "stream",
          "name": "stdout",
          "text": [
            "CPU times: user 1.84 s, sys: 986 ms, total: 2.82 s\n",
            "Wall time: 2.81 s\n"
          ]
        }
      ]
    },
    {
      "cell_type": "code",
      "metadata": {
        "ExecuteTime": {
          "end_time": "2020-03-27T12:47:19.836108Z",
          "start_time": "2020-03-27T12:47:18.869375Z"
        },
        "hidden": true,
        "id": "hP-SpjQa1z8H",
        "colab": {
          "base_uri": "https://localhost:8080/"
        },
        "outputId": "43fd1284-8b5d-4067-8821-8556eed4131a"
      },
      "source": [
        "%%time\n",
        "for i in range(10):\n",
        "  c = a+b"
      ],
      "execution_count": 58,
      "outputs": [
        {
          "output_type": "stream",
          "name": "stdout",
          "text": [
            "CPU times: user 27.3 s, sys: 784 ms, total: 28 s\n",
            "Wall time: 27.5 s\n"
          ]
        }
      ]
    },
    {
      "cell_type": "code",
      "metadata": {
        "ExecuteTime": {
          "end_time": "2020-03-27T12:48:12.494518Z",
          "start_time": "2020-03-27T12:48:11.955368Z"
        },
        "hidden": true,
        "id": "6e0SVKbO1z8J"
      },
      "source": [
        "a_t = torch.tensor(a)\n",
        "b_t = torch.tensor(b)"
      ],
      "execution_count": 59,
      "outputs": []
    },
    {
      "cell_type": "code",
      "metadata": {
        "ExecuteTime": {
          "end_time": "2020-03-27T12:48:13.108729Z",
          "start_time": "2020-03-27T12:48:12.740109Z"
        },
        "hidden": true,
        "id": "6qrBrteO1z8L",
        "colab": {
          "base_uri": "https://localhost:8080/"
        },
        "outputId": "8480c2ee-6fe7-4fab-a24f-838298759b26"
      },
      "source": [
        "%%time\n",
        "for i in range(100):\n",
        "  c_t = a_t+b_t"
      ],
      "execution_count": 62,
      "outputs": [
        {
          "output_type": "stream",
          "name": "stdout",
          "text": [
            "CPU times: user 32.9 s, sys: 1.76 s, total: 34.7 s\n",
            "Wall time: 32.6 s\n"
          ]
        }
      ]
    },
    {
      "cell_type": "code",
      "metadata": {
        "ExecuteTime": {
          "end_time": "2020-03-27T12:47:37.279737Z",
          "start_time": "2020-03-27T12:47:26.638381Z"
        },
        "hidden": true,
        "id": "85zrjxbK1z8O"
      },
      "source": [
        "a_t = torch.tensor(a, device=device)\n",
        "b_t = torch.tensor(b, device=device)"
      ],
      "execution_count": 63,
      "outputs": []
    },
    {
      "cell_type": "code",
      "metadata": {
        "ExecuteTime": {
          "end_time": "2020-03-27T12:47:38.237113Z",
          "start_time": "2020-03-27T12:47:38.183692Z"
        },
        "hidden": true,
        "id": "uW8zLJkX1z8Q",
        "colab": {
          "base_uri": "https://localhost:8080/"
        },
        "outputId": "132fa7f2-073b-44e9-8713-265603b6a5d0"
      },
      "source": [
        "%%time\n",
        "for i in range(100):\n",
        "  c_t = a_t+b_t"
      ],
      "execution_count": 64,
      "outputs": [
        {
          "output_type": "stream",
          "name": "stdout",
          "text": [
            "CPU times: user 2.17 ms, sys: 4.26 ms, total: 6.43 ms\n",
            "Wall time: 9.87 ms\n"
          ]
        }
      ]
    },
    {
      "cell_type": "markdown",
      "metadata": {
        "heading_collapsed": true,
        "hidden": true,
        "id": "TOCTbJ6u1z8S"
      },
      "source": [
        "#### But be careful, it is not always wise to use GPU."
      ]
    },
    {
      "cell_type": "code",
      "metadata": {
        "ExecuteTime": {
          "end_time": "2020-03-27T12:36:05.901022Z",
          "start_time": "2020-03-27T12:36:00.284021Z"
        },
        "hidden": true,
        "id": "Z5rdtrh31z8T",
        "colab": {
          "base_uri": "https://localhost:8080/"
        },
        "outputId": "065c2955-a537-4cc7-a915-e109bea8e887"
      },
      "source": [
        "%%time\n",
        "## Let's compare the speed. \n",
        "n_run = 10**6\n",
        "a = np.ones((3,3))\n",
        "\n",
        "for i in range(n_run):\n",
        "    np.matmul(a,a)\n",
        "\n"
      ],
      "execution_count": 65,
      "outputs": [
        {
          "output_type": "stream",
          "name": "stdout",
          "text": [
            "CPU times: user 1.7 s, sys: 11.5 ms, total: 1.71 s\n",
            "Wall time: 1.72 s\n"
          ]
        }
      ]
    },
    {
      "cell_type": "code",
      "metadata": {
        "ExecuteTime": {
          "end_time": "2020-03-27T12:36:00.249262Z",
          "start_time": "2020-03-27T12:35:55.126009Z"
        },
        "hidden": true,
        "id": "yZWKxwLc1z8V",
        "colab": {
          "base_uri": "https://localhost:8080/"
        },
        "outputId": "95b0f1cd-403a-4a70-d536-2d1aa4f98b9b"
      },
      "source": [
        "%%time\n",
        "## Let's compare the speed. \n",
        "n_run = 10**6\n",
        "a = np.ones((3,3))\n",
        "\n",
        "for i in range(n_run):\n",
        "    np.dot(a,a)\n",
        "\n"
      ],
      "execution_count": 66,
      "outputs": [
        {
          "output_type": "stream",
          "name": "stdout",
          "text": [
            "CPU times: user 1.54 s, sys: 1.53 ms, total: 1.54 s\n",
            "Wall time: 1.54 s\n"
          ]
        }
      ]
    },
    {
      "cell_type": "code",
      "metadata": {
        "ExecuteTime": {
          "end_time": "2020-03-27T12:36:29.337407Z",
          "start_time": "2020-03-27T12:36:18.331727Z"
        },
        "hidden": true,
        "id": "YtsBeyGr1z8X",
        "colab": {
          "base_uri": "https://localhost:8080/"
        },
        "outputId": "fcd81d30-82ad-4b6e-84f5-0f7a785659d8"
      },
      "source": [
        "%%time\n",
        "## Let's compare the speed. \n",
        "n_run = 10**6\n",
        "a = torch.ones((3,3), device=device)\n",
        "\n",
        "for i in range(n_run):\n",
        "    torch.mm(a,a)\n",
        "\n"
      ],
      "execution_count": 67,
      "outputs": [
        {
          "output_type": "stream",
          "name": "stdout",
          "text": [
            "CPU times: user 9.94 s, sys: 376 ms, total: 10.3 s\n",
            "Wall time: 10.4 s\n"
          ]
        }
      ]
    },
    {
      "cell_type": "markdown",
      "metadata": {
        "heading_collapsed": true,
        "id": "HV2AO9Yx1z8Z"
      },
      "source": [
        "## Autograd"
      ]
    },
    {
      "cell_type": "code",
      "metadata": {
        "id": "SeK_CJDo2427"
      },
      "source": [
        "import torch"
      ],
      "execution_count": null,
      "outputs": []
    },
    {
      "cell_type": "code",
      "metadata": {
        "ExecuteTime": {
          "end_time": "2020-04-26T08:37:38.867218Z",
          "start_time": "2020-04-26T08:37:38.855540Z"
        },
        "hidden": true,
        "id": "qS7R1i8q1z8a",
        "colab": {
          "base_uri": "https://localhost:8080/"
        },
        "outputId": "2f9456cd-e4b6-4041-d505-8355200f8c41"
      },
      "source": [
        "'''\n",
        "We can specify the parameters that we want to track for optimization. \n",
        "For this we set the requires_grad to True. \n",
        "This means that for all the following computations, for any function \n",
        "of the variable, the respective derivatives will be kept. \n",
        "'''\n",
        "a = torch.rand(1,3, requires_grad=True)\n",
        "b = torch.rand(3,1, requires_grad = True)\n",
        "print(a)\n",
        "print(b)"
      ],
      "execution_count": null,
      "outputs": [
        {
          "output_type": "stream",
          "text": [
            "tensor([[0.9370, 0.3636, 0.9968]], requires_grad=True)\n",
            "tensor([[0.0030],\n",
            "        [0.2350],\n",
            "        [0.8858]], requires_grad=True)\n"
          ],
          "name": "stdout"
        }
      ]
    },
    {
      "cell_type": "code",
      "metadata": {
        "ExecuteTime": {
          "end_time": "2020-04-26T08:37:46.286177Z",
          "start_time": "2020-04-26T08:37:46.274178Z"
        },
        "hidden": true,
        "id": "YNrCVIUT8g5_",
        "colab": {
          "base_uri": "https://localhost:8080/"
        },
        "outputId": "8f821688-68a0-4e0e-e57f-e222a9b6c31c"
      },
      "source": [
        "'''\n",
        "Take this function for example. \n",
        "If you look at it, you'll see that it has an extra element, the grad_fn. \n",
        "This is in fact dy(a)/da.\n",
        "'''\n",
        "y = (a + 2).mean()\n",
        "# y = torch.mm(a,b)\n",
        "print( f'The gradient function is {y.grad_fn}.\\n' )\n",
        "y"
      ],
      "execution_count": null,
      "outputs": [
        {
          "output_type": "stream",
          "text": [
            "The gradient function is <MeanBackward0 object at 0x7fed101a3d50>.\n",
            "\n"
          ],
          "name": "stdout"
        },
        {
          "output_type": "execute_result",
          "data": {
            "text/plain": [
              "tensor(2.7462, grad_fn=<MeanBackward0>)"
            ]
          },
          "metadata": {
            "tags": []
          },
          "execution_count": 104
        }
      ]
    },
    {
      "cell_type": "code",
      "metadata": {
        "ExecuteTime": {
          "end_time": "2020-04-26T08:37:49.348842Z",
          "start_time": "2020-04-26T08:37:49.336311Z"
        },
        "hidden": true,
        "id": "YARE75D88kik",
        "colab": {
          "base_uri": "https://localhost:8080/"
        },
        "outputId": "3e631681-7adc-40ad-b68a-812834e1af61"
      },
      "source": [
        "'''\n",
        "Now if we want to calculate the derivatives with respect to the variable, \n",
        "we can simply call the backward() method on the output/final variable. \n",
        "'''\n",
        "y.backward()\n",
        "print(a.grad)\n",
        "print(b.grad)"
      ],
      "execution_count": null,
      "outputs": [
        {
          "output_type": "stream",
          "text": [
            "tensor([[0.3333, 0.3333, 0.3333]])\n",
            "None\n"
          ],
          "name": "stdout"
        }
      ]
    },
    {
      "cell_type": "code",
      "metadata": {
        "ExecuteTime": {
          "end_time": "2020-04-26T08:33:34.126451Z",
          "start_time": "2020-04-26T08:33:34.104977Z"
        },
        "hidden": true,
        "id": "nUAYm-kv8trN",
        "colab": {
          "base_uri": "https://localhost:8080/"
        },
        "outputId": "fcaeb757-8fe0-41f7-ab96-9c3d1e81bb7c"
      },
      "source": [
        "'''\n",
        "You need to be careful when you calculate the gradients with this. \n",
        "It accumulates the gradients, \n",
        "'''\n",
        "for i in range(3):\n",
        "    y.backward()\n",
        "    print(a.grad, '\\n')"
      ],
      "execution_count": null,
      "outputs": [
        {
          "output_type": "stream",
          "text": [
            "tensor([[0.6667, 0.6667, 0.6667]]) \n",
            "\n",
            "tensor([[1., 1., 1.]]) \n",
            "\n",
            "tensor([[1.3333, 1.3333, 1.3333]]) \n",
            "\n"
          ],
          "name": "stdout"
        }
      ]
    },
    {
      "cell_type": "code",
      "metadata": {
        "ExecuteTime": {
          "end_time": "2020-04-26T08:36:47.990810Z",
          "start_time": "2020-04-26T08:36:47.976741Z"
        },
        "hidden": true,
        "id": "jkenmZZ68hrx",
        "colab": {
          "base_uri": "https://localhost:8080/"
        },
        "outputId": "4f19c947-96c6-4b28-baab-393238f1719b"
      },
      "source": [
        "'''\n",
        "So we would need to reset the grad of the variable, i.e.\n",
        "'''\n",
        "a.grad.zero_()\n",
        "\n",
        "print(a.grad, '\\n')\n",
        "\n",
        "y.backward()\n",
        "print(a.grad)\n",
        "\n"
      ],
      "execution_count": null,
      "outputs": [
        {
          "output_type": "stream",
          "text": [
            "tensor([[0., 0., 0.]]) \n",
            "\n",
            "tensor([[0.3333, 0.3333, 0.3333]])\n"
          ],
          "name": "stdout"
        }
      ]
    },
    {
      "cell_type": "code",
      "metadata": {
        "id": "5Pps3euc-lfh",
        "colab": {
          "base_uri": "https://localhost:8080/"
        },
        "outputId": "2b3cbc73-b227-4207-a06e-2d3b6eb920fd"
      },
      "source": [
        "z"
      ],
      "execution_count": null,
      "outputs": [
        {
          "output_type": "execute_result",
          "data": {
            "text/plain": [
              "tensor([[1.8739, 0.7271, 1.9935]], grad_fn=<MulBackward0>)"
            ]
          },
          "metadata": {
            "tags": []
          },
          "execution_count": 40
        }
      ]
    },
    {
      "cell_type": "code",
      "metadata": {
        "colab": {
          "base_uri": "https://localhost:8080/"
        },
        "id": "p2sFRY3T5N_T",
        "outputId": "b8389bc5-1629-4419-b243-c038f7bc148e"
      },
      "source": [
        "### Multidimensional output\n",
        "z = 2 * a\n",
        "print(z)\n",
        "a.grad.zero_()\n",
        "\n",
        "z.backward(torch.tensor([[0,1,1]]))\n",
        "\n",
        "a.grad"
      ],
      "execution_count": null,
      "outputs": [
        {
          "output_type": "stream",
          "text": [
            "tensor([[1.8739, 0.7271, 1.9935]], grad_fn=<MulBackward0>)\n"
          ],
          "name": "stdout"
        },
        {
          "output_type": "execute_result",
          "data": {
            "text/plain": [
              "tensor([[0., 2., 2.]])"
            ]
          },
          "metadata": {
            "tags": []
          },
          "execution_count": 43
        }
      ]
    },
    {
      "cell_type": "markdown",
      "metadata": {
        "hidden": true,
        "id": "JmggY9G-8hry"
      },
      "source": [
        "#### Simple Optimization Example"
      ]
    },
    {
      "cell_type": "code",
      "metadata": {
        "ExecuteTime": {
          "end_time": "2020-04-26T08:52:10.713472Z",
          "start_time": "2020-04-26T08:52:10.580439Z"
        },
        "hidden": true,
        "id": "A5knHx1U8hry",
        "colab": {
          "base_uri": "https://localhost:8080/",
          "height": 291
        },
        "outputId": "ab5f496b-fed9-479b-e86d-f01eee1fdedd"
      },
      "source": [
        "x_list = np.arange(-1,1.1,.1)\n",
        "y_list = x_list**2\n",
        "\n",
        "plt.plot(x_list, y_list)"
      ],
      "execution_count": null,
      "outputs": [
        {
          "output_type": "execute_result",
          "data": {
            "text/plain": [
              "[<matplotlib.lines.Line2D at 0x7fecbd2fa750>]"
            ]
          },
          "metadata": {
            "tags": []
          },
          "execution_count": 112
        },
        {
          "output_type": "display_data",
          "data": {
            "image/png": "[encoded data removed]",
            "text/plain": [
              "<Figure size 576x288 with 1 Axes>"
            ]
          },
          "metadata": {
            "tags": [],
            "needs_background": "light"
          }
        }
      ]
    },
    {
      "cell_type": "code",
      "metadata": {
        "id": "3uyHfXoEiOwW",
        "colab": {
          "base_uri": "https://localhost:8080/"
        },
        "outputId": "ea8da9ad-1c81-4929-e36c-fe0ce05bea13"
      },
      "source": [
        "import torch\n",
        "import numpy as np\n",
        "# y.backward()\n",
        "# x.grad + x\n",
        "\n",
        "\n",
        "n_itr = 10\n",
        "lr = .1\n",
        "\n",
        "x = torch.tensor(.5, requires_grad=True)\n",
        "x_hist = [x.detach().numpy().copy() ]\n",
        "\n",
        "for i in range(n_itr):\n",
        "  y = x**2\n",
        "  print(f'for iteration {i}, we get:')\n",
        "  y.backward()\n",
        "  print(f' The derivative is: {x.grad}')\n",
        "  print(f' and x is {x}. \\n')\n",
        "  with torch.no_grad():\n",
        "    x -= lr * x.grad\n",
        "  # x.requires_grad_ = True\n",
        "  # print(x.grad)\n",
        "  x.grad.zero_()\n",
        "  x_hist +=[x.detach().numpy().copy() ]\n",
        "    \n",
        "\n",
        "x_hist = np.array(x_hist)"
      ],
      "execution_count": null,
      "outputs": [
        {
          "output_type": "stream",
          "text": [
            "for iteration 0, we get:\n",
            " The derivative is: 1.0\n",
            " and x is 0.5. \n",
            "\n",
            "for iteration 1, we get:\n",
            " The derivative is: 0.800000011920929\n",
            " and x is 0.4000000059604645. \n",
            "\n",
            "for iteration 2, we get:\n",
            " The derivative is: 0.6399999856948853\n",
            " and x is 0.3199999928474426. \n",
            "\n",
            "for iteration 3, we get:\n",
            " The derivative is: 0.5119999647140503\n",
            " and x is 0.25599998235702515. \n",
            "\n",
            "for iteration 4, we get:\n",
            " The derivative is: 0.4095999598503113\n",
            " and x is 0.20479997992515564. \n",
            "\n",
            "for iteration 5, we get:\n",
            " The derivative is: 0.32767996191978455\n",
            " and x is 0.16383998095989227. \n",
            "\n",
            "for iteration 6, we get:\n",
            " The derivative is: 0.26214396953582764\n",
            " and x is 0.13107198476791382. \n",
            "\n",
            "for iteration 7, we get:\n",
            " The derivative is: 0.20971517264842987\n",
            " and x is 0.10485758632421494. \n",
            "\n",
            "for iteration 8, we get:\n",
            " The derivative is: 0.16777214407920837\n",
            " and x is 0.08388607203960419. \n",
            "\n",
            "for iteration 9, we get:\n",
            " The derivative is: 0.13421770930290222\n",
            " and x is 0.06710885465145111. \n",
            "\n"
          ],
          "name": "stdout"
        }
      ]
    },
    {
      "cell_type": "code",
      "metadata": {
        "ExecuteTime": {
          "end_time": "2020-04-26T09:17:00.995552Z",
          "start_time": "2020-04-26T09:17:00.984553Z"
        },
        "hidden": true,
        "id": "pfye3Eck8hr4"
      },
      "source": [
        "x = torch.tensor(.5, requires_grad=True)\n",
        "y = x**2\n",
        "\n",
        "x_opt = x.detach().numpy()\n",
        "x_hist = [x_opt.copy() ]\n",
        "n_itr = 10\n",
        "lr = .1\n",
        "\n",
        "\n",
        "for i in range(n_itr):\n",
        "\n",
        "    x = torch.tensor(x_opt , requires_grad=True)\n",
        "#     print(x)\n",
        "    y = x**2\n",
        "    \n",
        "    y.backward()\n",
        "#     print(x.grad)\n",
        "    # x_opt = x_opt - lr*dy/dx\n",
        "    x_opt -= lr * x.grad.numpy()\n",
        "    x_hist +=[x_opt.copy()]\n",
        "    \n",
        "\n",
        "x_hist = np.array(x_hist)"
      ],
      "execution_count": null,
      "outputs": []
    },
    {
      "cell_type": "code",
      "metadata": {
        "ExecuteTime": {
          "end_time": "2020-04-26T09:35:08.234473Z",
          "start_time": "2020-04-26T09:35:08.019416Z"
        },
        "hidden": true,
        "id": "JbaEEMVo8hr9",
        "colab": {
          "base_uri": "https://localhost:8080/"
        },
        "outputId": "db85ab4c-d537-48cc-a761-d322ff5c528c"
      },
      "source": [
        "x_hist\n",
        "y_hist = x_hist**2\n",
        "\n",
        "fig = plt.figure(figsize=(15,5))\n",
        "ax = fig.add_subplot(111 , xlabel = 'X1', ylabel='X2', title = 'Result of the Classification')\n",
        "ax.plot(x_list, y_list)\n",
        "ax.scatter(x_hist, y_hist, s=20, c = 'r' )\n",
        "\n",
        "for i in range(len(x_hist)):\n",
        "    ax.annotate(i+1, (x_hist[i], y_hist[i]), fontsize = 12)\n",
        "\n",
        "    \n",
        "print(f'The value of the x after {n_itr} iterations is {x}.\\n')    "
      ],
      "execution_count": null,
      "outputs": [
        {
          "output_type": "stream",
          "text": [
            "The value of the x after 10 iterations is 0.06710885465145111.\n",
            "\n"
          ],
          "name": "stdout"
        },
        {
          "output_type": "display_data",
          "data": {
            "image/png": "[encoded data removed]",
            "text/plain": [
              "<Figure size 1080x360 with 1 Axes>"
            ]
          },
          "metadata": {
            "tags": [],
            "needs_background": "light"
          }
        }
      ]
    },
    {
      "cell_type": "markdown",
      "metadata": {
        "hidden": true,
        "id": "9x-m2XnH8hr_"
      },
      "source": [
        "***Question***\n",
        "\n",
        "Implement a simple Logistic Regression with pytorch. \n"
      ]
    },
    {
      "cell_type": "markdown",
      "metadata": {
        "heading_collapsed": true,
        "id": "9sd39TDC8hsA"
      },
      "source": [
        "## Simple NN with Pytorch\n",
        "\n",
        "We'll come back to this with more details. This is just to give an idea of how this works in practice for a NN."
      ]
    },
    {
      "cell_type": "code",
      "metadata": {
        "id": "8CPxuz6h_dev"
      },
      "source": [
        "x_tr = torch.from_numpy(X_train).float()\n",
        "x_ts = torch.from_numpy(X_test).float()\n",
        "\n",
        "y_tr = torch.from_numpy(Y_train.reshape(-1,1)).float()\n",
        "y_ts = torch.from_numpy(Y_test.reshape(-1,1)).float()"
      ],
      "execution_count": null,
      "outputs": []
    },
    {
      "cell_type": "code",
      "metadata": {
        "hidden": true,
        "id": "JCCBibP-8hsD"
      },
      "source": [
        "# https://pytorch.org/tutorials/beginner/blitz/neural_networks_tutorial.html#sphx-glr-beginner-blitz-neural-networks-tutorial-py\n",
        "# https://pytorch.org/tutorials/beginner/basics/buildmodel_tutorial.html\n",
        "\n",
        "import torch.nn as nn\n",
        "import torch.nn.functional as F\n",
        "import torch.optim as optim"
      ],
      "execution_count": null,
      "outputs": []
    },
    {
      "cell_type": "code",
      "metadata": {
        "id": "SpXBilWDKhWb"
      },
      "source": [
        "n_epoch=20\n",
        "btch_size = 100\n",
        "lr = .1"
      ],
      "execution_count": null,
      "outputs": []
    },
    {
      "cell_type": "code",
      "metadata": {
        "hidden": true,
        "id": "9VeSvX3N8hsF"
      },
      "source": [
        "class Net(nn.Module):\n",
        "    \n",
        "    def __init__(self):\n",
        "        super().__init__()\n",
        "        self.fc1 = nn.Linear(2,10)\n",
        "        self.fc2 = nn.Linear(10,4)\n",
        "        self.out = nn.Linear(4, 1)\n",
        "        \n",
        "        \n",
        "    def forward(self,x):\n",
        "            #The first layer\n",
        "            x = self.fc1(x)\n",
        "            #Activation function is Relu. Feel free to experiment with this\n",
        "            x = F.relu(x)\n",
        "                       \n",
        "            #The second layer\n",
        "            x = self.fc2(x)\n",
        "            x = F.relu(x)\n",
        "            \n",
        "            #This produces output\n",
        "            x = self.out(x)\n",
        "            x = F.sigmoid(x)\n",
        "            \n",
        "            return x\n",
        "\n",
        "    \n",
        "net = Net()\n"
      ],
      "execution_count": null,
      "outputs": []
    },
    {
      "cell_type": "code",
      "metadata": {
        "colab": {
          "base_uri": "https://localhost:8080/"
        },
        "id": "4ofmyd8PK3SH",
        "outputId": "e4420285-5402-4974-b338-542677a1f855"
      },
      "source": [
        "net(x_ts[:3])"
      ],
      "execution_count": null,
      "outputs": [
        {
          "output_type": "execute_result",
          "data": {
            "text/plain": [
              "tensor([[0.4681],\n",
              "        [0.4672],\n",
              "        [0.4668]], grad_fn=<SigmoidBackward>)"
            ]
          },
          "metadata": {
            "tags": []
          },
          "execution_count": 50
        }
      ]
    },
    {
      "cell_type": "code",
      "metadata": {
        "colab": {
          "base_uri": "https://localhost:8080/"
        },
        "id": "SDLbbwDqKqMF",
        "outputId": "fc229e35-ff63-4201-eed0-c22b8ab3ab6c"
      },
      "source": [
        "for name, param in net.named_parameters():\n",
        "    print(f\"Layer: {name} | Size: {param.size()} | Values : {param[:2]} \\n\")"
      ],
      "execution_count": null,
      "outputs": [
        {
          "output_type": "stream",
          "text": [
            "Layer: fc1.weight | Size: torch.Size([10, 2]) | Values : tensor([[-0.6403,  0.5197],\n",
            "        [ 0.5793, -0.5930]], grad_fn=<SliceBackward>) \n",
            "\n",
            "Layer: fc1.bias | Size: torch.Size([10]) | Values : tensor([-0.6086,  0.4667], grad_fn=<SliceBackward>) \n",
            "\n",
            "Layer: fc2.weight | Size: torch.Size([4, 10]) | Values : tensor([[ 0.2978, -0.0966, -0.0282, -0.0686, -0.0121, -0.2458,  0.3004,  0.1984,\n",
            "         -0.1808,  0.2792],\n",
            "        [-0.1501,  0.1891,  0.1741, -0.0261,  0.1432, -0.2559, -0.2559,  0.1901,\n",
            "         -0.1456, -0.0958]], grad_fn=<SliceBackward>) \n",
            "\n",
            "Layer: fc2.bias | Size: torch.Size([4]) | Values : tensor([-0.2399, -0.3083], grad_fn=<SliceBackward>) \n",
            "\n",
            "Layer: out.weight | Size: torch.Size([1, 4]) | Values : tensor([[ 0.1556,  0.3289, -0.0452, -0.2537]], grad_fn=<SliceBackward>) \n",
            "\n",
            "Layer: out.bias | Size: torch.Size([1]) | Values : tensor([0.3002], grad_fn=<SliceBackward>) \n",
            "\n"
          ],
          "name": "stdout"
        }
      ]
    },
    {
      "cell_type": "markdown",
      "metadata": {
        "id": "td6mYc54Lcia"
      },
      "source": [
        "### Loss"
      ]
    },
    {
      "cell_type": "code",
      "metadata": {
        "id": "Vl3VfLOqLjfg"
      },
      "source": [
        "## Define a loss function: WE are using binary cross-entropy \n",
        "criterion = nn.BCELoss()\n",
        "# criterion = nn.CrossEntropyLoss()\n"
      ],
      "execution_count": null,
      "outputs": []
    },
    {
      "cell_type": "markdown",
      "metadata": {
        "id": "0AncpbvZLfEZ"
      },
      "source": [
        "### Optimizer"
      ]
    },
    {
      "cell_type": "code",
      "metadata": {
        "id": "4CsIDhpMKpn0"
      },
      "source": [
        "# optim.SGD(model.parameters(), lr=lr)\n",
        "## Here I am using adam for optimizer\n",
        "optimizer = optim.Adam(net.parameters(), lr= lr , betas=(0.9, 0.999))\n"
      ],
      "execution_count": null,
      "outputs": []
    },
    {
      "cell_type": "code",
      "metadata": {
        "hidden": true,
        "id": "5FXcQ0hW8hsH"
      },
      "source": [
        "x_tr = torch.from_numpy(X_train).float()\n",
        "x_ts = torch.from_numpy(X_test).float()\n",
        "\n",
        "y_tr = torch.from_numpy(Y_train.reshape(-1,1)).float()\n",
        "y_ts = torch.from_numpy(Y_test.reshape(-1,1)).float()"
      ],
      "execution_count": null,
      "outputs": []
    },
    {
      "cell_type": "code",
      "metadata": {
        "colab": {
          "base_uri": "https://localhost:8080/"
        },
        "id": "VJKUeWpZES8z",
        "outputId": "6de36b75-707d-4788-d835-c30b01c00171"
      },
      "source": [
        "y_tr.size()"
      ],
      "execution_count": null,
      "outputs": [
        {
          "output_type": "execute_result",
          "data": {
            "text/plain": [
              "torch.Size([7126, 1])"
            ]
          },
          "metadata": {
            "tags": []
          },
          "execution_count": 53
        }
      ]
    },
    {
      "cell_type": "code",
      "metadata": {
        "hidden": true,
        "id": "KI1jhWpp8hsL",
        "colab": {
          "base_uri": "https://localhost:8080/",
          "height": 291
        },
        "outputId": "8bc36c0f-acf9-4422-c38d-3371ed2d6fa9"
      },
      "source": [
        "#We also need to keep track of the loss. \n",
        "losses = []\n",
        "\n",
        "for i in range(100):\n",
        "    \n",
        "    #Precit the output for Given input\n",
        "    y_pred = net.forward(x_tr)\n",
        "    \n",
        "    #Compute Cross entropy loss\n",
        "    loss = criterion( y_pred , y_tr)\n",
        "    losses += [loss]\n",
        "    \n",
        "   \n",
        "    #Clear the previous gradients\n",
        "    optimizer.zero_grad()\n",
        "\n",
        "    #Compute gradients\n",
        "    loss.backward()\n",
        "\n",
        "    #Update the weights\n",
        "    optimizer.step()\n",
        "\n",
        "    \n",
        "    \n",
        "plt.plot(losses)    "
      ],
      "execution_count": null,
      "outputs": [
        {
          "output_type": "execute_result",
          "data": {
            "text/plain": [
              "[<matplotlib.lines.Line2D at 0x7f745abcdb50>]"
            ]
          },
          "metadata": {
            "tags": []
          },
          "execution_count": 54
        },
        {
          "output_type": "display_data",
          "data": {
            "image/png": "[encoded data removed]",
            "text/plain": [
              "<Figure size 432x288 with 1 Axes>"
            ]
          },
          "metadata": {
            "tags": [],
            "needs_background": "light"
          }
        }
      ]
    },
    {
      "cell_type": "code",
      "metadata": {
        "hidden": true,
        "id": "iyZQzMPO8hsO",
        "colab": {
          "base_uri": "https://localhost:8080/",
          "height": 233
        },
        "outputId": "818f7fe6-6c9a-4971-8495-643b7a317844"
      },
      "source": [
        "#predictions of the model for test set\n",
        "y_predict = (net.forward(x_ts)>.5).numpy().astype(int)\n",
        "\n",
        "x1_list, x2_list = grid(X[:,0], X[:,1], n_points=70)\n",
        "X_grid = np.vstack([x1_list.reshape(-1),x2_list.reshape(-1)]).T\n",
        "Y_grid = net.forward( torch.from_numpy(X_grid).float() )\n",
        "Y_grid = Y_grid.detach().numpy().reshape(x1_list.shape )\n",
        "\n",
        "fig = plt.figure(figsize=(15,5))\n",
        "ax = fig.add_subplot(121 , xlabel = 'X1', ylabel='X2', title = 'Result of the Classification')\n",
        "    \n",
        "ax.contourf(x1_list, x2_list, Y_grid, alpha=.4, cmap=plt.cm.coolwarm)\n",
        "ax.scatter(*X.T, c=Y)    \n",
        "# ax.text(3, 1.4, f'Accuracy: {np.round( model.score(X_test.T, Y_test) , 3)}' , fontsize=20)\n",
        "\n",
        "ax = fig.add_subplot(122 , xlabel = 'X1', ylabel='X2', title = 'Predicitions of the NN')\n",
        "plt.scatter(*X_test.T, c = y_predict.reshape(-1))\n",
        "\n",
        "\n",
        "plt.tight_layout()\n",
        "plt.show()"
      ],
      "execution_count": null,
      "outputs": [
        {
          "output_type": "display_data",
          "data": {
            "image/png": "[encoded data removed]",
            "text/plain": [
              "<Figure size 1080x360 with 2 Axes>"
            ]
          },
          "metadata": {
            "tags": [],
            "needs_background": "light"
          }
        }
      ]
    },
    {
      "cell_type": "markdown",
      "metadata": {
        "id": "8i5W417bNK-B"
      },
      "source": [
        "## Cleaned up"
      ]
    },
    {
      "cell_type": "code",
      "metadata": {
        "id": "K6XL0cscNN9G"
      },
      "source": [
        "import torch\n",
        "from torch import nn\n",
        "# from torch.utils.data import DataLoader\n"
      ],
      "execution_count": null,
      "outputs": []
    },
    {
      "cell_type": "markdown",
      "metadata": {
        "id": "Bg0eBkSPPEd8"
      },
      "source": [
        "### Data"
      ]
    },
    {
      "cell_type": "code",
      "metadata": {
        "id": "HsEHfRvUPV3h"
      },
      "source": [
        "x_tr = torch.from_numpy(X_train).float()\n",
        "x_ts = torch.from_numpy(X_test).float()\n",
        "\n",
        "y_tr = torch.from_numpy(Y_train.reshape(-1,1)).float()\n",
        "y_ts = torch.from_numpy(Y_test.reshape(-1,1)).float()"
      ],
      "execution_count": null,
      "outputs": []
    },
    {
      "cell_type": "code",
      "metadata": {
        "id": "YBBeD60TNW2T"
      },
      "source": [
        "## Training data\n",
        "training_dataset = torch.utils.data.TensorDataset(x_tr, y_tr)\n",
        "train_loader = torch.utils.data.DataLoader(training_dataset, batch_size=btch_size, shuffle=True)\n",
        "\n",
        "## Test data\n",
        "test_dataset = torch.utils.data.TensorDataset(x_ts, y_ts)\n",
        "test_loader = torch.utils.data.DataLoader(test_dataset, batch_size=btch_size, shuffle=True)"
      ],
      "execution_count": null,
      "outputs": []
    },
    {
      "cell_type": "markdown",
      "metadata": {
        "id": "JcUP1dAoRZ_T"
      },
      "source": [
        "### Hyper-parameters"
      ]
    },
    {
      "cell_type": "code",
      "metadata": {
        "id": "9TNt_YQfRdYr"
      },
      "source": [
        "n_epoch=30\n",
        "btch_size = 100\n",
        "lr = .2"
      ],
      "execution_count": null,
      "outputs": []
    },
    {
      "cell_type": "markdown",
      "metadata": {
        "id": "ZFhW0tIJPmiT"
      },
      "source": [
        "### Model definition"
      ]
    },
    {
      "cell_type": "code",
      "metadata": {
        "id": "O0Tmje5PPsyF"
      },
      "source": [
        "### This is slightly simplified compared to the earlier version.\n",
        "\n",
        "class NeuralNet(nn.Module):\n",
        "    \n",
        "    def __init__(self):\n",
        "        super().__init__()\n",
        "        self.ff = nn.Sequential( \n",
        "            nn.Linear(2,10), \n",
        "            nn.ReLU(), \n",
        "            nn.Linear(10,5), \n",
        "            nn.ReLU(), \n",
        "            nn.Linear(5,1), \n",
        "            nn.Sigmoid()         \n",
        "        )\n",
        "        \n",
        "    def forward(self,x):\n",
        "            return self.ff(x)\n",
        "\n",
        "    \n",
        "model = NeuralNet()"
      ],
      "execution_count": null,
      "outputs": []
    },
    {
      "cell_type": "code",
      "metadata": {
        "id": "1jp7ltuARhIP"
      },
      "source": [
        "### Loss\n",
        "criterion = nn.BCELoss()\n",
        "\n",
        "### Optimizer\n",
        "optimizer = torch.optim.SGD(model.parameters(), lr=lr)\n"
      ],
      "execution_count": null,
      "outputs": []
    },
    {
      "cell_type": "markdown",
      "metadata": {
        "id": "1d2gL6rNPqQl"
      },
      "source": [
        "### Training loops"
      ]
    },
    {
      "cell_type": "code",
      "metadata": {
        "id": "R2Vk5fA_R0E3"
      },
      "source": [
        "## https://pytorch.org/tutorials/beginner/basics/optimization_tutorial.html\n",
        "\n",
        "def train_loop(dataloader, model, criterion, optimizer):\n",
        "    size = len(dataloader.dataset)\n",
        "    for batch, (X, y) in enumerate(dataloader):\n",
        "        # print(batch)\n",
        "        # Compute prediction and loss\n",
        "        pred = model(X)\n",
        "        loss = criterion(pred, y)\n",
        "\n",
        "        # Backpropagation\n",
        "        optimizer.zero_grad()\n",
        "        loss.backward()\n",
        "        optimizer.step()\n",
        "\n",
        "        # if batch % 100 == 0:\n",
        "        #     loss, current = loss.item(), batch * len(X)\n",
        "        #     print(f\"loss: {loss:>7f}  [{current:>5d}/{size:>5d}]\")\n",
        "            \n",
        "    print(f\"loss: {loss:>4f}\")\n",
        "    return loss.item()\n",
        "\n",
        "\n",
        "def test_loop(dataloader, model, criterion):\n",
        "    size = len(dataloader.dataset)\n",
        "    test_loss, correct = 0, 0\n",
        "\n",
        "    with torch.no_grad():\n",
        "        for X, y in dataloader:\n",
        "            pred = model(X)\n",
        "            test_loss += criterion(pred, y).item()\n",
        "            correct += ( (pred>.5) == y).type(torch.float).sum().item()\n",
        "\n",
        "    test_loss /= size\n",
        "    correct /= size\n",
        "    \n",
        "    print(f\"Test Error: \\n Accuracy: {(100*correct):>0.1f}%, Avg loss: {test_loss:>8f} \\n\")\n",
        "\n",
        "    return [test_loss, correct]"
      ],
      "execution_count": null,
      "outputs": []
    },
    {
      "cell_type": "code",
      "metadata": {
        "colab": {
          "base_uri": "https://localhost:8080/"
        },
        "id": "xes7fZ5xUPdJ",
        "outputId": "161098f4-9269-4236-93ab-38f94378d801"
      },
      "source": [
        "train_loop(train_loader, model, criterion, optimizer)"
      ],
      "execution_count": null,
      "outputs": [
        {
          "output_type": "stream",
          "text": [
            "loss: 0.659857\n"
          ],
          "name": "stdout"
        },
        {
          "output_type": "execute_result",
          "data": {
            "text/plain": [
              "0.6598567366600037"
            ]
          },
          "metadata": {
            "tags": []
          },
          "execution_count": 63
        }
      ]
    },
    {
      "cell_type": "code",
      "metadata": {
        "id": "odmS9x8rVLay"
      },
      "source": [
        "print(net(x_ts[:5]))\n",
        "print(net(x_ts[:5])>.5)\n",
        "print(y_ts[:5])"
      ],
      "execution_count": null,
      "outputs": []
    },
    {
      "cell_type": "markdown",
      "metadata": {
        "id": "ExRuZUOKSUwK"
      },
      "source": [
        "#### Training"
      ]
    },
    {
      "cell_type": "code",
      "metadata": {
        "colab": {
          "base_uri": "https://localhost:8080/"
        },
        "id": "NJfHJ5SESUV9",
        "outputId": "51cd7ad3-26d0-431c-efae-6ae7242a0bdd"
      },
      "source": [
        "training_hist = []\n",
        "test_hist = []\n",
        "\n",
        "for t in range(n_epoch):\n",
        "    print(f\"Epoch {t+1}\\n-------------------------------\")\n",
        "    training_hist += [train_loop(train_loader, model, criterion, optimizer)]\n",
        "    test_hist += [test_loop(test_loader, model, criterion)]\n",
        "print(\"Done!\")"
      ],
      "execution_count": null,
      "outputs": [
        {
          "output_type": "stream",
          "text": [
            "Epoch 1\n",
            "-------------------------------\n",
            "loss: 0.394635\n",
            "Test Error: \n",
            " Accuracy: 63.2%, Avg loss: 0.004972 \n",
            "\n",
            "Epoch 2\n",
            "-------------------------------\n",
            "loss: 0.340504\n",
            "Test Error: \n",
            " Accuracy: 81.9%, Avg loss: 0.004020 \n",
            "\n",
            "Epoch 3\n",
            "-------------------------------\n",
            "loss: 0.443844\n",
            "Test Error: \n",
            " Accuracy: 76.9%, Avg loss: 0.004781 \n",
            "\n",
            "Epoch 4\n",
            "-------------------------------\n",
            "loss: 0.434411\n",
            "Test Error: \n",
            " Accuracy: 87.8%, Avg loss: 0.002668 \n",
            "\n",
            "Epoch 5\n",
            "-------------------------------\n",
            "loss: 0.272052\n",
            "Test Error: \n",
            " Accuracy: 88.4%, Avg loss: 0.002365 \n",
            "\n",
            "Epoch 6\n",
            "-------------------------------\n",
            "loss: 0.298310\n",
            "Test Error: \n",
            " Accuracy: 63.8%, Avg loss: 0.012258 \n",
            "\n",
            "Epoch 7\n",
            "-------------------------------\n",
            "loss: 0.306415\n",
            "Test Error: \n",
            " Accuracy: 86.0%, Avg loss: 0.003034 \n",
            "\n",
            "Epoch 8\n",
            "-------------------------------\n",
            "loss: 0.165058\n",
            "Test Error: \n",
            " Accuracy: 95.0%, Avg loss: 0.001549 \n",
            "\n",
            "Epoch 9\n",
            "-------------------------------\n",
            "loss: 0.057944\n",
            "Test Error: \n",
            " Accuracy: 92.6%, Avg loss: 0.001512 \n",
            "\n",
            "Epoch 10\n",
            "-------------------------------\n",
            "loss: 0.188585\n",
            "Test Error: \n",
            " Accuracy: 91.2%, Avg loss: 0.001798 \n",
            "\n",
            "Epoch 11\n",
            "-------------------------------\n",
            "loss: 0.053605\n",
            "Test Error: \n",
            " Accuracy: 95.3%, Avg loss: 0.001202 \n",
            "\n",
            "Epoch 12\n",
            "-------------------------------\n",
            "loss: 0.111845\n",
            "Test Error: \n",
            " Accuracy: 97.8%, Avg loss: 0.001261 \n",
            "\n",
            "Epoch 13\n",
            "-------------------------------\n",
            "loss: 0.137812\n",
            "Test Error: \n",
            " Accuracy: 92.9%, Avg loss: 0.001330 \n",
            "\n",
            "Epoch 14\n",
            "-------------------------------\n",
            "loss: 0.145194\n",
            "Test Error: \n",
            " Accuracy: 91.2%, Avg loss: 0.001646 \n",
            "\n",
            "Epoch 15\n",
            "-------------------------------\n",
            "loss: 0.161196\n",
            "Test Error: \n",
            " Accuracy: 91.9%, Avg loss: 0.001819 \n",
            "\n",
            "Epoch 16\n",
            "-------------------------------\n",
            "loss: 0.629540\n",
            "Test Error: \n",
            " Accuracy: 97.3%, Avg loss: 0.001240 \n",
            "\n",
            "Epoch 17\n",
            "-------------------------------\n",
            "loss: 0.122783\n",
            "Test Error: \n",
            " Accuracy: 98.5%, Avg loss: 0.000921 \n",
            "\n",
            "Epoch 18\n",
            "-------------------------------\n",
            "loss: 0.125280\n",
            "Test Error: \n",
            " Accuracy: 81.8%, Avg loss: 0.004194 \n",
            "\n",
            "Epoch 19\n",
            "-------------------------------\n",
            "loss: 0.334000\n",
            "Test Error: \n",
            " Accuracy: 86.7%, Avg loss: 0.003335 \n",
            "\n",
            "Epoch 20\n",
            "-------------------------------\n",
            "loss: 0.026645\n",
            "Test Error: \n",
            " Accuracy: 93.4%, Avg loss: 0.001290 \n",
            "\n",
            "Epoch 21\n",
            "-------------------------------\n",
            "loss: 0.044853\n",
            "Test Error: \n",
            " Accuracy: 93.3%, Avg loss: 0.001206 \n",
            "\n",
            "Epoch 22\n",
            "-------------------------------\n",
            "loss: 0.069913\n",
            "Test Error: \n",
            " Accuracy: 97.7%, Avg loss: 0.000807 \n",
            "\n",
            "Epoch 23\n",
            "-------------------------------\n",
            "loss: 0.422082\n",
            "Test Error: \n",
            " Accuracy: 95.8%, Avg loss: 0.001150 \n",
            "\n",
            "Epoch 24\n",
            "-------------------------------\n",
            "loss: 0.070159\n",
            "Test Error: \n",
            " Accuracy: 88.3%, Avg loss: 0.002166 \n",
            "\n",
            "Epoch 25\n",
            "-------------------------------\n",
            "loss: 0.039101\n",
            "Test Error: \n",
            " Accuracy: 97.6%, Avg loss: 0.000743 \n",
            "\n",
            "Epoch 26\n",
            "-------------------------------\n",
            "loss: 0.033723\n",
            "Test Error: \n",
            " Accuracy: 94.9%, Avg loss: 0.001019 \n",
            "\n",
            "Epoch 27\n",
            "-------------------------------\n",
            "loss: 0.107572\n",
            "Test Error: \n",
            " Accuracy: 91.7%, Avg loss: 0.001894 \n",
            "\n",
            "Epoch 28\n",
            "-------------------------------\n",
            "loss: 0.036633\n",
            "Test Error: \n",
            " Accuracy: 98.2%, Avg loss: 0.000725 \n",
            "\n",
            "Epoch 29\n",
            "-------------------------------\n",
            "loss: 0.066018\n",
            "Test Error: \n",
            " Accuracy: 97.6%, Avg loss: 0.000766 \n",
            "\n",
            "Epoch 30\n",
            "-------------------------------\n",
            "loss: 0.046375\n",
            "Test Error: \n",
            " Accuracy: 98.7%, Avg loss: 0.000733 \n",
            "\n",
            "Done!\n"
          ],
          "name": "stdout"
        }
      ]
    },
    {
      "cell_type": "code",
      "metadata": {
        "colab": {
          "base_uri": "https://localhost:8080/",
          "height": 249
        },
        "id": "P9JWaf0dS0VN",
        "outputId": "2c0d1171-4fb1-4b77-b719-61ef791ad42e"
      },
      "source": [
        "test_hist = np.array(test_hist)\n",
        "# Plot training & validation accuracy values\n",
        "fig = plt.figure(figsize=(14,5))\n",
        "ax = fig.add_subplot(1,2,1, title = 'Model accuracy', ylabel= 'Accuracy')\n",
        "# plt.plot(history.history['acc'])\n",
        "plt.plot(test_hist[:, 1])\n",
        "# plt.legend(['Train', 'Test'], loc='upper left')\n",
        "\n",
        "# Plot training & validation loss values\n",
        "ax = fig.add_subplot(1,2,2, title = 'Model loss', ylabel= 'Loss')\n",
        "# plt.plot(training_hist)\n",
        "plt.plot(test_hist[:, 0])\n",
        "plt.legend(['Train', 'Test'], loc='upper left')\n",
        "\n",
        "plt.tight_layout()\n",
        "plt.show()"
      ],
      "execution_count": null,
      "outputs": [
        {
          "output_type": "display_data",
          "data": {
            "image/png": "[encoded data removed]",
            "text/plain": [
              "<Figure size 1008x360 with 2 Axes>"
            ]
          },
          "metadata": {
            "tags": [],
            "needs_background": "light"
          }
        }
      ]
    },
    {
      "cell_type": "markdown",
      "metadata": {
        "id": "BNUsUpNUPk29"
      },
      "source": [
        "### Saving the model"
      ]
    },
    {
      "cell_type": "code",
      "metadata": {
        "colab": {
          "base_uri": "https://localhost:8080/"
        },
        "id": "rwUon-BYhz6S",
        "outputId": "f79dbc67-3339-4f2a-b5eb-9fd1d08b4050"
      },
      "source": [
        "model.state_dict()"
      ],
      "execution_count": null,
      "outputs": [
        {
          "output_type": "execute_result",
          "data": {
            "text/plain": [
              "OrderedDict([('ff.0.weight', tensor([[ 1.0703e-01,  1.1451e+00],\n",
              "                      [ 1.1472e+00,  1.8276e-01],\n",
              "                      [-5.4885e-01, -5.0000e-01],\n",
              "                      [-7.2386e-01,  3.7773e+00],\n",
              "                      [-2.6042e-01,  3.0561e+00],\n",
              "                      [-2.0443e-01, -6.2285e-01],\n",
              "                      [-6.8012e-01,  2.5334e-02],\n",
              "                      [-3.9321e-01, -3.9658e-03],\n",
              "                      [-7.0395e-01,  4.6440e-01],\n",
              "                      [-3.7914e-01,  5.7662e+00]])),\n",
              "             ('ff.0.bias',\n",
              "              tensor([-0.6386, -1.7749,  0.0327, -1.9725, -1.9893, -0.5635, -0.5078,  0.0876,\n",
              "                      -0.2430, -4.3004])),\n",
              "             ('ff.2.weight',\n",
              "              tensor([[-2.8973e-01, -8.0818e-02, -2.9515e-01,  2.5266e-01, -2.1171e-01,\n",
              "                       -9.4731e-02,  1.8311e-01,  1.7763e-01, -1.7316e-01,  1.4533e-01],\n",
              "                      [ 1.6276e-01,  7.3395e-02,  2.2643e-01,  1.3349e+00,  5.9632e-01,\n",
              "                       -1.1805e-01, -8.9212e-02, -5.5895e-02, -2.0130e-01,  1.4798e+00],\n",
              "                      [-1.3360e-01, -7.2892e-02, -2.2678e-01,  1.0679e+00,  2.8155e-01,\n",
              "                       -2.0563e-01,  8.2437e-02, -8.2765e-02, -9.1453e-02,  9.0313e-01],\n",
              "                      [ 5.7212e-01,  9.0938e-01, -1.4658e-01,  8.9657e-01,  8.4876e-01,\n",
              "                        2.9060e-01, -1.3568e-01, -7.7838e-02, -6.9016e-02,  1.5990e+00],\n",
              "                      [ 2.2227e-02,  1.4747e-01, -2.8981e-01,  8.1488e-01,  6.1707e-01,\n",
              "                        2.8344e-01,  2.7305e-01,  5.9577e-02, -7.7971e-04,  6.9812e-01]])),\n",
              "             ('ff.2.bias',\n",
              "              tensor([-0.2808, -0.9068, -0.6084, -0.5670, -0.5036])),\n",
              "             ('ff.4.weight',\n",
              "              tensor([[-0.2302, -2.0182, -1.3539, -1.7948, -1.1070]])),\n",
              "             ('ff.4.bias', tensor([3.7598]))])"
            ]
          },
          "metadata": {
            "tags": []
          },
          "execution_count": 66
        }
      ]
    },
    {
      "cell_type": "code",
      "metadata": {
        "id": "lgVgBwvaDbOr"
      },
      "source": [
        "## Save the model\n",
        "# https://pytorch.org/docs/stable/notes/serialization.html\n",
        "\n",
        "PATH = 'test_model'\n",
        "torch.save(model.state_dict(), PATH)"
      ],
      "execution_count": null,
      "outputs": []
    },
    {
      "cell_type": "code",
      "metadata": {
        "colab": {
          "base_uri": "https://localhost:8080/"
        },
        "id": "n31qmKtXh32I",
        "outputId": "1702b383-b53c-49ac-af4c-12fce276393c"
      },
      "source": [
        "## Load a saved model\n",
        "nn_state_dict = torch.load('test_model')\n",
        "new_model = NeuralNet()\n",
        "new_model.load_state_dict(nn_state_dict)\n",
        "new_model(x_ts[:3])"
      ],
      "execution_count": null,
      "outputs": [
        {
          "output_type": "execute_result",
          "data": {
            "text/plain": [
              "tensor([[0.0070],\n",
              "        [0.0070],\n",
              "        [0.0070]], grad_fn=<SigmoidBackward>)"
            ]
          },
          "metadata": {
            "tags": []
          },
          "execution_count": 240
        }
      ]
    },
    {
      "cell_type": "markdown",
      "metadata": {
        "heading_collapsed": true,
        "id": "Pw3EoyFJ8hsR"
      },
      "source": [
        "## Visualization"
      ]
    },
    {
      "cell_type": "code",
      "metadata": {
        "hidden": true,
        "id": "SdAiG5nC8hsS",
        "colab": {
          "base_uri": "https://localhost:8080/",
          "height": 1000
        },
        "outputId": "e0714e9c-8e49-4192-ac77-b4a9eb920506"
      },
      "source": [
        "'''\n",
        "Later, we will use tensorboard for more visualization. \n",
        "'''\n",
        "# https://github.com/szagoruyko/pytorchviz\n",
        "!pip install torchviz\n",
        "from torchviz import make_dot\n",
        "\n",
        "\n",
        "y_predict = (net.forward(x_ts) )\n",
        "make_dot( y_predict.mean(),  params=dict(net.named_parameters() )  , \n",
        "          # show_attrs=True, show_saved=True\n",
        "         )"
      ],
      "execution_count": null,
      "outputs": [
        {
          "output_type": "stream",
          "text": [
            "Collecting torchviz\n",
            "  Downloading https://files.pythonhosted.org/packages/79/e7/643808913211d6c1fc96a3a4333bf4c9276858fab00bcafaf98ea58a97be/torchviz-0.0.2.tar.gz\n",
            "Requirement already satisfied: torch in /usr/local/lib/python3.7/dist-packages (from torchviz) (1.8.1+cu101)\n",
            "Requirement already satisfied: graphviz in /usr/local/lib/python3.7/dist-packages (from torchviz) (0.10.1)\n",
            "Requirement already satisfied: typing-extensions in /usr/local/lib/python3.7/dist-packages (from torch->torchviz) (3.7.4.3)\n",
            "Requirement already satisfied: numpy in /usr/local/lib/python3.7/dist-packages (from torch->torchviz) (1.19.5)\n",
            "Building wheels for collected packages: torchviz\n",
            "  Building wheel for torchviz (setup.py) ... \u001b[?25l\u001b[?25hdone\n",
            "  Created wheel for torchviz: filename=torchviz-0.0.2-cp37-none-any.whl size=4152 sha256=e1f2b1ee3310f12e919b2d7faf9da800832c2bfbc7737c11ab546a23102c3c58\n",
            "  Stored in directory: /root/.cache/pip/wheels/01/26/58/026ffd533dbe8b3972eb423da9c7949beca68d1c98ed9e8624\n",
            "Successfully built torchviz\n",
            "Installing collected packages: torchviz\n",
            "Successfully installed torchviz-0.0.2\n"
          ],
          "name": "stdout"
        },
        {
          "output_type": "execute_result",
          "data": {
            "text/plain": [
              "<graphviz.dot.Digraph at 0x7f74e5729c10>"
            ],
            "image/svg+xml": "<?xml version=\"1.0\" encoding=\"UTF-8\" standalone=\"no\"?>\n<!DOCTYPE svg PUBLIC \"-//W3C//DTD SVG 1.1//EN\"\n \"http://www.w3.org/Graphics/SVG/1.1/DTD/svg11.dtd\">\n<!-- Generated by graphviz version 2.40.1 (20161225.0304)\n -->\n<!-- Title: %3 Pages: 1 -->\n<svg width=\"408pt\" height=\"655pt\"\n viewBox=\"0.00 0.00 408.00 655.00\" xmlns=\"http://www.w3.org/2000/svg\" xmlns:xlink=\"http://www.w3.org/1999/xlink\">\n<g id=\"graph0\" class=\"graph\" transform=\"scale(1 1) rotate(0) translate(4 651)\">\n<title>%3</title>\n<polygon fill=\"#ffffff\" stroke=\"transparent\" points=\"-4,4 -4,-651 404,-651 404,4 -4,4\"/>\n<!-- 140137571006496 -->\n<g id=\"node1\" class=\"node\">\n<title>140137571006496</title>\n<polygon fill=\"#caff70\" stroke=\"#000000\" points=\"229.5,-31 175.5,-31 175.5,0 229.5,0 229.5,-31\"/>\n<text text-anchor=\"middle\" x=\"202.5\" y=\"-7\" font-family=\"monospace\" font-size=\"10.00\" fill=\"#000000\"> ()</text>\n</g>\n<!-- 140140042427536 -->\n<g id=\"node2\" class=\"node\">\n<title>140140042427536</title>\n<polygon fill=\"#d3d3d3\" stroke=\"#000000\" points=\"250,-86 155,-86 155,-67 250,-67 250,-86\"/>\n<text text-anchor=\"middle\" x=\"202.5\" y=\"-74\" font-family=\"monospace\" font-size=\"10.00\" fill=\"#000000\">MeanBackward0</text>\n</g>\n<!-- 140140042427536&#45;&gt;140137571006496 -->\n<g id=\"edge22\" class=\"edge\">\n<title>140140042427536&#45;&gt;140137571006496</title>\n<path fill=\"none\" stroke=\"#000000\" d=\"M202.5,-66.9688C202.5,-60.1289 202.5,-50.5621 202.5,-41.5298\"/>\n<polygon fill=\"#000000\" stroke=\"#000000\" points=\"206.0001,-41.3678 202.5,-31.3678 199.0001,-41.3678 206.0001,-41.3678\"/>\n</g>\n<!-- 140140042427600 -->\n<g id=\"node3\" class=\"node\">\n<title>140140042427600</title>\n<polygon fill=\"#d3d3d3\" stroke=\"#000000\" points=\"256,-141 149,-141 149,-122 256,-122 256,-141\"/>\n<text text-anchor=\"middle\" x=\"202.5\" y=\"-129\" font-family=\"monospace\" font-size=\"10.00\" fill=\"#000000\">SigmoidBackward</text>\n</g>\n<!-- 140140042427600&#45;&gt;140140042427536 -->\n<g id=\"edge1\" class=\"edge\">\n<title>140140042427600&#45;&gt;140140042427536</title>\n<path fill=\"none\" stroke=\"#000000\" d=\"M202.5,-121.9197C202.5,-114.9083 202.5,-105.1442 202.5,-96.4652\"/>\n<polygon fill=\"#000000\" stroke=\"#000000\" points=\"206.0001,-96.3408 202.5,-86.3408 199.0001,-96.3409 206.0001,-96.3408\"/>\n</g>\n<!-- 140140042427664 -->\n<g id=\"node4\" class=\"node\">\n<title>140140042427664</title>\n<polygon fill=\"#d3d3d3\" stroke=\"#000000\" points=\"250,-196 155,-196 155,-177 250,-177 250,-196\"/>\n<text text-anchor=\"middle\" x=\"202.5\" y=\"-184\" font-family=\"monospace\" font-size=\"10.00\" fill=\"#000000\">AddmmBackward</text>\n</g>\n<!-- 140140042427664&#45;&gt;140140042427600 -->\n<g id=\"edge2\" class=\"edge\">\n<title>140140042427664&#45;&gt;140140042427600</title>\n<path fill=\"none\" stroke=\"#000000\" d=\"M202.5,-176.9197C202.5,-169.9083 202.5,-160.1442 202.5,-151.4652\"/>\n<polygon fill=\"#000000\" stroke=\"#000000\" points=\"206.0001,-151.3408 202.5,-141.3408 199.0001,-151.3409 206.0001,-151.3408\"/>\n</g>\n<!-- 140140042427792 -->\n<g id=\"node5\" class=\"node\">\n<title>140140042427792</title>\n<polygon fill=\"#d3d3d3\" stroke=\"#000000\" points=\"137,-251 36,-251 36,-232 137,-232 137,-251\"/>\n<text text-anchor=\"middle\" x=\"86.5\" y=\"-239\" font-family=\"monospace\" font-size=\"10.00\" fill=\"#000000\">AccumulateGrad</text>\n</g>\n<!-- 140140042427792&#45;&gt;140140042427664 -->\n<g id=\"edge3\" class=\"edge\">\n<title>140140042427792&#45;&gt;140140042427664</title>\n<path fill=\"none\" stroke=\"#000000\" d=\"M106.7057,-231.9197C124.9737,-223.2581 152.1018,-210.3957 172.8304,-200.5675\"/>\n<polygon fill=\"#000000\" stroke=\"#000000\" points=\"174.6004,-203.6018 182.1367,-196.155 171.6014,-197.2768 174.6004,-203.6018\"/>\n</g>\n<!-- 140137714817936 -->\n<g id=\"node6\" class=\"node\">\n<title>140137714817936</title>\n<polygon fill=\"#add8e6\" stroke=\"#000000\" points=\"119,-317 54,-317 54,-287 119,-287 119,-317\"/>\n<text text-anchor=\"middle\" x=\"86.5\" y=\"-305\" font-family=\"monospace\" font-size=\"10.00\" fill=\"#000000\">out.bias</text>\n<text text-anchor=\"middle\" x=\"86.5\" y=\"-294\" font-family=\"monospace\" font-size=\"10.00\" fill=\"#000000\"> (1)</text>\n</g>\n<!-- 140137714817936&#45;&gt;140140042427792 -->\n<g id=\"edge4\" class=\"edge\">\n<title>140137714817936&#45;&gt;140140042427792</title>\n<path fill=\"none\" stroke=\"#000000\" d=\"M86.5,-286.7333C86.5,-279.0322 86.5,-269.5977 86.5,-261.3414\"/>\n<polygon fill=\"#000000\" stroke=\"#000000\" points=\"90.0001,-261.0864 86.5,-251.0864 83.0001,-261.0864 90.0001,-261.0864\"/>\n</g>\n<!-- 140140042428048 -->\n<g id=\"node7\" class=\"node\">\n<title>140140042428048</title>\n<polygon fill=\"#d3d3d3\" stroke=\"#000000\" points=\"250,-251 155,-251 155,-232 250,-232 250,-251\"/>\n<text text-anchor=\"middle\" x=\"202.5\" y=\"-239\" font-family=\"monospace\" font-size=\"10.00\" fill=\"#000000\">ReluBackward0</text>\n</g>\n<!-- 140140042428048&#45;&gt;140140042427664 -->\n<g id=\"edge5\" class=\"edge\">\n<title>140140042428048&#45;&gt;140140042427664</title>\n<path fill=\"none\" stroke=\"#000000\" d=\"M202.5,-231.9197C202.5,-224.9083 202.5,-215.1442 202.5,-206.4652\"/>\n<polygon fill=\"#000000\" stroke=\"#000000\" points=\"206.0001,-206.3408 202.5,-196.3408 199.0001,-206.3409 206.0001,-206.3408\"/>\n</g>\n<!-- 140140042427472 -->\n<g id=\"node8\" class=\"node\">\n<title>140140042427472</title>\n<polygon fill=\"#d3d3d3\" stroke=\"#000000\" points=\"233,-311.5 138,-311.5 138,-292.5 233,-292.5 233,-311.5\"/>\n<text text-anchor=\"middle\" x=\"185.5\" y=\"-299.5\" font-family=\"monospace\" font-size=\"10.00\" fill=\"#000000\">AddmmBackward</text>\n</g>\n<!-- 140140042427472&#45;&gt;140140042428048 -->\n<g id=\"edge6\" class=\"edge\">\n<title>140140042427472&#45;&gt;140140042428048</title>\n<path fill=\"none\" stroke=\"#000000\" d=\"M188.2313,-292.2796C190.5719,-283.9499 194.0174,-271.688 196.9363,-261.3004\"/>\n<polygon fill=\"#000000\" stroke=\"#000000\" points=\"200.3832,-261.9712 199.719,-251.3972 193.6442,-260.0776 200.3832,-261.9712\"/>\n</g>\n<!-- 140140042427344 -->\n<g id=\"node9\" class=\"node\">\n<title>140140042427344</title>\n<polygon fill=\"#d3d3d3\" stroke=\"#000000\" points=\"101,-377.5 0,-377.5 0,-358.5 101,-358.5 101,-377.5\"/>\n<text text-anchor=\"middle\" x=\"50.5\" y=\"-365.5\" font-family=\"monospace\" font-size=\"10.00\" fill=\"#000000\">AccumulateGrad</text>\n</g>\n<!-- 140140042427344&#45;&gt;140140042427472 -->\n<g id=\"edge7\" class=\"edge\">\n<title>140140042427344&#45;&gt;140140042427472</title>\n<path fill=\"none\" stroke=\"#000000\" d=\"M70.1302,-358.403C92.9258,-347.2585 130.7283,-328.7773 156.8149,-316.0238\"/>\n<polygon fill=\"#000000\" stroke=\"#000000\" points=\"158.3995,-319.1451 165.8461,-311.6085 155.325,-312.8564 158.3995,-319.1451\"/>\n</g>\n<!-- 140137714815136 -->\n<g id=\"node10\" class=\"node\">\n<title>140137714815136</title>\n<polygon fill=\"#add8e6\" stroke=\"#000000\" points=\"83,-449 18,-449 18,-419 83,-419 83,-449\"/>\n<text text-anchor=\"middle\" x=\"50.5\" y=\"-437\" font-family=\"monospace\" font-size=\"10.00\" fill=\"#000000\">fc2.bias</text>\n<text text-anchor=\"middle\" x=\"50.5\" y=\"-426\" font-family=\"monospace\" font-size=\"10.00\" fill=\"#000000\"> (4)</text>\n</g>\n<!-- 140137714815136&#45;&gt;140140042427344 -->\n<g id=\"edge8\" class=\"edge\">\n<title>140137714815136&#45;&gt;140140042427344</title>\n<path fill=\"none\" stroke=\"#000000\" d=\"M50.5,-418.6924C50.5,-409.5067 50.5,-397.7245 50.5,-387.8312\"/>\n<polygon fill=\"#000000\" stroke=\"#000000\" points=\"54.0001,-387.703 50.5,-377.7031 47.0001,-387.7031 54.0001,-387.703\"/>\n</g>\n<!-- 140140042428368 -->\n<g id=\"node11\" class=\"node\">\n<title>140140042428368</title>\n<polygon fill=\"#d3d3d3\" stroke=\"#000000\" points=\"214,-377.5 119,-377.5 119,-358.5 214,-358.5 214,-377.5\"/>\n<text text-anchor=\"middle\" x=\"166.5\" y=\"-365.5\" font-family=\"monospace\" font-size=\"10.00\" fill=\"#000000\">ReluBackward0</text>\n</g>\n<!-- 140140042428368&#45;&gt;140140042427472 -->\n<g id=\"edge9\" class=\"edge\">\n<title>140140042428368&#45;&gt;140140042427472</title>\n<path fill=\"none\" stroke=\"#000000\" d=\"M169.3035,-358.2615C172.0819,-348.6102 176.4151,-333.558 179.9006,-321.4506\"/>\n<polygon fill=\"#000000\" stroke=\"#000000\" points=\"183.2819,-322.3565 182.685,-311.7785 176.5551,-320.4199 183.2819,-322.3565\"/>\n</g>\n<!-- 140140042428112 -->\n<g id=\"node12\" class=\"node\">\n<title>140140042428112</title>\n<polygon fill=\"#d3d3d3\" stroke=\"#000000\" points=\"206,-443.5 111,-443.5 111,-424.5 206,-424.5 206,-443.5\"/>\n<text text-anchor=\"middle\" x=\"158.5\" y=\"-431.5\" font-family=\"monospace\" font-size=\"10.00\" fill=\"#000000\">AddmmBackward</text>\n</g>\n<!-- 140140042428112&#45;&gt;140140042428368 -->\n<g id=\"edge10\" class=\"edge\">\n<title>140140042428112&#45;&gt;140140042428368</title>\n<path fill=\"none\" stroke=\"#000000\" d=\"M159.6804,-424.2615C160.8385,-414.7077 162.638,-399.8615 164.0978,-387.8183\"/>\n<polygon fill=\"#000000\" stroke=\"#000000\" points=\"167.5859,-388.127 165.3147,-377.7785 160.6368,-387.2846 167.5859,-388.127\"/>\n</g>\n<!-- 140137536217168 -->\n<g id=\"node13\" class=\"node\">\n<title>140137536217168</title>\n<polygon fill=\"#d3d3d3\" stroke=\"#000000\" points=\"117,-509.5 16,-509.5 16,-490.5 117,-490.5 117,-509.5\"/>\n<text text-anchor=\"middle\" x=\"66.5\" y=\"-497.5\" font-family=\"monospace\" font-size=\"10.00\" fill=\"#000000\">AccumulateGrad</text>\n</g>\n<!-- 140137536217168&#45;&gt;140140042428112 -->\n<g id=\"edge11\" class=\"edge\">\n<title>140137536217168&#45;&gt;140140042428112</title>\n<path fill=\"none\" stroke=\"#000000\" d=\"M80.0749,-490.2615C94.9722,-479.5743 119.1011,-462.2644 136.6655,-449.6639\"/>\n<polygon fill=\"#000000\" stroke=\"#000000\" points=\"139.0833,-452.2369 145.1685,-443.5639 135.0029,-446.5491 139.0833,-452.2369\"/>\n</g>\n<!-- 140137571727072 -->\n<g id=\"node14\" class=\"node\">\n<title>140137571727072</title>\n<polygon fill=\"#add8e6\" stroke=\"#000000\" points=\"99,-581 34,-581 34,-551 99,-551 99,-581\"/>\n<text text-anchor=\"middle\" x=\"66.5\" y=\"-569\" font-family=\"monospace\" font-size=\"10.00\" fill=\"#000000\">fc1.bias</text>\n<text text-anchor=\"middle\" x=\"66.5\" y=\"-558\" font-family=\"monospace\" font-size=\"10.00\" fill=\"#000000\"> (10)</text>\n</g>\n<!-- 140137571727072&#45;&gt;140137536217168 -->\n<g id=\"edge12\" class=\"edge\">\n<title>140137571727072&#45;&gt;140137536217168</title>\n<path fill=\"none\" stroke=\"#000000\" d=\"M66.5,-550.6924C66.5,-541.5067 66.5,-529.7245 66.5,-519.8312\"/>\n<polygon fill=\"#000000\" stroke=\"#000000\" points=\"70.0001,-519.703 66.5,-509.7031 63.0001,-519.7031 70.0001,-519.703\"/>\n</g>\n<!-- 140137536217488 -->\n<g id=\"node15\" class=\"node\">\n<title>140137536217488</title>\n<polygon fill=\"#d3d3d3\" stroke=\"#000000\" points=\"206,-509.5 135,-509.5 135,-490.5 206,-490.5 206,-509.5\"/>\n<text text-anchor=\"middle\" x=\"170.5\" y=\"-497.5\" font-family=\"monospace\" font-size=\"10.00\" fill=\"#000000\">TBackward</text>\n</g>\n<!-- 140137536217488&#45;&gt;140140042428112 -->\n<g id=\"edge13\" class=\"edge\">\n<title>140137536217488&#45;&gt;140140042428112</title>\n<path fill=\"none\" stroke=\"#000000\" d=\"M168.7294,-490.2615C166.9923,-480.7077 164.293,-465.8615 162.1033,-453.8183\"/>\n<polygon fill=\"#000000\" stroke=\"#000000\" points=\"165.5104,-452.9911 160.2779,-443.7785 158.6233,-454.2433 165.5104,-452.9911\"/>\n</g>\n<!-- 140137536217360 -->\n<g id=\"node16\" class=\"node\">\n<title>140137536217360</title>\n<polygon fill=\"#d3d3d3\" stroke=\"#000000\" points=\"221,-575.5 120,-575.5 120,-556.5 221,-556.5 221,-575.5\"/>\n<text text-anchor=\"middle\" x=\"170.5\" y=\"-563.5\" font-family=\"monospace\" font-size=\"10.00\" fill=\"#000000\">AccumulateGrad</text>\n</g>\n<!-- 140137536217360&#45;&gt;140137536217488 -->\n<g id=\"edge14\" class=\"edge\">\n<title>140137536217360&#45;&gt;140137536217488</title>\n<path fill=\"none\" stroke=\"#000000\" d=\"M170.5,-556.2615C170.5,-546.7077 170.5,-531.8615 170.5,-519.8183\"/>\n<polygon fill=\"#000000\" stroke=\"#000000\" points=\"174.0001,-519.7784 170.5,-509.7785 167.0001,-519.7785 174.0001,-519.7784\"/>\n</g>\n<!-- 140137714818256 -->\n<g id=\"node17\" class=\"node\">\n<title>140137714818256</title>\n<polygon fill=\"#add8e6\" stroke=\"#000000\" points=\"209,-647 132,-647 132,-617 209,-617 209,-647\"/>\n<text text-anchor=\"middle\" x=\"170.5\" y=\"-635\" font-family=\"monospace\" font-size=\"10.00\" fill=\"#000000\">fc1.weight</text>\n<text text-anchor=\"middle\" x=\"170.5\" y=\"-624\" font-family=\"monospace\" font-size=\"10.00\" fill=\"#000000\"> (10, 2)</text>\n</g>\n<!-- 140137714818256&#45;&gt;140137536217360 -->\n<g id=\"edge15\" class=\"edge\">\n<title>140137714818256&#45;&gt;140137536217360</title>\n<path fill=\"none\" stroke=\"#000000\" d=\"M170.5,-616.6924C170.5,-607.5067 170.5,-595.7245 170.5,-585.8312\"/>\n<polygon fill=\"#000000\" stroke=\"#000000\" points=\"174.0001,-585.703 170.5,-575.7031 167.0001,-585.7031 174.0001,-585.703\"/>\n</g>\n<!-- 140140042428304 -->\n<g id=\"node18\" class=\"node\">\n<title>140140042428304</title>\n<polygon fill=\"#d3d3d3\" stroke=\"#000000\" points=\"303,-377.5 232,-377.5 232,-358.5 303,-358.5 303,-377.5\"/>\n<text text-anchor=\"middle\" x=\"267.5\" y=\"-365.5\" font-family=\"monospace\" font-size=\"10.00\" fill=\"#000000\">TBackward</text>\n</g>\n<!-- 140140042428304&#45;&gt;140140042427472 -->\n<g id=\"edge16\" class=\"edge\">\n<title>140140042428304&#45;&gt;140140042427472</title>\n<path fill=\"none\" stroke=\"#000000\" d=\"M255.4006,-358.2615C242.2444,-347.6723 221.0104,-330.5815 205.3935,-318.0119\"/>\n<polygon fill=\"#000000\" stroke=\"#000000\" points=\"207.3671,-315.1075 197.3824,-311.5639 202.978,-320.5606 207.3671,-315.1075\"/>\n</g>\n<!-- 140137536217232 -->\n<g id=\"node19\" class=\"node\">\n<title>140137536217232</title>\n<polygon fill=\"#d3d3d3\" stroke=\"#000000\" points=\"325,-443.5 224,-443.5 224,-424.5 325,-424.5 325,-443.5\"/>\n<text text-anchor=\"middle\" x=\"274.5\" y=\"-431.5\" font-family=\"monospace\" font-size=\"10.00\" fill=\"#000000\">AccumulateGrad</text>\n</g>\n<!-- 140137536217232&#45;&gt;140140042428304 -->\n<g id=\"edge17\" class=\"edge\">\n<title>140137536217232&#45;&gt;140140042428304</title>\n<path fill=\"none\" stroke=\"#000000\" d=\"M273.4671,-424.2615C272.4538,-414.7077 270.8793,-399.8615 269.6019,-387.8183\"/>\n<polygon fill=\"#000000\" stroke=\"#000000\" points=\"273.0724,-387.3535 268.5371,-377.7785 266.1114,-388.0919 273.0724,-387.3535\"/>\n</g>\n<!-- 140137713405376 -->\n<g id=\"node20\" class=\"node\">\n<title>140137713405376</title>\n<polygon fill=\"#add8e6\" stroke=\"#000000\" points=\"313,-515 236,-515 236,-485 313,-485 313,-515\"/>\n<text text-anchor=\"middle\" x=\"274.5\" y=\"-503\" font-family=\"monospace\" font-size=\"10.00\" fill=\"#000000\">fc2.weight</text>\n<text text-anchor=\"middle\" x=\"274.5\" y=\"-492\" font-family=\"monospace\" font-size=\"10.00\" fill=\"#000000\"> (4, 10)</text>\n</g>\n<!-- 140137713405376&#45;&gt;140137536217232 -->\n<g id=\"edge18\" class=\"edge\">\n<title>140137713405376&#45;&gt;140137536217232</title>\n<path fill=\"none\" stroke=\"#000000\" d=\"M274.5,-484.6924C274.5,-475.5067 274.5,-463.7245 274.5,-453.8312\"/>\n<polygon fill=\"#000000\" stroke=\"#000000\" points=\"278.0001,-453.703 274.5,-443.7031 271.0001,-453.7031 278.0001,-453.703\"/>\n</g>\n<!-- 140140042427984 -->\n<g id=\"node21\" class=\"node\">\n<title>140140042427984</title>\n<polygon fill=\"#d3d3d3\" stroke=\"#000000\" points=\"376,-251 305,-251 305,-232 376,-232 376,-251\"/>\n<text text-anchor=\"middle\" x=\"340.5\" y=\"-239\" font-family=\"monospace\" font-size=\"10.00\" fill=\"#000000\">TBackward</text>\n</g>\n<!-- 140140042427984&#45;&gt;140140042427664 -->\n<g id=\"edge19\" class=\"edge\">\n<title>140140042427984&#45;&gt;140140042427664</title>\n<path fill=\"none\" stroke=\"#000000\" d=\"M316.4622,-231.9197C294.2378,-223.0622 260.9907,-209.8115 236.1348,-199.9052\"/>\n<polygon fill=\"#000000\" stroke=\"#000000\" points=\"237.3106,-196.6061 226.7253,-196.155 234.7189,-203.1087 237.3106,-196.6061\"/>\n</g>\n<!-- 140140042428176 -->\n<g id=\"node22\" class=\"node\">\n<title>140140042428176</title>\n<polygon fill=\"#d3d3d3\" stroke=\"#000000\" points=\"400,-311.5 299,-311.5 299,-292.5 400,-292.5 400,-311.5\"/>\n<text text-anchor=\"middle\" x=\"349.5\" y=\"-299.5\" font-family=\"monospace\" font-size=\"10.00\" fill=\"#000000\">AccumulateGrad</text>\n</g>\n<!-- 140140042428176&#45;&gt;140140042427984 -->\n<g id=\"edge20\" class=\"edge\">\n<title>140140042428176&#45;&gt;140140042427984</title>\n<path fill=\"none\" stroke=\"#000000\" d=\"M348.054,-292.2796C346.8149,-283.9499 344.9908,-271.688 343.4455,-261.3004\"/>\n<polygon fill=\"#000000\" stroke=\"#000000\" points=\"346.9057,-260.7734 341.9723,-251.3972 339.9819,-261.8034 346.9057,-260.7734\"/>\n</g>\n<!-- 140137714816496 -->\n<g id=\"node23\" class=\"node\">\n<title>140137714816496</title>\n<polygon fill=\"#add8e6\" stroke=\"#000000\" points=\"398,-383 321,-383 321,-353 398,-353 398,-383\"/>\n<text text-anchor=\"middle\" x=\"359.5\" y=\"-371\" font-family=\"monospace\" font-size=\"10.00\" fill=\"#000000\">out.weight</text>\n<text text-anchor=\"middle\" x=\"359.5\" y=\"-360\" font-family=\"monospace\" font-size=\"10.00\" fill=\"#000000\"> (1, 4)</text>\n</g>\n<!-- 140137714816496&#45;&gt;140140042428176 -->\n<g id=\"edge21\" class=\"edge\">\n<title>140137714816496&#45;&gt;140140042428176</title>\n<path fill=\"none\" stroke=\"#000000\" d=\"M357.1807,-352.6924C355.7889,-343.5067 354.0037,-331.7245 352.5047,-321.8312\"/>\n<polygon fill=\"#000000\" stroke=\"#000000\" points=\"355.9288,-321.0659 350.9702,-311.7031 349.0078,-322.1146 355.9288,-321.0659\"/>\n</g>\n</g>\n</svg>\n"
          },
          "metadata": {
            "tags": []
          },
          "execution_count": 68
        }
      ]
    },
    {
      "cell_type": "markdown",
      "metadata": {
        "heading_collapsed": true,
        "id": "vPUjDX8ABoGc"
      },
      "source": [
        "## Data: Farsi Hand-written digits classification"
      ]
    },
    {
      "cell_type": "code",
      "metadata": {
        "ExecuteTime": {
          "end_time": "2020-05-05T11:49:24.322716Z",
          "start_time": "2020-05-05T11:49:19.069265Z"
        },
        "hidden": true,
        "id": "FE54NJdSXplU",
        "init_cell": true
      },
      "source": [
        "url = 'https://raw.githubusercontent.com/sraeisi/MachineLearning_Physics/master/Data/Farsi_digits_X.npz'\n",
        "s=requests.get(url, stream=True).content\n",
        "X = np.load(io.BytesIO(s) )['arr_0']\n",
        "url = 'https://raw.githubusercontent.com/sraeisi/MachineLearning_Physics/master/Data/Farsi_digits_Y.npz'\n",
        "s=requests.get(url, stream=True).content\n",
        "Y = np.load(io.BytesIO(s) )['arr_0']\n",
        "\n",
        "# X = np.load('X.npz')['arr_0']\n",
        "# Y = np.load('Y.npz')['arr_0']\n",
        "\n",
        "\n",
        "from sklearn.utils import shuffle\n",
        "X, Y = shuffle(X,Y, random_state = 0 )"
      ],
      "execution_count": null,
      "outputs": []
    },
    {
      "cell_type": "code",
      "metadata": {
        "ExecuteTime": {
          "end_time": "2020-05-04T16:42:36.764489Z",
          "start_time": "2020-05-04T16:42:36.756468Z"
        },
        "hidden": true,
        "id": "ldLimT4BXqVg",
        "colab": {
          "base_uri": "https://localhost:8080/"
        },
        "outputId": "a3eb1641-7567-4f5f-b0ea-2a9879b4b568"
      },
      "source": [
        "print('Each image is of the form: {}'.format(X[0].shape ) )"
      ],
      "execution_count": null,
      "outputs": [
        {
          "output_type": "stream",
          "text": [
            "Each image is of the form: (32, 32)\n"
          ],
          "name": "stdout"
        }
      ]
    },
    {
      "cell_type": "code",
      "metadata": {
        "id": "_C1Tbx0MDMZM",
        "colab": {
          "base_uri": "https://localhost:8080/",
          "height": 293
        },
        "outputId": "89628813-4c87-47d6-a8be-8626c3d595b8"
      },
      "source": [
        "plt.imshow(X[270])\n",
        "X.reshape(-1, 32*32).shape\n",
        "Y[270]"
      ],
      "execution_count": null,
      "outputs": [
        {
          "output_type": "execute_result",
          "data": {
            "text/plain": [
              "8"
            ]
          },
          "metadata": {
            "tags": []
          },
          "execution_count": 78
        },
        {
          "output_type": "display_data",
          "data": {
            "image/png": "[encoded data removed]",
            "text/plain": [
              "<Figure size 432x288 with 1 Axes>"
            ]
          },
          "metadata": {
            "tags": [],
            "needs_background": "light"
          }
        }
      ]
    },
    {
      "cell_type": "code",
      "metadata": {
        "ExecuteTime": {
          "end_time": "2020-05-04T11:07:23.903378Z",
          "start_time": "2020-05-04T11:07:23.525789Z"
        },
        "hidden": true,
        "id": "rNwqhBKg6NL7",
        "colab": {
          "base_uri": "https://localhost:8080/",
          "height": 293
        },
        "outputId": "81279828-feb9-452e-baa4-293c333a5761"
      },
      "source": [
        "plt.imshow(X[270])"
      ],
      "execution_count": null,
      "outputs": [
        {
          "output_type": "execute_result",
          "data": {
            "text/plain": [
              "<matplotlib.image.AxesImage at 0x7f745006e350>"
            ]
          },
          "metadata": {
            "tags": []
          },
          "execution_count": 73
        },
        {
          "output_type": "display_data",
          "data": {
            "image/png": "[encoded data removed]",
            "text/plain": [
              "<Figure size 432x288 with 1 Axes>"
            ]
          },
          "metadata": {
            "tags": [],
            "needs_background": "light"
          }
        }
      ]
    },
    {
      "cell_type": "code",
      "metadata": {
        "ExecuteTime": {
          "end_time": "2020-05-05T11:49:31.463454Z",
          "start_time": "2020-05-05T11:49:30.652380Z"
        },
        "hidden": true,
        "id": "FyNX5FJRXx9V",
        "init_cell": true
      },
      "source": [
        "from sklearn.model_selection import train_test_split\n",
        "from sklearn.metrics import confusion_matrix\n",
        "\n",
        "X_train, X_test, Y_train, Y_test = train_test_split(X, Y, random_state=0)"
      ],
      "execution_count": null,
      "outputs": []
    }
  ]
}