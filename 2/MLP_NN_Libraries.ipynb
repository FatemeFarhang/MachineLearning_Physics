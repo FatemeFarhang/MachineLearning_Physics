{
  "nbformat": 4,
  "nbformat_minor": 0,
  "metadata": {
    "accelerator": "GPU",
    "celltoolbar": "Initialization Cell",
    "colab": {
      "name": "MLP_NN_Libraries.ipynb",
      "provenance": [],
      "collapsed_sections": [
        "DHsgox0o117V",
        "i57n75TH8hps",
        "up0G4Hqm1z7S",
        "4pBsRp0S1z7a",
        "sTy_cs4Q1z7o",
        "5ns2Pq871z73",
        "AvJuZGcu1z7_",
        "HV2AO9Yx1z8Z",
        "Pw3EoyFJ8hsR"
      ],
      "include_colab_link": true
    },
    "kernelspec": {
      "display_name": "Python 3",
      "language": "python",
      "name": "python3"
    },
    "language_info": {
      "codemirror_mode": {
        "name": "ipython",
        "version": 3
      },
      "file_extension": ".py",
      "mimetype": "text/x-python",
      "name": "python",
      "nbconvert_exporter": "python",
      "pygments_lexer": "ipython3",
      "version": "3.6.10"
    },
    "latex_envs": {
      "LaTeX_envs_menu_present": true,
      "autoclose": false,
      "autocomplete": true,
      "bibliofile": "biblio.bib",
      "cite_by": "apalike",
      "current_citInitial": 1,
      "eqLabelWithNumbers": true,
      "eqNumInitial": 1,
      "hotkeys": {
        "equation": "Ctrl-E",
        "itemize": "Ctrl-I"
      },
      "labels_anchors": false,
      "latex_user_defs": false,
      "report_style_numbering": false,
      "user_envs_cfg": false
    },
    "toc": {
      "base_numbering": 1,
      "nav_menu": {},
      "number_sections": true,
      "sideBar": true,
      "skip_h1_title": false,
      "title_cell": "Table of Contents",
      "title_sidebar": "Contents",
      "toc_cell": false,
      "toc_position": {},
      "toc_section_display": true,
      "toc_window_display": false
    },
    "varInspector": {
      "cols": {
        "lenName": 16,
        "lenType": 16,
        "lenVar": 40
      },
      "kernels_config": {
        "python": {
          "delete_cmd_postfix": "",
          "delete_cmd_prefix": "del ",
          "library": "var_list.py",
          "varRefreshCmd": "print(var_dic_list())"
        },
        "r": {
          "delete_cmd_postfix": ") ",
          "delete_cmd_prefix": "rm(",
          "library": "var_list.r",
          "varRefreshCmd": "cat(var_dic_list()) "
        }
      },
      "types_to_exclude": [
        "module",
        "function",
        "builtin_function_or_method",
        "instance",
        "_Feature"
      ],
      "window_display": false
    }
  },
  "cells": [
    {
      "cell_type": "markdown",
      "metadata": {
        "id": "view-in-github",
        "colab_type": "text"
      },
      "source": [
        "<a href=\"https://colab.research.google.com/github/FatemeFarhang/MachineLearning_Physics/blob/master/2/MLP_NN_Libraries.ipynb\" target=\"_parent\"><img src=\"https://colab.research.google.com/assets/colab-badge.svg\" alt=\"Open In Colab\"/></a>"
      ]
    },
    {
      "cell_type": "markdown",
      "metadata": {
        "id": "DHsgox0o117V"
      },
      "source": [
        "# Pre"
      ]
    },
    {
      "cell_type": "code",
      "metadata": {
        "ExecuteTime": {
          "end_time": "2020-04-26T10:02:49.473349Z",
          "start_time": "2020-04-26T10:02:49.469347Z"
        },
        "id": "0e_arpYe1z6X",
        "init_cell": true
      },
      "source": [
        "import numpy as np\n",
        "import pandas as pd\n",
        "import matplotlib.pyplot as plt\n",
        "plt.style.use('seaborn-talk')\n",
        "\n",
        "import datetime\n",
        "\n",
        "import io, requests, zipfile\n",
        "\n",
        "\n",
        "\n",
        "'''Set the defaults for your plots.'''\n",
        "# plt.rcParams.update({'font.size': 20, 'figsize':(8,6)})\n",
        "SMALL_SIZE = 12\n",
        "MEDIUM_SIZE = 15\n",
        "BIGGER_SIZE = 18\n",
        "\n",
        "plt.rc('font', size=BIGGER_SIZE)          # controls default text sizes\n",
        "plt.rc('axes', titlesize=MEDIUM_SIZE)     # fontsize of the axes title\n",
        "plt.rc('axes', labelsize=BIGGER_SIZE)    # fontsize of the x and y labels\n",
        "plt.rc('xtick', labelsize=SMALL_SIZE)    # fontsize of the tick labels\n",
        "plt.rc('ytick', labelsize=SMALL_SIZE)    # fontsize of the tick labels\n",
        "plt.rc('legend', fontsize=MEDIUM_SIZE)    # legend fontsize\n",
        "plt.rc('figure', titlesize=BIGGER_SIZE)  # fontsize of the figure title\n",
        "\n",
        "plt.rc('axes', linewidth = 5 )\n",
        "plt.rc('lines', linewidth = 5 )\n",
        "\n",
        "plt.rc('lines', markersize = 5 )\n",
        "\n",
        "plt.rc('figure', figsize=(8,4) )         # Image size\n",
        "\n",
        "from zipfile import ZipFile\n",
        "\n",
        "\n",
        "from collections import Counter\n",
        "\n",
        "import warnings\n",
        "warnings.filterwarnings('ignore')\n",
        "\n",
        "from sklearn.utils import shuffle\n",
        "\n"
      ],
      "execution_count": 1,
      "outputs": []
    },
    {
      "cell_type": "code",
      "metadata": {
        "ExecuteTime": {
          "end_time": "2020-04-26T10:02:49.492349Z",
          "start_time": "2020-04-26T10:02:49.475349Z"
        },
        "init_cell": true,
        "id": "UzYne0CK8hpo"
      },
      "source": [
        "def grid(x1, x2, off_set = .1, n_points = 100):\n",
        "    ## d s show the range in the two varible. \n",
        "    d1 = x1.max() - x1.min()\n",
        "    d2 = x2.max() - x2.min()\n",
        "    \n",
        "    x1_min, x1_max = x1.min() - off_set * d1 , x1.max() + off_set * d1\n",
        "    x2_min, x2_max = x2.min() - off_set * d2 , x2.max() + off_set * d2\n",
        "\n",
        "    ## This function from numpy gives a list of coordinates that are the points on the grid. \n",
        "    x, y = np.meshgrid(np.arange(x1_min, x1_max , d1/n_points), np.arange(x2_min, x2_max , d2/n_points) )\n",
        "\n",
        "    return x , y "
      ],
      "execution_count": 2,
      "outputs": []
    },
    {
      "cell_type": "markdown",
      "metadata": {
        "id": "mfNj91Ci6eI9"
      },
      "source": [
        "### Data"
      ]
    },
    {
      "cell_type": "code",
      "metadata": {
        "id": "jOjbPWEhUSf6"
      },
      "source": [
        "import requests, io\n",
        "url = 'https://raw.githubusercontent.com/sraeisi/Machine_Learning_Physics_Winter20/master/Lec1/particle_mini.npz'\n",
        "s=requests.get(url, stream=True).content\n",
        "data=np.load(io.BytesIO(s) )\n",
        "\n",
        "# data = np.load( 'particle_mini.npz' )\n",
        "X, Y = data['X'], data['Y']\n",
        "# The labels are 1 or 2. So we need to turn them into 0 and  1. \n",
        "Y = (Y>1.5).astype(int)\n",
        "\n",
        "from sklearn.model_selection import train_test_split\n",
        "X_train, X_test, Y_train, Y_test  = train_test_split(X, Y, random_state= 0)\n",
        "\n",
        "# data = pd.read_csv('particle-identification-from-detector-responses.zip', compression='zip')\n",
        "# data.head()"
      ],
      "execution_count": 3,
      "outputs": []
    },
    {
      "cell_type": "markdown",
      "metadata": {
        "id": "sXyJ6nLB8hpr"
      },
      "source": [
        "# Tensorflow\n",
        "\n",
        "There are many different frameworks and APIs for deep learning and neural networks. \n",
        "\n",
        "Here you learn more about them and how they compare to each other:  \n",
        "https://wiki.pathmind.com/comparison-frameworks-dl4j-tensorflow-pytorch\n",
        "\n",
        "Here we focus on Tensorflow (Keras) and Pytorch as the two main tools that we'll be using."
      ]
    },
    {
      "cell_type": "markdown",
      "metadata": {
        "id": "i57n75TH8hps"
      },
      "source": [
        "## Old version and the computation graph"
      ]
    },
    {
      "cell_type": "code",
      "metadata": {
        "id": "a_Fcdf7X8hps",
        "colab": {
          "base_uri": "https://localhost:8080/"
        },
        "outputId": "a265a511-f898-4da7-b847-24bf4d0efa8a"
      },
      "source": [
        "%tensorflow_version 1.x\n",
        "import tensorflow as tf\n",
        "print(tf.__version__)\n",
        "\n",
        "%load_ext tensorboard\n"
      ],
      "execution_count": null,
      "outputs": [
        {
          "output_type": "stream",
          "name": "stdout",
          "text": [
            "TensorFlow 1.x selected.\n",
            "1.15.2\n"
          ]
        }
      ]
    },
    {
      "cell_type": "code",
      "metadata": {
        "id": "e-ix6fzV8hpv",
        "colab": {
          "base_uri": "https://localhost:8080/"
        },
        "outputId": "e0283540-0000-4241-ec92-60dcaa221c9f"
      },
      "source": [
        "###1. Simple Algebra\n",
        "\n",
        "a = tf.Variable(1, name='a')\n",
        "b = tf.Variable(2, name='b')\n",
        "\n",
        "f = a + b\n",
        "\n",
        "print(f)"
      ],
      "execution_count": null,
      "outputs": [
        {
          "output_type": "stream",
          "name": "stdout",
          "text": [
            "Tensor(\"add_1:0\", shape=(), dtype=int32)\n"
          ]
        }
      ]
    },
    {
      "cell_type": "code",
      "metadata": {
        "colab": {
          "base_uri": "https://localhost:8080/"
        },
        "id": "rVyePJAubvaS",
        "outputId": "d48cfc0f-0ed2-4bc4-8bde-f1268cd5ab09"
      },
      "source": [
        "a"
      ],
      "execution_count": null,
      "outputs": [
        {
          "output_type": "execute_result",
          "data": {
            "text/plain": [
              "<tf.Variable 'a:0' shape=() dtype=int32_ref>"
            ]
          },
          "metadata": {},
          "execution_count": 11
        }
      ]
    },
    {
      "cell_type": "code",
      "metadata": {
        "id": "e9D0lP-Q8hpx",
        "colab": {
          "base_uri": "https://localhost:8080/"
        },
        "outputId": "6e2a971b-5e01-4aab-d1be-61c60965f353"
      },
      "source": [
        "init = tf.global_variables_initializer()\n",
        "\n",
        "with tf.Session() as s:\n",
        "    init.run()\n",
        "    print(b.eval())\n",
        "    \n",
        "\n",
        "    print(f.eval() )\n"
      ],
      "execution_count": null,
      "outputs": [
        {
          "output_type": "stream",
          "name": "stdout",
          "text": [
            "2\n",
            "3\n"
          ]
        }
      ]
    },
    {
      "cell_type": "code",
      "metadata": {
        "id": "bIGHFLRGH4ZQ"
      },
      "source": [
        "# del( f, init)"
      ],
      "execution_count": null,
      "outputs": []
    },
    {
      "cell_type": "code",
      "metadata": {
        "id": "CiZJdZjA8hp1",
        "colab": {
          "base_uri": "https://localhost:8080/"
        },
        "outputId": "0773d337-f045-4e08-d2e5-b02412ac9535"
      },
      "source": [
        "init = tf.global_variables_initializer()\n",
        " \n",
        "# Clear any logs from previous runs\n",
        "!rm -rf ./logs/ \n",
        "\n",
        "log_file = \"logs/fit/\" + datetime.datetime.now().strftime(\"%Y%m%d-%H%M%S\")\n",
        "# log_Name = 'Simple_Addition'\n",
        "\n",
        "with tf.Session() as s:\n",
        "    file_writer = tf.summary.FileWriter(log_file, s.graph)\n",
        "    init.run()\n",
        "    print(f.eval() )"
      ],
      "execution_count": null,
      "outputs": [
        {
          "output_type": "stream",
          "name": "stdout",
          "text": [
            "3\n"
          ]
        }
      ]
    },
    {
      "cell_type": "code",
      "metadata": {
        "id": "yDMdzMGr9IFp"
      },
      "source": [
        "%tensorboard --logdir logs/fit\n"
      ],
      "execution_count": null,
      "outputs": []
    },
    {
      "cell_type": "code",
      "metadata": {
        "id": "7jgzL4qF8hp4",
        "colab": {
          "base_uri": "https://localhost:8080/"
        },
        "outputId": "a305cbd7-997f-4ea0-cfc7-054307663569"
      },
      "source": [
        "###2. Simple Optimization Problem\n",
        "\n",
        "w = tf.Variable([0], dtype=tf.float32)\n",
        "f = w**2 -10 * w + 25\n",
        "\n",
        "optimize = tf.train.GradientDescentOptimizer(0.01).minimize(f)\n",
        "\n",
        "init = tf.global_variables_initializer()\n",
        "\n",
        "## Add Tensor board\n",
        "# Clear any logs from previous runs\n",
        "!rm -rf ./logs/ \n",
        "\n",
        "log_file = \"logs/fit/\" + datetime.datetime.now().strftime(\"%Y%m%d-%H%M%S\")\n",
        "# log_Name = 'Simple_Addition'\n",
        "\n",
        "\n",
        "with tf.Session() as s:\n",
        "    file_writer = tf.summary.FileWriter(log_file, s.graph)\n",
        "    init.run()\n",
        "    print(w.eval() )\n",
        "    \n",
        "    for i in range(1000):\n",
        "        s.run(optimize)\n",
        "    \n",
        "    print(w.eval())"
      ],
      "execution_count": null,
      "outputs": [
        {
          "output_type": "stream",
          "name": "stdout",
          "text": [
            "WARNING:tensorflow:From /tensorflow-1.15.2/python3.7/tensorflow_core/python/ops/math_grad.py:1375: where (from tensorflow.python.ops.array_ops) is deprecated and will be removed in a future version.\n",
            "Instructions for updating:\n",
            "Use tf.where in 2.0, which has the same broadcast rule as np.where\n",
            "[0.]\n",
            "[4.999988]\n"
          ]
        }
      ]
    },
    {
      "cell_type": "code",
      "metadata": {
        "id": "KLaeE0uWAkOI"
      },
      "source": [
        "%tensorboard --logdir logs/fit"
      ],
      "execution_count": null,
      "outputs": []
    },
    {
      "cell_type": "code",
      "metadata": {
        "id": "TGr2A5MC8hp7",
        "colab": {
          "base_uri": "https://localhost:8080/"
        },
        "outputId": "c2d83b9d-e530-43ff-f737-8d5acfc52733"
      },
      "source": [
        "###3. Optimization with Variable inputs\n",
        "\n",
        "X = tf.placeholder(tf.float32, [3,1])\n",
        "w = tf.Variable([0], dtype=tf.float32)\n",
        "f = X[0][0] * w**2 -X[1][0] * w + X[2][0] \n",
        "\n",
        "coefs = np.array( [[1] , [-12], [36] ] )\n",
        "\n",
        "optimize = tf.train.GradientDescentOptimizer(0.01).minimize(f)\n",
        "\n",
        "init = tf.global_variables_initializer()\n",
        "\n",
        "## Add Tensor board\n",
        "# Clear any logs from previous runs\n",
        "!rm -rf ./logs/ \n",
        "\n",
        "log_file = \"logs/fit/\" + datetime.datetime.now().strftime(\"%Y%m%d-%H%M%S\")\n",
        "# log_Name = 'Simple_Addition'\n",
        "\n",
        "\n",
        "with tf.Session() as s:\n",
        "  file_writer = tf.summary.FileWriter(log_file, s.graph)\n",
        "  init.run()\n",
        "  print(w.eval() )\n",
        "  \n",
        "  for i in range(1000):\n",
        "      s.run(optimize, feed_dict = {X:coefs})\n",
        "  \n",
        "  print(w.eval())\t\n",
        "\n"
      ],
      "execution_count": null,
      "outputs": [
        {
          "output_type": "stream",
          "name": "stdout",
          "text": [
            "[0.]\n",
            "[-5.999988]\n"
          ]
        }
      ]
    },
    {
      "cell_type": "code",
      "metadata": {
        "id": "tTIwtpr8KzgO"
      },
      "source": [
        "!kill 869"
      ],
      "execution_count": null,
      "outputs": []
    },
    {
      "cell_type": "code",
      "metadata": {
        "id": "hKKksCXi8hp9"
      },
      "source": [
        "%tensorboard --logdir logs/fit"
      ],
      "execution_count": null,
      "outputs": []
    },
    {
      "cell_type": "markdown",
      "metadata": {
        "id": "BfLrohni8hqA"
      },
      "source": [
        "## Keras"
      ]
    },
    {
      "cell_type": "markdown",
      "metadata": {
        "id": "DZJfPwxW9Fqn"
      },
      "source": [
        "Need to restart runtime and start with the latest version of TF."
      ]
    },
    {
      "cell_type": "code",
      "metadata": {
        "id": "W_N3YEeG1uW9"
      },
      "source": [
        "from tensorflow import keras as ks"
      ],
      "execution_count": 4,
      "outputs": []
    },
    {
      "cell_type": "code",
      "metadata": {
        "colab": {
          "base_uri": "https://localhost:8080/"
        },
        "id": "wuT8k9gO2ipO",
        "outputId": "a4433a8f-83d2-4d70-ba15-4824b988e8d2"
      },
      "source": [
        "print(X_train.shape)\n",
        "print( Counter(Y_train) )"
      ],
      "execution_count": 5,
      "outputs": [
        {
          "output_type": "stream",
          "name": "stdout",
          "text": [
            "(7142, 2)\n",
            "Counter({0: 4251, 1: 2891})\n"
          ]
        }
      ]
    },
    {
      "cell_type": "code",
      "metadata": {
        "id": "SFKvm5zRz7y4",
        "colab": {
          "base_uri": "https://localhost:8080/"
        },
        "outputId": "85979b50-186a-4123-999c-4fc784cc9a79"
      },
      "source": [
        "from tensorflow import keras as ks\n",
        "\n",
        "model = ks.Sequential()\n",
        "model.add(ks.layers.Dense(10, activation=ks.activations.relu, input_dim = 2)  )\n",
        "model.add(ks.layers.Dense(10, activation=ks.activations.relu)  )\n",
        "model.add(ks.layers.Dense(1, activation=ks.activations.sigmoid)  )\n",
        "model.summary()"
      ],
      "execution_count": 6,
      "outputs": [
        {
          "output_type": "stream",
          "name": "stdout",
          "text": [
            "Model: \"sequential\"\n",
            "_________________________________________________________________\n",
            " Layer (type)                Output Shape              Param #   \n",
            "=================================================================\n",
            " dense (Dense)               (None, 10)                30        \n",
            "                                                                 \n",
            " dense_1 (Dense)             (None, 10)                110       \n",
            "                                                                 \n",
            " dense_2 (Dense)             (None, 1)                 11        \n",
            "                                                                 \n",
            "=================================================================\n",
            "Total params: 151\n",
            "Trainable params: 151\n",
            "Non-trainable params: 0\n",
            "_________________________________________________________________\n"
          ]
        }
      ]
    },
    {
      "cell_type": "code",
      "metadata": {
        "id": "67dHIZyd8hqG"
      },
      "source": [
        "model.compile( loss=ks.losses.binary_crossentropy  , \n",
        "              optimizer = ks.optimizers.SGD() ,  \n",
        "              metrics = ks.metrics.binary_accuracy )"
      ],
      "execution_count": 7,
      "outputs": []
    },
    {
      "cell_type": "code",
      "metadata": {
        "colab": {
          "base_uri": "https://localhost:8080/"
        },
        "id": "bcgTpiqayqN2",
        "outputId": "c522f788-0dac-4c68-d2e0-f440a4615a47"
      },
      "source": [
        "print(Counter(Y))\n",
        "model.predict(X_test[:3])"
      ],
      "execution_count": 8,
      "outputs": [
        {
          "output_type": "stream",
          "name": "stdout",
          "text": [
            "Counter({0: 5614, 1: 3909})\n"
          ]
        },
        {
          "output_type": "execute_result",
          "data": {
            "text/plain": [
              "array([[0.51258546],\n",
              "       [0.48593655],\n",
              "       [0.52323633]], dtype=float32)"
            ]
          },
          "metadata": {},
          "execution_count": 8
        }
      ]
    },
    {
      "cell_type": "code",
      "metadata": {
        "id": "7AfdgqVf8hqJ",
        "colab": {
          "base_uri": "https://localhost:8080/"
        },
        "outputId": "ae69baf1-c171-4222-b8b3-afe16791f43d"
      },
      "source": [
        "## Let's try this for the particle identification \n",
        "history = model.fit(X_train, Y_train, \n",
        "                    epochs=50 \n",
        "                    )\n"
      ],
      "execution_count": 9,
      "outputs": [
        {
          "output_type": "stream",
          "name": "stdout",
          "text": [
            "Epoch 1/50\n",
            "224/224 [==============================] - 1s 3ms/step - loss: 0.6833 - binary_accuracy: 0.5662\n",
            "Epoch 2/50\n",
            "224/224 [==============================] - 1s 3ms/step - loss: 0.6533 - binary_accuracy: 0.5952\n",
            "Epoch 3/50\n",
            "224/224 [==============================] - 1s 3ms/step - loss: 0.6268 - binary_accuracy: 0.5952\n",
            "Epoch 4/50\n",
            "224/224 [==============================] - 1s 3ms/step - loss: 0.5966 - binary_accuracy: 0.6022\n",
            "Epoch 5/50\n",
            "224/224 [==============================] - 1s 3ms/step - loss: 0.5648 - binary_accuracy: 0.6262\n",
            "Epoch 6/50\n",
            "224/224 [==============================] - 1s 3ms/step - loss: 0.5333 - binary_accuracy: 0.6641\n",
            "Epoch 7/50\n",
            "224/224 [==============================] - 1s 3ms/step - loss: 0.5043 - binary_accuracy: 0.6970\n",
            "Epoch 8/50\n",
            "224/224 [==============================] - 1s 3ms/step - loss: 0.4788 - binary_accuracy: 0.7281\n",
            "Epoch 9/50\n",
            "224/224 [==============================] - 1s 3ms/step - loss: 0.4568 - binary_accuracy: 0.7551\n",
            "Epoch 10/50\n",
            "224/224 [==============================] - 1s 4ms/step - loss: 0.4363 - binary_accuracy: 0.7809\n",
            "Epoch 11/50\n",
            "224/224 [==============================] - 1s 4ms/step - loss: 0.4159 - binary_accuracy: 0.8331\n",
            "Epoch 12/50\n",
            "224/224 [==============================] - 1s 3ms/step - loss: 0.3944 - binary_accuracy: 0.8556\n",
            "Epoch 13/50\n",
            "224/224 [==============================] - 1s 4ms/step - loss: 0.3704 - binary_accuracy: 0.8689\n",
            "Epoch 14/50\n",
            "224/224 [==============================] - 1s 3ms/step - loss: 0.3438 - binary_accuracy: 0.8898\n",
            "Epoch 15/50\n",
            "224/224 [==============================] - 1s 3ms/step - loss: 0.3152 - binary_accuracy: 0.9039\n",
            "Epoch 16/50\n",
            "224/224 [==============================] - 1s 3ms/step - loss: 0.2875 - binary_accuracy: 0.9244\n",
            "Epoch 17/50\n",
            "224/224 [==============================] - 1s 4ms/step - loss: 0.2609 - binary_accuracy: 0.9434\n",
            "Epoch 18/50\n",
            "224/224 [==============================] - 1s 3ms/step - loss: 0.2375 - binary_accuracy: 0.9597\n",
            "Epoch 19/50\n",
            "224/224 [==============================] - 1s 3ms/step - loss: 0.2164 - binary_accuracy: 0.9716\n",
            "Epoch 20/50\n",
            "224/224 [==============================] - 1s 3ms/step - loss: 0.1979 - binary_accuracy: 0.9755\n",
            "Epoch 21/50\n",
            "224/224 [==============================] - 1s 4ms/step - loss: 0.1817 - binary_accuracy: 0.9765\n",
            "Epoch 22/50\n",
            "224/224 [==============================] - 1s 3ms/step - loss: 0.1681 - binary_accuracy: 0.9793\n",
            "Epoch 23/50\n",
            "224/224 [==============================] - 1s 4ms/step - loss: 0.1562 - binary_accuracy: 0.9805\n",
            "Epoch 24/50\n",
            "224/224 [==============================] - 1s 4ms/step - loss: 0.1461 - binary_accuracy: 0.9811\n",
            "Epoch 25/50\n",
            "224/224 [==============================] - 1s 4ms/step - loss: 0.1372 - binary_accuracy: 0.9817\n",
            "Epoch 26/50\n",
            "224/224 [==============================] - 1s 3ms/step - loss: 0.1299 - binary_accuracy: 0.9812\n",
            "Epoch 27/50\n",
            "224/224 [==============================] - 1s 3ms/step - loss: 0.1227 - binary_accuracy: 0.9829\n",
            "Epoch 28/50\n",
            "224/224 [==============================] - 1s 4ms/step - loss: 0.1171 - binary_accuracy: 0.9832\n",
            "Epoch 29/50\n",
            "224/224 [==============================] - 1s 3ms/step - loss: 0.1116 - binary_accuracy: 0.9828\n",
            "Epoch 30/50\n",
            "224/224 [==============================] - 1s 3ms/step - loss: 0.1069 - binary_accuracy: 0.9824\n",
            "Epoch 31/50\n",
            "224/224 [==============================] - 1s 4ms/step - loss: 0.1047 - binary_accuracy: 0.9833\n",
            "Epoch 32/50\n",
            "224/224 [==============================] - 1s 4ms/step - loss: 0.1006 - binary_accuracy: 0.9842\n",
            "Epoch 33/50\n",
            "224/224 [==============================] - 1s 4ms/step - loss: 0.0980 - binary_accuracy: 0.9842\n",
            "Epoch 34/50\n",
            "224/224 [==============================] - 1s 4ms/step - loss: 0.0949 - binary_accuracy: 0.9836\n",
            "Epoch 35/50\n",
            "224/224 [==============================] - 1s 4ms/step - loss: 0.0917 - binary_accuracy: 0.9856\n",
            "Epoch 36/50\n",
            "224/224 [==============================] - 1s 4ms/step - loss: 0.0901 - binary_accuracy: 0.9829\n",
            "Epoch 37/50\n",
            "224/224 [==============================] - 1s 3ms/step - loss: 0.0876 - binary_accuracy: 0.9849\n",
            "Epoch 38/50\n",
            "224/224 [==============================] - 1s 4ms/step - loss: 0.0873 - binary_accuracy: 0.9845\n",
            "Epoch 39/50\n",
            "224/224 [==============================] - 1s 4ms/step - loss: 0.0840 - binary_accuracy: 0.9854\n",
            "Epoch 40/50\n",
            "224/224 [==============================] - 1s 4ms/step - loss: 0.0828 - binary_accuracy: 0.9845\n",
            "Epoch 41/50\n",
            "224/224 [==============================] - 1s 4ms/step - loss: 0.0814 - binary_accuracy: 0.9840\n",
            "Epoch 42/50\n",
            "224/224 [==============================] - 1s 4ms/step - loss: 0.0792 - binary_accuracy: 0.9849\n",
            "Epoch 43/50\n",
            "224/224 [==============================] - 1s 3ms/step - loss: 0.0795 - binary_accuracy: 0.9836\n",
            "Epoch 44/50\n",
            "224/224 [==============================] - 1s 4ms/step - loss: 0.0773 - binary_accuracy: 0.9849\n",
            "Epoch 45/50\n",
            "224/224 [==============================] - 1s 4ms/step - loss: 0.0763 - binary_accuracy: 0.9847\n",
            "Epoch 46/50\n",
            "224/224 [==============================] - 1s 3ms/step - loss: 0.0768 - binary_accuracy: 0.9840\n",
            "Epoch 47/50\n",
            "224/224 [==============================] - 1s 4ms/step - loss: 0.0741 - binary_accuracy: 0.9838\n",
            "Epoch 48/50\n",
            "224/224 [==============================] - 1s 3ms/step - loss: 0.0735 - binary_accuracy: 0.9836\n",
            "Epoch 49/50\n",
            "224/224 [==============================] - 1s 3ms/step - loss: 0.0718 - binary_accuracy: 0.9845\n",
            "Epoch 50/50\n",
            "224/224 [==============================] - 1s 4ms/step - loss: 0.0708 - binary_accuracy: 0.9863\n"
          ]
        }
      ]
    },
    {
      "cell_type": "code",
      "metadata": {
        "colab": {
          "base_uri": "https://localhost:8080/",
          "height": 369
        },
        "id": "L2lAP4mJ-JY4",
        "outputId": "077880b8-c3aa-47fe-da4f-0d96cb398c80"
      },
      "source": [
        "# Plot training & validation accuracy values\n",
        "fig = plt.figure(figsize=(10,5))\n",
        "\n",
        "# Plot training & validation loss values\n",
        "ax = fig.add_subplot(1,1,1, title = 'Model loss', ylabel= 'Loss')\n",
        "plt.plot(history.history['loss'])\n",
        "# plt.plot(history.history['val_loss'])\n",
        "plt.legend(['Train', 'Test'], loc='upper left')\n",
        "\n",
        "plt.tight_layout()\n",
        "plt.show()"
      ],
      "execution_count": 10,
      "outputs": [
        {
          "output_type": "display_data",
          "data": {
            "image/png": "[encoded data removed]",
            "text/plain": [
              "<Figure size 720x360 with 1 Axes>"
            ]
          },
          "metadata": {
            "needs_background": "light"
          }
        }
      ]
    },
    {
      "cell_type": "code",
      "metadata": {
        "id": "xzgfOmqX8hqL",
        "colab": {
          "base_uri": "https://localhost:8080/",
          "height": 369
        },
        "outputId": "2538deac-8faa-4e1a-c124-49d5fc66b4bb"
      },
      "source": [
        "#predictions of the model for test set\n",
        "y_predict = (model.predict(X_test)>.5).astype(int)\n",
        "\n",
        "x1_list, x2_list = grid(X[:,0], X[:,1], n_points=70)\n",
        "X_grid = np.vstack([x1_list.reshape(-1),x2_list.reshape(-1)]).T\n",
        "Y_grid = model.predict( X_grid ).reshape(x1_list.shape )\n",
        "\n",
        "fig = plt.figure(figsize=(15,5))\n",
        "ax = fig.add_subplot(121 , xlabel = 'X1', ylabel='X2', title = 'Result of the Classification')\n",
        "    \n",
        "ax.contourf(x1_list, x2_list, Y_grid, alpha=.4, cmap=plt.cm.coolwarm)\n",
        "ax.scatter(*X.T, c=Y)    \n",
        "# ax.text(3, 1.4, f'Accuracy: {np.round( model.score(X_test.T, Y_test) , 3)}' , fontsize=20)\n",
        "\n",
        "ax = fig.add_subplot(122 , xlabel = 'X1', ylabel='X2', title = 'Predicitions of the NN')\n",
        "plt.scatter(*X_test.T, c = y_predict.reshape(-1))\n",
        "\n",
        "\n",
        "plt.tight_layout()\n",
        "plt.show()"
      ],
      "execution_count": 11,
      "outputs": [
        {
          "output_type": "display_data",
          "data": {
            "image/png": "[encoded data removed]",
            "text/plain": [
              "<Figure size 1080x360 with 2 Axes>"
            ]
          },
          "metadata": {
            "needs_background": "light"
          }
        }
      ]
    },
    {
      "cell_type": "markdown",
      "metadata": {
        "id": "18y41-saEmPr"
      },
      "source": [
        "### More structured"
      ]
    },
    {
      "cell_type": "code",
      "metadata": {
        "id": "7qhQ32B557Z9"
      },
      "source": [
        "n_epoch=20\n",
        "btch_size = 100\n",
        "lr = .1"
      ],
      "execution_count": 12,
      "outputs": []
    },
    {
      "cell_type": "code",
      "metadata": {
        "id": "4AX4mq3_4baU"
      },
      "source": [
        "from tensorflow import keras as ks\n",
        "\n",
        "model = ks.Sequential()\n",
        "model.add(ks.layers.Dense(10, activation=ks.activations.relu, input_dim = 2)  )\n",
        "model.add(ks.layers.Dense(10, activation=ks.activations.relu)  )\n",
        "model.add(ks.layers.Dense(1, activation=ks.activations.sigmoid)  )\n",
        "\n",
        "\n",
        "model.compile(  \n",
        "    optimizer=ks.optimizers.SGD(learning_rate=lr ), \n",
        "    loss = ks.losses.mse, \n",
        "    metrics = 'acc'    \n",
        ")"
      ],
      "execution_count": 13,
      "outputs": []
    },
    {
      "cell_type": "code",
      "metadata": {
        "id": "7XI8-JcI8hqQ",
        "colab": {
          "base_uri": "https://localhost:8080/"
        },
        "outputId": "4e566ce1-96a7-468c-dd90-79ac646d9aa1"
      },
      "source": [
        "# Tensorboard\n",
        "# https://www.tensorflow.org/tensorboard/get_started\n",
        "# Load the TensorBoard notebook extension\n",
        "# %load_ext tensorboard\n",
        "%reload_ext tensorboard\n",
        "\n",
        "# Clear any logs from previous runs\n",
        "!rm -rf ./logs/ \n",
        "\n",
        "log_dir = \"logs/fit/\" + datetime.datetime.now().strftime(\"%Y%m%d-%H%M%S\")\n",
        "tensorboard_callback = ks.callbacks.TensorBoard(log_dir=log_dir, histogram_freq=1)\n",
        "\n",
        "history = model.fit( x=X_train, \n",
        "          y=Y_train, \n",
        "          epochs=n_epoch,\n",
        "          batch_size = btch_size, \n",
        "          validation_data=(X_test, Y_test), \n",
        "          callbacks=[tensorboard_callback])\n"
      ],
      "execution_count": 21,
      "outputs": [
        {
          "output_type": "stream",
          "name": "stdout",
          "text": [
            "Epoch 1/20\n",
            "72/72 [==============================] - 1s 9ms/step - loss: 0.0237 - acc: 0.9716 - val_loss: 0.0161 - val_acc: 0.9882\n",
            "Epoch 2/20\n",
            "72/72 [==============================] - 0s 5ms/step - loss: 0.0277 - acc: 0.9665 - val_loss: 0.0203 - val_acc: 0.9765\n",
            "Epoch 3/20\n",
            "72/72 [==============================] - 0s 5ms/step - loss: 0.0271 - acc: 0.9647 - val_loss: 0.0203 - val_acc: 0.9765\n",
            "Epoch 4/20\n",
            "72/72 [==============================] - 0s 5ms/step - loss: 0.0272 - acc: 0.9656 - val_loss: 0.0174 - val_acc: 0.9895\n",
            "Epoch 5/20\n",
            "72/72 [==============================] - 0s 5ms/step - loss: 0.0262 - acc: 0.9674 - val_loss: 0.0980 - val_acc: 0.8786\n",
            "Epoch 6/20\n",
            "72/72 [==============================] - 0s 5ms/step - loss: 0.0233 - acc: 0.9726 - val_loss: 0.0170 - val_acc: 0.9845\n",
            "Epoch 7/20\n",
            "72/72 [==============================] - 0s 5ms/step - loss: 0.0217 - acc: 0.9754 - val_loss: 0.0200 - val_acc: 0.9811\n",
            "Epoch 8/20\n",
            "72/72 [==============================] - 0s 5ms/step - loss: 0.0233 - acc: 0.9724 - val_loss: 0.0936 - val_acc: 0.8824\n",
            "Epoch 9/20\n",
            "72/72 [==============================] - 0s 5ms/step - loss: 0.0197 - acc: 0.9786 - val_loss: 0.0286 - val_acc: 0.9614\n",
            "Epoch 10/20\n",
            "72/72 [==============================] - 0s 5ms/step - loss: 0.0199 - acc: 0.9762 - val_loss: 0.0316 - val_acc: 0.9542\n",
            "Epoch 11/20\n",
            "72/72 [==============================] - 0s 5ms/step - loss: 0.0238 - acc: 0.9723 - val_loss: 0.0291 - val_acc: 0.9605\n",
            "Epoch 12/20\n",
            "72/72 [==============================] - 0s 5ms/step - loss: 0.0201 - acc: 0.9759 - val_loss: 0.0242 - val_acc: 0.9706\n",
            "Epoch 13/20\n",
            "72/72 [==============================] - 0s 5ms/step - loss: 0.0209 - acc: 0.9749 - val_loss: 0.0328 - val_acc: 0.9509\n",
            "Epoch 14/20\n",
            "72/72 [==============================] - 0s 5ms/step - loss: 0.0283 - acc: 0.9640 - val_loss: 0.0192 - val_acc: 0.9777\n",
            "Epoch 15/20\n",
            "72/72 [==============================] - 0s 5ms/step - loss: 0.0195 - acc: 0.9784 - val_loss: 0.0132 - val_acc: 0.9912\n",
            "Epoch 16/20\n",
            "72/72 [==============================] - 0s 5ms/step - loss: 0.0193 - acc: 0.9789 - val_loss: 0.0758 - val_acc: 0.9005\n",
            "Epoch 17/20\n",
            "72/72 [==============================] - 0s 5ms/step - loss: 0.0187 - acc: 0.9790 - val_loss: 0.0269 - val_acc: 0.9656\n",
            "Epoch 18/20\n",
            "72/72 [==============================] - 0s 5ms/step - loss: 0.0202 - acc: 0.9756 - val_loss: 0.0430 - val_acc: 0.9370\n",
            "Epoch 19/20\n",
            "72/72 [==============================] - 0s 5ms/step - loss: 0.0193 - acc: 0.9776 - val_loss: 0.0147 - val_acc: 0.9891\n",
            "Epoch 20/20\n",
            "72/72 [==============================] - 0s 5ms/step - loss: 0.0213 - acc: 0.9742 - val_loss: 0.0128 - val_acc: 0.9899\n"
          ]
        }
      ]
    },
    {
      "cell_type": "markdown",
      "metadata": {
        "id": "9vgQj9l88hqP"
      },
      "source": [
        "### Visualization"
      ]
    },
    {
      "cell_type": "code",
      "metadata": {
        "colab": {
          "base_uri": "https://localhost:8080/"
        },
        "id": "QX22Upsn5SQL",
        "outputId": "b6a5bcfe-7152-4027-d945-f368c5a9faac"
      },
      "source": [
        "print(type(history.history))\n",
        "print(history.history.keys())"
      ],
      "execution_count": 15,
      "outputs": [
        {
          "output_type": "stream",
          "name": "stdout",
          "text": [
            "<class 'dict'>\n",
            "dict_keys(['loss', 'acc', 'val_loss', 'val_acc'])\n"
          ]
        }
      ]
    },
    {
      "cell_type": "code",
      "metadata": {
        "colab": {
          "base_uri": "https://localhost:8080/",
          "height": 369
        },
        "id": "fkFb4UwC5IW5",
        "outputId": "15470f09-b16b-44f0-ab31-48718bfa30d6"
      },
      "source": [
        "# Plot training & validation accuracy values\n",
        "fig = plt.figure(figsize=(14,5))\n",
        "ax = fig.add_subplot(1,2,1, title = 'Model accuracy', ylabel= 'Accuracy')\n",
        "plt.plot(history.history['acc'])\n",
        "plt.plot(history.history['val_acc'])\n",
        "plt.legend(['Train', 'Test'], loc='upper left')\n",
        "\n",
        "# Plot training & validation loss values\n",
        "ax = fig.add_subplot(1,2,2, title = 'Model loss', ylabel= 'Loss')\n",
        "plt.plot(history.history['loss'])\n",
        "plt.plot(history.history['val_loss'])\n",
        "plt.legend(['Train', 'Test'], loc='upper left')\n",
        "\n",
        "plt.tight_layout()\n",
        "plt.show()"
      ],
      "execution_count": 22,
      "outputs": [
        {
          "output_type": "display_data",
          "data": {
            "image/png": "[encoded data removed]",
            "text/plain": [
              "<Figure size 1008x360 with 2 Axes>"
            ]
          },
          "metadata": {
            "needs_background": "light"
          }
        }
      ]
    },
    {
      "cell_type": "code",
      "metadata": {
        "id": "BTOr2Mip5nZR"
      },
      "source": [
        "%tensorboard --logdir logs/fit"
      ],
      "execution_count": null,
      "outputs": []
    },
    {
      "cell_type": "markdown",
      "metadata": {
        "id": "hVYW5F7oErmw"
      },
      "source": [
        "### Saving and loading models\n",
        "\n",
        "For more info see\n",
        "\n",
        "https://www.tensorflow.org/guide/keras/save_and_serialize"
      ]
    },
    {
      "cell_type": "code",
      "metadata": {
        "colab": {
          "base_uri": "https://localhost:8080/"
        },
        "id": "s76khAA6EvlA",
        "outputId": "77601387-caab-4486-83e3-ee034cc08c26"
      },
      "source": [
        "path = 'keras_test_model'\n",
        "model.save(path)\n"
      ],
      "execution_count": null,
      "outputs": [
        {
          "output_type": "stream",
          "name": "stdout",
          "text": [
            "INFO:tensorflow:Assets written to: keras_test_model/assets\n"
          ]
        }
      ]
    },
    {
      "cell_type": "code",
      "metadata": {
        "colab": {
          "base_uri": "https://localhost:8080/"
        },
        "id": "bZsZ1kGhGBgg",
        "outputId": "60c11997-0113-4d6f-c409-b1d6affee818"
      },
      "source": [
        "new_model = ks.models.load_model(path)\n",
        "new_model.predict(X_test[:3])"
      ],
      "execution_count": null,
      "outputs": [
        {
          "output_type": "execute_result",
          "data": {
            "text/plain": [
              "array([[0.02619186],\n",
              "       [0.04496951],\n",
              "       [0.72316116]], dtype=float32)"
            ]
          },
          "metadata": {},
          "execution_count": 37
        }
      ]
    },
    {
      "cell_type": "markdown",
      "metadata": {
        "id": "_myzYSTV1z7S"
      },
      "source": [
        "# Pytorch"
      ]
    },
    {
      "cell_type": "code",
      "metadata": {
        "ExecuteTime": {
          "end_time": "2020-04-26T10:02:49.506457Z",
          "start_time": "2020-04-26T10:02:49.494349Z"
        },
        "init_cell": true,
        "id": "_rmOlVVc8hqW"
      },
      "source": [
        "import torch"
      ],
      "execution_count": 29,
      "outputs": []
    },
    {
      "cell_type": "markdown",
      "metadata": {
        "id": "Rf2HrDXA1z7R"
      },
      "source": [
        "This is prepared mainly based on the tutorial from the official website and some other sources:\n",
        "\n",
        "https://pytorch.org/tutorials/beginner/deep_learning_60min_blitz.html"
      ]
    },
    {
      "cell_type": "markdown",
      "metadata": {
        "ExecuteTime": {
          "end_time": "2020-04-26T08:17:41.229158Z",
          "start_time": "2020-04-26T08:17:41.222586Z"
        },
        "heading_collapsed": true,
        "id": "Y62PJjYC8hqb"
      },
      "source": [
        "## Basics"
      ]
    },
    {
      "cell_type": "markdown",
      "metadata": {
        "heading_collapsed": true,
        "hidden": true,
        "id": "up0G4Hqm1z7S"
      },
      "source": [
        "### Pytorch as alternative to numpy"
      ]
    },
    {
      "cell_type": "code",
      "metadata": {
        "hidden": true,
        "id": "qNJk5g46MOaR",
        "colab": {
          "base_uri": "https://localhost:8080/"
        },
        "outputId": "45dfcbf3-a849-4d0b-d40b-3d2c6d1761f4"
      },
      "source": [
        "np.zeros((2,3))"
      ],
      "execution_count": 43,
      "outputs": [
        {
          "output_type": "execute_result",
          "data": {
            "text/plain": [
              "array([[0., 0., 0.],\n",
              "       [0., 0., 0.]])"
            ]
          },
          "metadata": {},
          "execution_count": 43
        }
      ]
    },
    {
      "cell_type": "code",
      "metadata": {
        "ExecuteTime": {
          "end_time": "2020-03-27T11:27:30.937142Z",
          "start_time": "2020-03-27T11:27:30.903632Z"
        },
        "hidden": true,
        "id": "nyW7HeLK1z7T",
        "colab": {
          "base_uri": "https://localhost:8080/"
        },
        "outputId": "1c148d9d-eb94-4384-a9db-4454227becdf"
      },
      "source": [
        "### A bunch of zeros\n",
        "a = torch.zeros( (2,3))\n",
        "a"
      ],
      "execution_count": 44,
      "outputs": [
        {
          "output_type": "execute_result",
          "data": {
            "text/plain": [
              "tensor([[0., 0., 0.],\n",
              "        [0., 0., 0.]])"
            ]
          },
          "metadata": {},
          "execution_count": 44
        }
      ]
    },
    {
      "cell_type": "code",
      "metadata": {
        "hidden": true,
        "id": "iwdD07Pt1z7Y",
        "colab": {
          "base_uri": "https://localhost:8080/"
        },
        "outputId": "bdecc003-8343-4446-8c31-d1893b3c7a0d"
      },
      "source": [
        "a = torch.rand( 2,3 )\n",
        "a"
      ],
      "execution_count": 45,
      "outputs": [
        {
          "output_type": "execute_result",
          "data": {
            "text/plain": [
              "tensor([[0.1121, 0.3531, 0.1337],\n",
              "        [0.1918, 0.8491, 0.8961]])"
            ]
          },
          "metadata": {},
          "execution_count": 45
        }
      ]
    },
    {
      "cell_type": "markdown",
      "metadata": {
        "heading_collapsed": true,
        "hidden": true,
        "id": "4pBsRp0S1z7a"
      },
      "source": [
        "### Converting numpy array to tensor and reverse"
      ]
    },
    {
      "cell_type": "code",
      "metadata": {
        "ExecuteTime": {
          "end_time": "2020-03-27T12:08:43.905962Z",
          "start_time": "2020-03-27T12:08:43.891787Z"
        },
        "hidden": true,
        "id": "-gUQfePv1z7b",
        "colab": {
          "base_uri": "https://localhost:8080/"
        },
        "outputId": "76451407-2af1-498f-b556-fc168ffbddbc"
      },
      "source": [
        "# We can convert our np arrays to tensors\n",
        "a = np.random.uniform(0,3, size = (2,3))\n",
        "a = torch.tensor(a)\n",
        "# a = torch.from_numpy(a)\n",
        "a"
      ],
      "execution_count": 46,
      "outputs": [
        {
          "output_type": "execute_result",
          "data": {
            "text/plain": [
              "tensor([[1.8172, 2.0329, 1.9744],\n",
              "        [0.1309, 0.2498, 2.6066]], dtype=torch.float64)"
            ]
          },
          "metadata": {},
          "execution_count": 46
        }
      ]
    },
    {
      "cell_type": "code",
      "metadata": {
        "ExecuteTime": {
          "end_time": "2020-03-27T12:17:31.129948Z",
          "start_time": "2020-03-27T12:17:31.113807Z"
        },
        "hidden": true,
        "id": "m7NStrrJ1z7e",
        "colab": {
          "base_uri": "https://localhost:8080/"
        },
        "outputId": "3f498acc-c8e5-48aa-e0f5-c9b4026c9e2c"
      },
      "source": [
        "a.numpy()"
      ],
      "execution_count": 47,
      "outputs": [
        {
          "output_type": "execute_result",
          "data": {
            "text/plain": [
              "array([[1.81720818, 2.03286667, 1.97439719],\n",
              "       [0.13092066, 0.24979158, 2.60662477]])"
            ]
          },
          "metadata": {},
          "execution_count": 47
        }
      ]
    },
    {
      "cell_type": "code",
      "metadata": {
        "ExecuteTime": {
          "end_time": "2020-03-27T12:17:35.794914Z",
          "start_time": "2020-03-27T12:17:35.780994Z"
        },
        "hidden": true,
        "id": "5xE1iD5H1z7i",
        "colab": {
          "base_uri": "https://localhost:8080/"
        },
        "outputId": "5a772a83-4e4f-45c9-8999-d03725035b5b"
      },
      "source": [
        "a"
      ],
      "execution_count": 48,
      "outputs": [
        {
          "output_type": "execute_result",
          "data": {
            "text/plain": [
              "tensor([[1.8172, 2.0329, 1.9744],\n",
              "        [0.1309, 0.2498, 2.6066]], dtype=torch.float64)"
            ]
          },
          "metadata": {},
          "execution_count": 48
        }
      ]
    },
    {
      "cell_type": "code",
      "metadata": {
        "ExecuteTime": {
          "end_time": "2020-03-27T12:21:49.418221Z",
          "start_time": "2020-03-27T12:21:49.392384Z"
        },
        "hidden": true,
        "id": "KBItngSY1z7l",
        "colab": {
          "base_uri": "https://localhost:8080/"
        },
        "outputId": "40ba089d-4716-4a84-fb7e-c5c930b98270"
      },
      "source": [
        "print(a)\n",
        "\n",
        "a_np = a.numpy()\n",
        "print(a_np)\n",
        "\n",
        "\n",
        "# The value of the numpy version is linked to the original tensor. \n",
        "a+=1\n",
        "print('\\n The value of a is updated. \\n')\n",
        "print(a)\n",
        "\n",
        "print(a_np)\n",
        "\n"
      ],
      "execution_count": 49,
      "outputs": [
        {
          "output_type": "stream",
          "name": "stdout",
          "text": [
            "tensor([[1.8172, 2.0329, 1.9744],\n",
            "        [0.1309, 0.2498, 2.6066]], dtype=torch.float64)\n",
            "[[1.81720818 2.03286667 1.97439719]\n",
            " [0.13092066 0.24979158 2.60662477]]\n",
            "\n",
            " The value of a is updated. \n",
            "\n",
            "tensor([[2.8172, 3.0329, 2.9744],\n",
            "        [1.1309, 1.2498, 3.6066]], dtype=torch.float64)\n",
            "[[2.81720818 3.03286667 2.97439719]\n",
            " [1.13092066 1.24979158 3.60662477]]\n"
          ]
        }
      ]
    },
    {
      "cell_type": "markdown",
      "metadata": {
        "heading_collapsed": true,
        "hidden": true,
        "id": "sTy_cs4Q1z7o"
      },
      "source": [
        "### Tensor operations"
      ]
    },
    {
      "cell_type": "code",
      "metadata": {
        "ExecuteTime": {
          "end_time": "2020-03-27T12:19:02.975705Z",
          "start_time": "2020-03-27T12:19:02.958196Z"
        },
        "hidden": true,
        "id": "xv3BqMk31z7p",
        "colab": {
          "base_uri": "https://localhost:8080/"
        },
        "outputId": "49a96b04-955b-4cc7-a6f2-78bd73593f12"
      },
      "source": [
        "print(a)\n",
        "\n",
        "## Similar to numpy, values are broadcasted.\n",
        "print(a+1)"
      ],
      "execution_count": 39,
      "outputs": [
        {
          "output_type": "stream",
          "name": "stdout",
          "text": [
            "tensor([[0.9989, 0.3611, 0.8436],\n",
            "        [0.4325, 0.5264, 0.5232]])\n",
            "tensor([[1.9989, 1.3611, 1.8436],\n",
            "        [1.4325, 1.5264, 1.5232]])\n"
          ]
        }
      ]
    },
    {
      "cell_type": "code",
      "metadata": {
        "ExecuteTime": {
          "end_time": "2020-03-27T12:05:06.818639Z",
          "start_time": "2020-03-27T12:05:06.803436Z"
        },
        "hidden": true,
        "id": "wE1BBkmN1z7r",
        "colab": {
          "base_uri": "https://localhost:8080/"
        },
        "outputId": "409d75f6-b2e9-4fc2-b036-2d68fdc632ed"
      },
      "source": [
        "b = torch.tensor(np.random.uniform( 0,3, (2,3) )  )\n",
        "\n",
        "#Transposition\n",
        "b.t()"
      ],
      "execution_count": 50,
      "outputs": [
        {
          "output_type": "execute_result",
          "data": {
            "text/plain": [
              "tensor([[0.5416, 2.5262],\n",
              "        [2.9474, 0.3695],\n",
              "        [0.9562, 2.7211]], dtype=torch.float64)"
            ]
          },
          "metadata": {},
          "execution_count": 50
        }
      ]
    },
    {
      "cell_type": "code",
      "metadata": {
        "ExecuteTime": {
          "end_time": "2020-03-27T12:06:49.163858Z",
          "start_time": "2020-03-27T12:06:49.152715Z"
        },
        "hidden": true,
        "id": "NBlyn3571z7u",
        "colab": {
          "base_uri": "https://localhost:8080/"
        },
        "outputId": "0b149675-e44b-40bd-f695-570ebb63b670"
      },
      "source": [
        "#Shape\n",
        "print(f\"The shape of b is {b.size()}.\"  )\n",
        "\n",
        "#Reshape\n",
        "print(f\"We can flatten b to {b.view(-1)}.\"  )"
      ],
      "execution_count": 51,
      "outputs": [
        {
          "output_type": "stream",
          "name": "stdout",
          "text": [
            "The shape of b is torch.Size([2, 3]).\n",
            "We can flatten b to tensor([0.5416, 2.9474, 0.9562, 2.5262, 0.3695, 2.7211], dtype=torch.float64).\n"
          ]
        }
      ]
    },
    {
      "cell_type": "code",
      "metadata": {
        "ExecuteTime": {
          "end_time": "2020-03-27T12:14:24.340356Z",
          "start_time": "2020-03-27T12:14:24.329970Z"
        },
        "hidden": true,
        "id": "I8el3Koh1z7x",
        "colab": {
          "base_uri": "https://localhost:8080/"
        },
        "outputId": "e1c1f5e3-df3c-409b-afb5-77e1020c8c90"
      },
      "source": [
        "# Matrix Multiplication\n",
        "print(f\"The matrix multipication of a.b is \\n{torch.mm(a , b.t())  }.\"  )\n"
      ],
      "execution_count": 52,
      "outputs": [
        {
          "output_type": "stream",
          "name": "stdout",
          "text": [
            "The matrix multipication of a.b is \n",
            "tensor([[13.3089, 16.3310],\n",
            "        [ 7.7447, 13.1327]], dtype=torch.float64).\n"
          ]
        }
      ]
    },
    {
      "cell_type": "code",
      "metadata": {
        "ExecuteTime": {
          "end_time": "2020-03-27T12:15:09.150939Z",
          "start_time": "2020-03-27T12:15:09.124561Z"
        },
        "hidden": true,
        "id": "NWYXCeXh1z71",
        "colab": {
          "base_uri": "https://localhost:8080/"
        },
        "outputId": "125b38f5-2cbd-46a8-ac84-081a3240f3d2"
      },
      "source": [
        "# Or we can do\n",
        "a.mm(b.t())"
      ],
      "execution_count": 53,
      "outputs": [
        {
          "output_type": "execute_result",
          "data": {
            "text/plain": [
              "tensor([[13.3089, 16.3310],\n",
              "        [ 7.7447, 13.1327]], dtype=torch.float64)"
            ]
          },
          "metadata": {},
          "execution_count": 53
        }
      ]
    },
    {
      "cell_type": "markdown",
      "metadata": {
        "heading_collapsed": true,
        "hidden": true,
        "id": "5ns2Pq871z73"
      },
      "source": [
        "### Empty tensors"
      ]
    },
    {
      "cell_type": "code",
      "source": [
        "x = torch.tensor(())"
      ],
      "metadata": {
        "id": "wNM54wVaKPCJ"
      },
      "execution_count": 36,
      "outputs": []
    },
    {
      "cell_type": "code",
      "source": [
        "x"
      ],
      "metadata": {
        "colab": {
          "base_uri": "https://localhost:8080/"
        },
        "id": "sDcOCq3RKVVb",
        "outputId": "96da4613-1972-42c4-a3ce-59bd8e2fa90f"
      },
      "execution_count": 37,
      "outputs": [
        {
          "output_type": "execute_result",
          "data": {
            "text/plain": [
              "tensor([])"
            ]
          },
          "metadata": {},
          "execution_count": 37
        }
      ]
    },
    {
      "cell_type": "code",
      "metadata": {
        "ExecuteTime": {
          "end_time": "2020-03-27T12:12:39.386468Z",
          "start_time": "2020-03-27T12:12:39.370821Z"
        },
        "hidden": true,
        "id": "f0pg2Uui1z74",
        "colab": {
          "base_uri": "https://localhost:8080/"
        },
        "outputId": "84f06dca-60eb-4726-a501-583b47eb2484"
      },
      "source": [
        "x = torch.empty((2,2),dtype=torch.float64)\n",
        "\n",
        "x"
      ],
      "execution_count": 60,
      "outputs": [
        {
          "output_type": "execute_result",
          "data": {
            "text/plain": [
              "tensor([[4.6799e-310, 1.1858e-322],\n",
              "        [2.1220e-314, 4.7647e+233]], dtype=torch.float64)"
            ]
          },
          "metadata": {},
          "execution_count": 60
        }
      ]
    },
    {
      "cell_type": "code",
      "metadata": {
        "ExecuteTime": {
          "end_time": "2020-03-27T12:13:57.387850Z",
          "start_time": "2020-03-27T12:13:57.376574Z"
        },
        "hidden": true,
        "id": "XgnC39dv1z76",
        "colab": {
          "base_uri": "https://localhost:8080/"
        },
        "outputId": "da4ccf4b-c204-4982-ecc1-7bc1bd9816d7"
      },
      "source": [
        "torch.mm(a , b.t(), out = x)\n",
        "\n",
        "print(f\"x is now updated to\\n{x}.\")"
      ],
      "execution_count": 61,
      "outputs": [
        {
          "output_type": "stream",
          "name": "stdout",
          "text": [
            "x is now updated to\n",
            "tensor([[13.3089, 16.3310],\n",
            "        [ 7.7447, 13.1327]], dtype=torch.float64).\n"
          ]
        }
      ]
    },
    {
      "cell_type": "markdown",
      "metadata": {
        "heading_collapsed": true,
        "hidden": true,
        "id": "AvJuZGcu1z7_"
      },
      "source": [
        "### GPU\n",
        "\n",
        "One cool feature of pytorch is that it presents a cool alternative to numpy but with the advantage that the operations can be run on GPU. Note that that numpy arrays and operations are not GPU enabled (at least not out of the box)."
      ]
    },
    {
      "cell_type": "code",
      "metadata": {
        "ExecuteTime": {
          "end_time": "2020-03-27T12:47:09.377042Z",
          "start_time": "2020-03-27T12:47:08.028134Z"
        },
        "hidden": true,
        "id": "9aUzArhD1z7_",
        "colab": {
          "base_uri": "https://localhost:8080/"
        },
        "outputId": "e425406b-f04c-4143-fbc0-c520737b20fe"
      },
      "source": [
        "device = torch.device(\"cuda:0\" if torch.cuda.is_available() else \"cpu\")\n",
        "print(device)"
      ],
      "execution_count": 62,
      "outputs": [
        {
          "output_type": "stream",
          "name": "stdout",
          "text": [
            "cuda:0\n"
          ]
        }
      ]
    },
    {
      "cell_type": "code",
      "metadata": {
        "ExecuteTime": {
          "end_time": "2020-03-27T12:33:45.142021Z",
          "start_time": "2020-03-27T12:33:45.122144Z"
        },
        "hidden": true,
        "id": "Sv_75HOx1z8C",
        "colab": {
          "base_uri": "https://localhost:8080/"
        },
        "outputId": "5857f6e0-755b-4175-ca3e-1fbead4b1734"
      },
      "source": [
        "a = np.random.uniform(0,3, size = (2,3))\n",
        "print(a)\n",
        "# a = torch.tensor(a, device=device, dtype = torch.int)\n",
        "a = torch.from_numpy(a).to(device)\n",
        "a"
      ],
      "execution_count": 63,
      "outputs": [
        {
          "output_type": "stream",
          "name": "stdout",
          "text": [
            "[[0.82588525 1.87673063 1.89037295]\n",
            " [1.17427674 0.64926311 0.79829914]]\n"
          ]
        },
        {
          "output_type": "execute_result",
          "data": {
            "text/plain": [
              "tensor([[0.8259, 1.8767, 1.8904],\n",
              "        [1.1743, 0.6493, 0.7983]], device='cuda:0', dtype=torch.float64)"
            ]
          },
          "metadata": {},
          "execution_count": 63
        }
      ]
    },
    {
      "cell_type": "markdown",
      "metadata": {
        "heading_collapsed": true,
        "hidden": true,
        "id": "-CLURPvt1z8E"
      },
      "source": [
        "#### Speedup over GPU."
      ]
    },
    {
      "cell_type": "code",
      "metadata": {
        "ExecuteTime": {
          "end_time": "2020-03-27T12:47:18.569000Z",
          "start_time": "2020-03-27T12:47:13.507010Z"
        },
        "hidden": true,
        "id": "QdijhTx11z8F",
        "colab": {
          "base_uri": "https://localhost:8080/"
        },
        "outputId": "86515fbf-dca6-40e6-c116-63cde122eb07"
      },
      "source": [
        "%%time\n",
        "d_mat = 10**4\n",
        "a = np.random.rand(d_mat, d_mat)\n",
        "b = np.random.rand(d_mat, d_mat)\n"
      ],
      "execution_count": 64,
      "outputs": [
        {
          "output_type": "stream",
          "name": "stdout",
          "text": [
            "CPU times: user 2.3 s, sys: 359 ms, total: 2.66 s\n",
            "Wall time: 3.34 s\n"
          ]
        }
      ]
    },
    {
      "cell_type": "code",
      "metadata": {
        "ExecuteTime": {
          "end_time": "2020-03-27T12:47:19.836108Z",
          "start_time": "2020-03-27T12:47:18.869375Z"
        },
        "hidden": true,
        "id": "hP-SpjQa1z8H",
        "colab": {
          "base_uri": "https://localhost:8080/"
        },
        "outputId": "006ce73b-5de7-411f-c400-7de0325faffb"
      },
      "source": [
        "%%time\n",
        "for i in range(10):\n",
        "  c = a+b"
      ],
      "execution_count": 66,
      "outputs": [
        {
          "output_type": "stream",
          "name": "stdout",
          "text": [
            "CPU times: user 2.46 s, sys: 1.76 s, total: 4.23 s\n",
            "Wall time: 4.11 s\n"
          ]
        }
      ]
    },
    {
      "cell_type": "code",
      "metadata": {
        "ExecuteTime": {
          "end_time": "2020-03-27T12:48:12.494518Z",
          "start_time": "2020-03-27T12:48:11.955368Z"
        },
        "hidden": true,
        "id": "6e0SVKbO1z8J"
      },
      "source": [
        "a_t = torch.tensor(a)\n",
        "b_t = torch.tensor(b)"
      ],
      "execution_count": 73,
      "outputs": []
    },
    {
      "cell_type": "code",
      "metadata": {
        "ExecuteTime": {
          "end_time": "2020-03-27T12:48:13.108729Z",
          "start_time": "2020-03-27T12:48:12.740109Z"
        },
        "hidden": true,
        "id": "6qrBrteO1z8L",
        "colab": {
          "base_uri": "https://localhost:8080/"
        },
        "outputId": "7076c181-b477-4293-895f-096c72a35f20"
      },
      "source": [
        "%%time\n",
        "for i in range(10):\n",
        "  c_t = a_t+b_t"
      ],
      "execution_count": 74,
      "outputs": [
        {
          "output_type": "stream",
          "name": "stdout",
          "text": [
            "CPU times: user 3.02 s, sys: 87.1 ms, total: 3.11 s\n",
            "Wall time: 3 s\n"
          ]
        }
      ]
    },
    {
      "cell_type": "code",
      "metadata": {
        "ExecuteTime": {
          "end_time": "2020-03-27T12:47:37.279737Z",
          "start_time": "2020-03-27T12:47:26.638381Z"
        },
        "hidden": true,
        "id": "85zrjxbK1z8O"
      },
      "source": [
        "a_t = torch.tensor(a, device=device)\n",
        "b_t = torch.tensor(b, device=device)"
      ],
      "execution_count": 76,
      "outputs": []
    },
    {
      "cell_type": "code",
      "metadata": {
        "ExecuteTime": {
          "end_time": "2020-03-27T12:47:38.237113Z",
          "start_time": "2020-03-27T12:47:38.183692Z"
        },
        "hidden": true,
        "id": "uW8zLJkX1z8Q",
        "colab": {
          "base_uri": "https://localhost:8080/"
        },
        "outputId": "e90be8d8-323d-49e0-8e98-df44441c7f59"
      },
      "source": [
        "%%time\n",
        "for i in range(100):\n",
        "  c_t = a_t+b_t"
      ],
      "execution_count": 77,
      "outputs": [
        {
          "output_type": "stream",
          "name": "stdout",
          "text": [
            "CPU times: user 3.31 ms, sys: 25 µs, total: 3.33 ms\n",
            "Wall time: 3.12 ms\n"
          ]
        }
      ]
    },
    {
      "cell_type": "markdown",
      "metadata": {
        "heading_collapsed": true,
        "hidden": true,
        "id": "TOCTbJ6u1z8S"
      },
      "source": [
        "#### But be careful, it is not always wise to use GPU."
      ]
    },
    {
      "cell_type": "code",
      "metadata": {
        "ExecuteTime": {
          "end_time": "2020-03-27T12:36:05.901022Z",
          "start_time": "2020-03-27T12:36:00.284021Z"
        },
        "hidden": true,
        "id": "Z5rdtrh31z8T",
        "colab": {
          "base_uri": "https://localhost:8080/"
        },
        "outputId": "93ef8fcc-1b9c-4a2d-8710-90fcd9612203"
      },
      "source": [
        "%%time\n",
        "## Let's compare the speed. \n",
        "n_run = 10**6\n",
        "a = np.ones((3,3))\n",
        "\n",
        "for i in range(n_run):\n",
        "    np.matmul(a,a)\n",
        "\n"
      ],
      "execution_count": 78,
      "outputs": [
        {
          "output_type": "stream",
          "name": "stdout",
          "text": [
            "CPU times: user 1.63 s, sys: 501 µs, total: 1.63 s\n",
            "Wall time: 1.63 s\n"
          ]
        }
      ]
    },
    {
      "cell_type": "code",
      "metadata": {
        "ExecuteTime": {
          "end_time": "2020-03-27T12:36:00.249262Z",
          "start_time": "2020-03-27T12:35:55.126009Z"
        },
        "hidden": true,
        "id": "yZWKxwLc1z8V",
        "colab": {
          "base_uri": "https://localhost:8080/"
        },
        "outputId": "f0e5cffa-29f2-4cad-d782-9cf427aef6a9"
      },
      "source": [
        "%%time\n",
        "## Let's compare the speed. \n",
        "n_run = 10**6\n",
        "a = np.ones((3,3))\n",
        "\n",
        "for i in range(n_run):\n",
        "    np.dot(a,a)\n",
        "\n"
      ],
      "execution_count": 79,
      "outputs": [
        {
          "output_type": "stream",
          "name": "stdout",
          "text": [
            "CPU times: user 1.55 s, sys: 0 ns, total: 1.55 s\n",
            "Wall time: 1.55 s\n"
          ]
        }
      ]
    },
    {
      "cell_type": "code",
      "metadata": {
        "ExecuteTime": {
          "end_time": "2020-03-27T12:36:29.337407Z",
          "start_time": "2020-03-27T12:36:18.331727Z"
        },
        "hidden": true,
        "id": "YtsBeyGr1z8X",
        "colab": {
          "base_uri": "https://localhost:8080/"
        },
        "outputId": "b408f7d8-eefc-4ab3-917b-85e6648d889e"
      },
      "source": [
        "%%time\n",
        "## Let's compare the speed. \n",
        "n_run = 10**6\n",
        "a = torch.ones((3,3), device=device)\n",
        "\n",
        "for i in range(n_run):\n",
        "    torch.mm(a,a)\n",
        "\n"
      ],
      "execution_count": 80,
      "outputs": [
        {
          "output_type": "stream",
          "name": "stdout",
          "text": [
            "CPU times: user 10.1 s, sys: 149 ms, total: 10.2 s\n",
            "Wall time: 10.3 s\n"
          ]
        }
      ]
    },
    {
      "cell_type": "markdown",
      "metadata": {
        "heading_collapsed": true,
        "id": "HV2AO9Yx1z8Z"
      },
      "source": [
        "## Autograd"
      ]
    },
    {
      "cell_type": "code",
      "metadata": {
        "id": "SeK_CJDo2427"
      },
      "source": [
        "import torch"
      ],
      "execution_count": null,
      "outputs": []
    },
    {
      "cell_type": "code",
      "metadata": {
        "ExecuteTime": {
          "end_time": "2020-04-26T08:37:38.867218Z",
          "start_time": "2020-04-26T08:37:38.855540Z"
        },
        "hidden": true,
        "id": "qS7R1i8q1z8a",
        "colab": {
          "base_uri": "https://localhost:8080/"
        },
        "outputId": "ee745604-df7b-4ba8-9653-1b1d848c8813"
      },
      "source": [
        "'''\n",
        "We can specify the parameters that we want to track for optimization. \n",
        "For this we set the requires_grad to True. \n",
        "This means that for all the following computations, for any function \n",
        "of the variable, the respective derivatives will be kept. \n",
        "'''\n",
        "a = torch.rand(1,3, requires_grad=True)\n",
        "b = torch.rand(3,1, requires_grad = True)\n",
        "print(a)\n",
        "print(b)"
      ],
      "execution_count": 93,
      "outputs": [
        {
          "output_type": "stream",
          "name": "stdout",
          "text": [
            "tensor([[0.2296, 0.3933, 0.5657]], requires_grad=True)\n",
            "tensor([[0.7512],\n",
            "        [0.7632],\n",
            "        [0.9863]], requires_grad=True)\n"
          ]
        }
      ]
    },
    {
      "cell_type": "code",
      "metadata": {
        "ExecuteTime": {
          "end_time": "2020-04-26T08:37:46.286177Z",
          "start_time": "2020-04-26T08:37:46.274178Z"
        },
        "hidden": true,
        "id": "YNrCVIUT8g5_",
        "colab": {
          "base_uri": "https://localhost:8080/"
        },
        "outputId": "d84ddce6-f92e-4cc2-bda6-e7f4b9a7c84e"
      },
      "source": [
        "'''\n",
        "Take this function for example. \n",
        "If you look at it, you'll see that it has an extra element, the grad_fn. \n",
        "This is in fact dy(a)/da.\n",
        "'''\n",
        "y = (a + 2).mean()\n",
        "# y = torch.mm(a,b)\n",
        "print( f'The gradient function is {y.grad_fn}.\\n' )\n",
        "y"
      ],
      "execution_count": 95,
      "outputs": [
        {
          "output_type": "stream",
          "name": "stdout",
          "text": [
            "The gradient function is <MeanBackward0 object at 0x7f0809165dd0>.\n",
            "\n"
          ]
        },
        {
          "output_type": "execute_result",
          "data": {
            "text/plain": [
              "tensor(2.3962, grad_fn=<MeanBackward0>)"
            ]
          },
          "metadata": {},
          "execution_count": 95
        }
      ]
    },
    {
      "cell_type": "code",
      "metadata": {
        "ExecuteTime": {
          "end_time": "2020-04-26T08:37:49.348842Z",
          "start_time": "2020-04-26T08:37:49.336311Z"
        },
        "hidden": true,
        "id": "YARE75D88kik",
        "colab": {
          "base_uri": "https://localhost:8080/"
        },
        "outputId": "293e603b-dc8b-48c9-ad39-3e3e38e781db"
      },
      "source": [
        "'''\n",
        "Now if we want to calculate the derivatives with respect to the variable, \n",
        "we can simply call the backward() method on the output/final variable. \n",
        "'''\n",
        "y.backward()\n",
        "print(a.grad)\n",
        "print(b.grad)"
      ],
      "execution_count": 96,
      "outputs": [
        {
          "output_type": "stream",
          "name": "stdout",
          "text": [
            "tensor([[0.3333, 0.3333, 0.3333]])\n",
            "None\n"
          ]
        }
      ]
    },
    {
      "cell_type": "code",
      "metadata": {
        "ExecuteTime": {
          "end_time": "2020-04-26T08:33:34.126451Z",
          "start_time": "2020-04-26T08:33:34.104977Z"
        },
        "hidden": true,
        "id": "nUAYm-kv8trN",
        "colab": {
          "base_uri": "https://localhost:8080/"
        },
        "outputId": "db53e09f-326a-46bf-d692-fe6f2fa43527"
      },
      "source": [
        "'''\n",
        "You need to be careful when you calculate the gradients with this. \n",
        "It accumulates the gradients, \n",
        "'''\n",
        "for i in range(3):\n",
        "    y.backward()\n",
        "    print(a.grad, '\\n')"
      ],
      "execution_count": 106,
      "outputs": [
        {
          "output_type": "stream",
          "name": "stdout",
          "text": [
            "tensor([[1.6667, 1.6667, 1.6667]]) \n",
            "\n",
            "tensor([[2., 2., 2.]]) \n",
            "\n",
            "tensor([[2.3333, 2.3333, 2.3333]]) \n",
            "\n"
          ]
        }
      ]
    },
    {
      "cell_type": "code",
      "metadata": {
        "ExecuteTime": {
          "end_time": "2020-04-26T08:36:47.990810Z",
          "start_time": "2020-04-26T08:36:47.976741Z"
        },
        "hidden": true,
        "id": "jkenmZZ68hrx",
        "colab": {
          "base_uri": "https://localhost:8080/"
        },
        "outputId": "ab61e0e3-d71f-454f-9101-5ef39bfb14e2"
      },
      "source": [
        "'''\n",
        "So we would need to reset the grad of the variable, i.e.\n",
        "'''\n",
        "a.grad.zero_()\n",
        "\n",
        "print(a.grad, '\\n')\n",
        "\n",
        "y.backward()\n",
        "print(a.grad)\n",
        "\n"
      ],
      "execution_count": 104,
      "outputs": [
        {
          "output_type": "stream",
          "name": "stdout",
          "text": [
            "tensor([[0., 0., 0.]]) \n",
            "\n",
            "tensor([[0.3333, 0.3333, 0.3333]])\n"
          ]
        }
      ]
    },
    {
      "cell_type": "code",
      "metadata": {
        "colab": {
          "base_uri": "https://localhost:8080/"
        },
        "id": "p2sFRY3T5N_T",
        "outputId": "b32f8380-c96d-41a5-da77-8fb7c2da9d98"
      },
      "source": [
        "### Multidimensional output\n",
        "z = 2 * a\n",
        "print(z)\n",
        "a.grad.zero_()\n",
        "\n",
        "z.backward(torch.tensor([[0,1,1]])) # Just return 2nd and 3rd element's gradient\n",
        "\n",
        "a.grad"
      ],
      "execution_count": 113,
      "outputs": [
        {
          "output_type": "stream",
          "name": "stdout",
          "text": [
            "tensor([[0.4592, 0.7867, 1.1315]], grad_fn=<MulBackward0>)\n"
          ]
        },
        {
          "output_type": "execute_result",
          "data": {
            "text/plain": [
              "tensor([[0., 6., 6.]])"
            ]
          },
          "metadata": {},
          "execution_count": 113
        }
      ]
    },
    {
      "cell_type": "markdown",
      "metadata": {
        "hidden": true,
        "id": "JmggY9G-8hry"
      },
      "source": [
        "#### Simple Optimization Example"
      ]
    },
    {
      "cell_type": "code",
      "metadata": {
        "ExecuteTime": {
          "end_time": "2020-04-26T08:52:10.713472Z",
          "start_time": "2020-04-26T08:52:10.580439Z"
        },
        "hidden": true,
        "id": "A5knHx1U8hry",
        "colab": {
          "base_uri": "https://localhost:8080/",
          "height": 291
        },
        "outputId": "43ff022f-ab45-4512-ae52-2f948c2ffb94"
      },
      "source": [
        "x_list = np.arange(-1,1.1,.1)\n",
        "y_list = x_list**2\n",
        "\n",
        "plt.plot(x_list, y_list)"
      ],
      "execution_count": 114,
      "outputs": [
        {
          "output_type": "execute_result",
          "data": {
            "text/plain": [
              "[<matplotlib.lines.Line2D at 0x7f0809129290>]"
            ]
          },
          "metadata": {},
          "execution_count": 114
        },
        {
          "output_type": "display_data",
          "data": {
            "image/png": "[encoded data removed]",
            "text/plain": [
              "<Figure size 432x288 with 1 Axes>"
            ]
          },
          "metadata": {
            "needs_background": "light"
          }
        }
      ]
    },
    {
      "cell_type": "code",
      "metadata": {
        "id": "3uyHfXoEiOwW",
        "colab": {
          "base_uri": "https://localhost:8080/"
        },
        "outputId": "19041871-a1f0-4ae6-8fb4-140a2421d384"
      },
      "source": [
        "import torch\n",
        "import numpy as np\n",
        "# y.backward()\n",
        "# x.grad + x\n",
        "\n",
        "\n",
        "n_itr = 10\n",
        "lr = .1\n",
        "\n",
        "x = torch.tensor(.5, requires_grad=True)\n",
        "x_hist = [x.detach().numpy().copy() ]\n",
        "\n",
        "for i in range(n_itr):\n",
        "  y = x**2\n",
        "  y.backward()\n",
        "  with torch.no_grad():\n",
        "    x -= lr * x.grad\n",
        "  # x.requires_grad_ = True\n",
        "  # print(x.grad)\n",
        "  print(f'for iteration {i}, we get:')\n",
        "  \n",
        "  print(f' The derivative is: {x.grad}')\n",
        "  print(f' and x is {x}. \\n')\n",
        "  x.grad.zero_()\n",
        "  x_hist +=[x.detach().numpy().copy() ]\n",
        "    \n",
        "\n",
        "x_hist = np.array(x_hist)"
      ],
      "execution_count": 129,
      "outputs": [
        {
          "output_type": "stream",
          "name": "stdout",
          "text": [
            "for iteration 0, we get:\n",
            " The derivative is: 1.0\n",
            " and x is 0.4000000059604645. \n",
            "\n",
            "for iteration 1, we get:\n",
            " The derivative is: 0.800000011920929\n",
            " and x is 0.3199999928474426. \n",
            "\n",
            "for iteration 2, we get:\n",
            " The derivative is: 0.6399999856948853\n",
            " and x is 0.25599998235702515. \n",
            "\n",
            "for iteration 3, we get:\n",
            " The derivative is: 0.5119999647140503\n",
            " and x is 0.20479997992515564. \n",
            "\n",
            "for iteration 4, we get:\n",
            " The derivative is: 0.4095999598503113\n",
            " and x is 0.16383998095989227. \n",
            "\n",
            "for iteration 5, we get:\n",
            " The derivative is: 0.32767996191978455\n",
            " and x is 0.13107198476791382. \n",
            "\n",
            "for iteration 6, we get:\n",
            " The derivative is: 0.26214396953582764\n",
            " and x is 0.10485758632421494. \n",
            "\n",
            "for iteration 7, we get:\n",
            " The derivative is: 0.20971517264842987\n",
            " and x is 0.08388607203960419. \n",
            "\n",
            "for iteration 8, we get:\n",
            " The derivative is: 0.16777214407920837\n",
            " and x is 0.06710885465145111. \n",
            "\n",
            "for iteration 9, we get:\n",
            " The derivative is: 0.13421770930290222\n",
            " and x is 0.05368708446621895. \n",
            "\n"
          ]
        }
      ]
    },
    {
      "cell_type": "code",
      "source": [
        "print(x_hist)"
      ],
      "metadata": {
        "id": "anbXX_5LSR0a",
        "outputId": "e0996d7c-6dec-4975-db0c-2151bd0fab00",
        "colab": {
          "base_uri": "https://localhost:8080/"
        }
      },
      "execution_count": 123,
      "outputs": [
        {
          "output_type": "stream",
          "name": "stdout",
          "text": [
            "[0.5        0.4        0.32       0.25599998 0.20479998 0.16383998\n",
            " 0.13107198 0.10485759 0.08388607 0.06710885 0.05368708]\n"
          ]
        }
      ]
    },
    {
      "cell_type": "code",
      "metadata": {
        "ExecuteTime": {
          "end_time": "2020-04-26T09:17:00.995552Z",
          "start_time": "2020-04-26T09:17:00.984553Z"
        },
        "hidden": true,
        "id": "pfye3Eck8hr4"
      },
      "source": [
        "x = torch.tensor(.5, requires_grad=True)\n",
        "y = x**2\n",
        "\n",
        "x_opt = x.detach().numpy()\n",
        "x_hist = [x_opt.copy() ]\n",
        "n_itr = 10\n",
        "lr = .1\n",
        "\n",
        "\n",
        "for i in range(n_itr):\n",
        "\n",
        "    x = torch.tensor(x_opt , requires_grad=True)\n",
        "#     print(x)\n",
        "    y = x**2\n",
        "    \n",
        "    y.backward()\n",
        "#     print(x.grad)\n",
        "    # x_opt = x_opt - lr*dy/dx\n",
        "    x_opt -= lr * x.grad.numpy()\n",
        "    x_hist +=[x_opt.copy()]\n",
        "    \n",
        "\n",
        "x_hist = np.array(x_hist)"
      ],
      "execution_count": 127,
      "outputs": []
    },
    {
      "cell_type": "code",
      "metadata": {
        "ExecuteTime": {
          "end_time": "2020-04-26T09:35:08.234473Z",
          "start_time": "2020-04-26T09:35:08.019416Z"
        },
        "hidden": true,
        "id": "JbaEEMVo8hr9",
        "colab": {
          "base_uri": "https://localhost:8080/",
          "height": 403
        },
        "outputId": "90b01e87-618a-411d-e929-5f56ffe59ebc"
      },
      "source": [
        "x_hist\n",
        "y_hist = x_hist**2\n",
        "\n",
        "fig = plt.figure(figsize=(15,5))\n",
        "ax = fig.add_subplot(111 , xlabel = 'X1', ylabel='X2', title = 'Result of the Classification')\n",
        "ax.plot(x_list, y_list)\n",
        "ax.scatter(x_hist, y_hist, s=20, c = 'r' )\n",
        "\n",
        "for i in range(len(x_hist)):\n",
        "    ax.annotate(i+1, (x_hist[i], y_hist[i]), fontsize = 12)\n",
        "\n",
        "    \n",
        "print(f'The value of the x after {n_itr} iterations is {x}.\\n')    "
      ],
      "execution_count": 130,
      "outputs": [
        {
          "output_type": "stream",
          "name": "stdout",
          "text": [
            "The value of the x after 10 iterations is 0.05368708446621895.\n",
            "\n"
          ]
        },
        {
          "output_type": "display_data",
          "data": {
            "image/png": "[encoded data removed]",
            "text/plain": [
              "<Figure size 1080x360 with 1 Axes>"
            ]
          },
          "metadata": {
            "needs_background": "light"
          }
        }
      ]
    },
    {
      "cell_type": "markdown",
      "metadata": {
        "hidden": true,
        "id": "9x-m2XnH8hr_"
      },
      "source": [
        "***Question***\n",
        "\n",
        "Implement a simple Logistic Regression with pytorch. \n"
      ]
    },
    {
      "cell_type": "markdown",
      "metadata": {
        "heading_collapsed": true,
        "id": "9sd39TDC8hsA"
      },
      "source": [
        "## Simple NN with Pytorch\n",
        "\n",
        "We'll come back to this with more details. This is just to give an idea of how this works in practice for a NN."
      ]
    },
    {
      "cell_type": "code",
      "metadata": {
        "id": "8CPxuz6h_dev"
      },
      "source": [
        "x_tr = torch.from_numpy(X_train).float()\n",
        "x_ts = torch.from_numpy(X_test).float()\n",
        "\n",
        "y_tr = torch.from_numpy(Y_train.reshape(-1,1)).float()\n",
        "y_ts = torch.from_numpy(Y_test.reshape(-1,1)).float()"
      ],
      "execution_count": null,
      "outputs": []
    },
    {
      "cell_type": "code",
      "metadata": {
        "hidden": true,
        "id": "JCCBibP-8hsD"
      },
      "source": [
        "# https://pytorch.org/tutorials/beginner/blitz/neural_networks_tutorial.html#sphx-glr-beginner-blitz-neural-networks-tutorial-py\n",
        "# https://pytorch.org/tutorials/beginner/basics/buildmodel_tutorial.html\n",
        "\n",
        "import torch.nn as nn\n",
        "import torch.nn.functional as F\n",
        "import torch.optim as optim"
      ],
      "execution_count": null,
      "outputs": []
    },
    {
      "cell_type": "code",
      "metadata": {
        "id": "SpXBilWDKhWb"
      },
      "source": [
        "n_epoch=20\n",
        "btch_size = 100\n",
        "lr = .05"
      ],
      "execution_count": null,
      "outputs": []
    },
    {
      "cell_type": "code",
      "metadata": {
        "hidden": true,
        "id": "9VeSvX3N8hsF"
      },
      "source": [
        "class Net(nn.Module):\n",
        "    \n",
        "    def __init__(self):\n",
        "        super().__init__()\n",
        "        self.fc1 = nn.Linear(2,10)\n",
        "        self.fc2 = nn.Linear(10,4)\n",
        "        self.out = nn.Linear(4, 1)\n",
        "        \n",
        "        \n",
        "    def forward(self,x):\n",
        "            #The first layer\n",
        "            x = self.fc1(x)\n",
        "            #Activation function is Relu. Feel free to experiment with this\n",
        "            x = F.relu(x)\n",
        "                       \n",
        "            #The second layer\n",
        "            x = self.fc2(x)\n",
        "            x = F.relu(x)\n",
        "            \n",
        "            #This produces output\n",
        "            x = self.out(x)\n",
        "            x = F.sigmoid(x)\n",
        "            \n",
        "            return x\n",
        "\n",
        "    \n",
        "net = Net()\n"
      ],
      "execution_count": null,
      "outputs": []
    },
    {
      "cell_type": "code",
      "metadata": {
        "colab": {
          "base_uri": "https://localhost:8080/"
        },
        "id": "4ofmyd8PK3SH",
        "outputId": "460be41a-ee7b-4b81-8281-396a85c4ceb8"
      },
      "source": [
        "net(x_ts[:3])"
      ],
      "execution_count": null,
      "outputs": [
        {
          "output_type": "execute_result",
          "data": {
            "text/plain": [
              "tensor([[0.4769],\n",
              "        [0.4873],\n",
              "        [0.4874]], grad_fn=<SigmoidBackward0>)"
            ]
          },
          "metadata": {},
          "execution_count": 108
        }
      ]
    },
    {
      "cell_type": "code",
      "metadata": {
        "colab": {
          "base_uri": "https://localhost:8080/"
        },
        "id": "SDLbbwDqKqMF",
        "outputId": "0b961104-ace0-4745-e8fa-289ea9433ef3"
      },
      "source": [
        "for name, param in net.named_parameters():\n",
        "    print(f\"Layer: {name} | Size: {param.size()} | Values : {param[:2]} \\n\")"
      ],
      "execution_count": null,
      "outputs": [
        {
          "output_type": "stream",
          "name": "stdout",
          "text": [
            "Layer: fc1.weight | Size: torch.Size([10, 2]) | Values : tensor([[ 0.2378, -0.1808],\n",
            "        [ 0.2559,  0.6064]], grad_fn=<SliceBackward0>) \n",
            "\n",
            "Layer: fc1.bias | Size: torch.Size([10]) | Values : tensor([-0.1211,  0.4329], grad_fn=<SliceBackward0>) \n",
            "\n",
            "Layer: fc2.weight | Size: torch.Size([4, 10]) | Values : tensor([[-0.2109,  0.0759, -0.1781, -0.0913, -0.1012, -0.0784,  0.0853, -0.0405,\n",
            "         -0.2317,  0.1319],\n",
            "        [-0.2401,  0.2031, -0.2309, -0.1058,  0.0213, -0.2975,  0.2573, -0.0571,\n",
            "          0.0882,  0.0829]], grad_fn=<SliceBackward0>) \n",
            "\n",
            "Layer: fc2.bias | Size: torch.Size([4]) | Values : tensor([ 0.2826, -0.2434], grad_fn=<SliceBackward0>) \n",
            "\n",
            "Layer: out.weight | Size: torch.Size([1, 4]) | Values : tensor([[ 0.4527, -0.0867,  0.1143,  0.1605]], grad_fn=<SliceBackward0>) \n",
            "\n",
            "Layer: out.bias | Size: torch.Size([1]) | Values : tensor([0.4511], grad_fn=<SliceBackward0>) \n",
            "\n"
          ]
        }
      ]
    },
    {
      "cell_type": "markdown",
      "metadata": {
        "id": "td6mYc54Lcia"
      },
      "source": [
        "### Loss"
      ]
    },
    {
      "cell_type": "code",
      "metadata": {
        "id": "Vl3VfLOqLjfg"
      },
      "source": [
        "## Define a loss function: WE are using binary cross-entropy \n",
        "criterion = nn.BCELoss()"
      ],
      "execution_count": null,
      "outputs": []
    },
    {
      "cell_type": "markdown",
      "metadata": {
        "id": "0AncpbvZLfEZ"
      },
      "source": [
        "### Optimizer"
      ]
    },
    {
      "cell_type": "code",
      "metadata": {
        "id": "4CsIDhpMKpn0"
      },
      "source": [
        "# optim.SGD(model.parameters(), lr=lr)\n",
        "## Here I am using adam for optimizer\n",
        "optimizer = optim.Adam(net.parameters(), lr= lr , betas=(0.9, 0.999))\n"
      ],
      "execution_count": null,
      "outputs": []
    },
    {
      "cell_type": "code",
      "metadata": {
        "hidden": true,
        "id": "5FXcQ0hW8hsH"
      },
      "source": [
        "x_tr = torch.from_numpy(X_train).float()\n",
        "x_ts = torch.from_numpy(X_test).float()\n",
        "\n",
        "y_tr = torch.from_numpy(Y_train.reshape(-1,1)).float()\n",
        "y_ts = torch.from_numpy(Y_test.reshape(-1,1)).float()"
      ],
      "execution_count": null,
      "outputs": []
    },
    {
      "cell_type": "code",
      "metadata": {
        "colab": {
          "base_uri": "https://localhost:8080/"
        },
        "id": "VJKUeWpZES8z",
        "outputId": "73a016de-83de-425e-f081-48caffac7f56"
      },
      "source": [
        "y_tr.size()"
      ],
      "execution_count": null,
      "outputs": [
        {
          "output_type": "execute_result",
          "data": {
            "text/plain": [
              "torch.Size([7101, 1])"
            ]
          },
          "metadata": {},
          "execution_count": 98
        }
      ]
    },
    {
      "cell_type": "code",
      "metadata": {
        "hidden": true,
        "id": "KI1jhWpp8hsL",
        "colab": {
          "base_uri": "https://localhost:8080/",
          "height": 291
        },
        "outputId": "de7400ab-addf-48e0-d04d-afdba3f8b918"
      },
      "source": [
        "#We also need to keep track of the loss. \n",
        "losses = []\n",
        "\n",
        "for i in range(200):\n",
        "    \n",
        "    #Precit the output for Given input\n",
        "    y_pred = net.forward(x_tr)\n",
        "    \n",
        "    #Compute Cross entropy loss\n",
        "    loss = criterion( y_pred , y_tr)\n",
        "    losses += [loss]\n",
        "    \n",
        "   \n",
        "    #Clear the previous gradients\n",
        "    optimizer.zero_grad()\n",
        "\n",
        "    #Compute gradients\n",
        "    loss.backward()\n",
        "\n",
        "    #Update the weights\n",
        "    optimizer.step()\n",
        "\n",
        "    \n",
        "    \n",
        "plt.plot(losses)    "
      ],
      "execution_count": null,
      "outputs": [
        {
          "output_type": "execute_result",
          "data": {
            "text/plain": [
              "[<matplotlib.lines.Line2D at 0x7f4646ad3b10>]"
            ]
          },
          "metadata": {},
          "execution_count": 113
        },
        {
          "output_type": "display_data",
          "data": {
            "image/png": "[encoded data removed]",
            "text/plain": [
              "<Figure size 432x288 with 1 Axes>"
            ]
          },
          "metadata": {
            "needs_background": "light"
          }
        }
      ]
    },
    {
      "cell_type": "code",
      "metadata": {
        "hidden": true,
        "id": "iyZQzMPO8hsO",
        "colab": {
          "base_uri": "https://localhost:8080/",
          "height": 369
        },
        "outputId": "5238536e-9700-4405-b98e-1ba4f1b99744"
      },
      "source": [
        "#predictions of the model for test set\n",
        "y_predict = (net.forward(x_ts)>.5).numpy().astype(int)\n",
        "\n",
        "x1_list, x2_list = grid(X[:,0], X[:,1], n_points=70)\n",
        "X_grid = np.vstack([x1_list.reshape(-1),x2_list.reshape(-1)]).T\n",
        "Y_grid = net.forward( torch.from_numpy(X_grid).float() )\n",
        "Y_grid = Y_grid.detach().numpy().reshape(x1_list.shape )\n",
        "\n",
        "fig = plt.figure(figsize=(15,5))\n",
        "ax = fig.add_subplot(121 , xlabel = 'X1', ylabel='X2', title = 'Result of the Classification')\n",
        "    \n",
        "ax.contourf(x1_list, x2_list, Y_grid, alpha=.4, cmap=plt.cm.coolwarm)\n",
        "ax.scatter(*X.T, c=Y)    \n",
        "# ax.text(3, 1.4, f'Accuracy: {np.round( model.score(X_test.T, Y_test) , 3)}' , fontsize=20)\n",
        "\n",
        "ax = fig.add_subplot(122 , xlabel = 'X1', ylabel='X2', title = 'Predicitions of the NN')\n",
        "plt.scatter(*X_test.T, c = y_predict.reshape(-1))\n",
        "\n",
        "\n",
        "plt.tight_layout()\n",
        "plt.show()"
      ],
      "execution_count": null,
      "outputs": [
        {
          "output_type": "display_data",
          "data": {
            "image/png": "[encoded data removed]",
            "text/plain": [
              "<Figure size 1080x360 with 2 Axes>"
            ]
          },
          "metadata": {
            "needs_background": "light"
          }
        }
      ]
    },
    {
      "cell_type": "markdown",
      "metadata": {
        "id": "8i5W417bNK-B"
      },
      "source": [
        "## Cleaned up"
      ]
    },
    {
      "cell_type": "code",
      "metadata": {
        "id": "K6XL0cscNN9G"
      },
      "source": [
        "import torch\n",
        "from torch import nn\n",
        "# from torch.utils.data import DataLoader\n"
      ],
      "execution_count": null,
      "outputs": []
    },
    {
      "cell_type": "markdown",
      "metadata": {
        "id": "Bg0eBkSPPEd8"
      },
      "source": [
        "### Data"
      ]
    },
    {
      "cell_type": "code",
      "metadata": {
        "id": "HsEHfRvUPV3h"
      },
      "source": [
        "x_tr = torch.from_numpy(X_train).float()\n",
        "x_ts = torch.from_numpy(X_test).float()\n",
        "\n",
        "y_tr = torch.from_numpy(Y_train.reshape(-1,1)).float()\n",
        "y_ts = torch.from_numpy(Y_test.reshape(-1,1)).float()"
      ],
      "execution_count": null,
      "outputs": []
    },
    {
      "cell_type": "code",
      "metadata": {
        "id": "YBBeD60TNW2T"
      },
      "source": [
        "## Training data\n",
        "training_dataset = torch.utils.data.TensorDataset(x_tr, y_tr)\n",
        "train_loader = torch.utils.data.DataLoader(training_dataset, batch_size=btch_size, shuffle=True)\n",
        "\n",
        "## Test data\n",
        "test_dataset = torch.utils.data.TensorDataset(x_ts, y_ts)\n",
        "test_loader = torch.utils.data.DataLoader(test_dataset, batch_size=btch_size, shuffle=True)"
      ],
      "execution_count": null,
      "outputs": []
    },
    {
      "cell_type": "markdown",
      "metadata": {
        "id": "JcUP1dAoRZ_T"
      },
      "source": [
        "### Hyper-parameters"
      ]
    },
    {
      "cell_type": "code",
      "metadata": {
        "id": "9TNt_YQfRdYr"
      },
      "source": [
        "n_epoch=30\n",
        "btch_size = 100\n",
        "lr = .2"
      ],
      "execution_count": null,
      "outputs": []
    },
    {
      "cell_type": "markdown",
      "metadata": {
        "id": "ZFhW0tIJPmiT"
      },
      "source": [
        "### Model definition"
      ]
    },
    {
      "cell_type": "code",
      "metadata": {
        "id": "O0Tmje5PPsyF"
      },
      "source": [
        "### This is slightly simplified compared to the earlier version.\n",
        "\n",
        "class Net(nn.Module):\n",
        "    \n",
        "    def __init__(self):\n",
        "        super().__init__()\n",
        "        self.ff = nn.Sequential( \n",
        "            nn.Linear(2,10), \n",
        "            nn.ReLU(), \n",
        "            nn.Linear(10,5), \n",
        "            nn.ReLU(), \n",
        "            nn.Linear(5,1), \n",
        "            nn.Sigmoid()         \n",
        "        )\n",
        "        \n",
        "    def forward(self,x):\n",
        "            return self.ff(x)\n",
        "\n",
        "    \n",
        "model = Net()"
      ],
      "execution_count": null,
      "outputs": []
    },
    {
      "cell_type": "code",
      "metadata": {
        "id": "1jp7ltuARhIP"
      },
      "source": [
        "### Loss\n",
        "criterion = nn.BCELoss()\n",
        "\n",
        "### Optimizer\n",
        "optimizer = torch.optim.SGD(model.parameters(), lr=lr)\n"
      ],
      "execution_count": null,
      "outputs": []
    },
    {
      "cell_type": "markdown",
      "metadata": {
        "id": "1d2gL6rNPqQl"
      },
      "source": [
        "### Training loops"
      ]
    },
    {
      "cell_type": "code",
      "metadata": {
        "id": "R2Vk5fA_R0E3"
      },
      "source": [
        "## https://pytorch.org/tutorials/beginner/basics/optimization_tutorial.html\n",
        "\n",
        "def train_loop(dataloader, model, criterion, optimizer):\n",
        "    size = len(dataloader.dataset)\n",
        "    for batch, (X, y) in enumerate(dataloader):\n",
        "        # print(batch)\n",
        "        # Compute prediction and loss\n",
        "        pred = model(X)\n",
        "        loss = criterion(pred, y)\n",
        "\n",
        "        # Backpropagation\n",
        "        optimizer.zero_grad()\n",
        "        loss.backward()\n",
        "        optimizer.step()\n",
        "\n",
        "        # if batch % 100 == 0:\n",
        "        #     loss, current = loss.item(), batch * len(X)\n",
        "        #     print(f\"loss: {loss:>7f}  [{current:>5d}/{size:>5d}]\")\n",
        "            \n",
        "    print(f\"loss: {loss:>4f}\")\n",
        "    return loss.item()\n",
        "\n",
        "\n",
        "def test_loop(dataloader, model, criterion):\n",
        "    size = len(dataloader.dataset)\n",
        "    test_loss, correct = 0, 0\n",
        "\n",
        "    with torch.no_grad():\n",
        "        for X, y in dataloader:\n",
        "            pred = model(X)\n",
        "            test_loss += criterion(pred, y).item()\n",
        "            correct += ( (pred>.5) == y).type(torch.float).sum().item()\n",
        "\n",
        "    test_loss /= size\n",
        "    correct /= size\n",
        "    \n",
        "    print(f\"Test Error: \\n Accuracy: {(100*correct):>0.1f}%, Avg loss: {test_loss:>8f} \\n\")\n",
        "\n",
        "    return [test_loss, correct]"
      ],
      "execution_count": null,
      "outputs": []
    },
    {
      "cell_type": "code",
      "metadata": {
        "colab": {
          "base_uri": "https://localhost:8080/"
        },
        "id": "xes7fZ5xUPdJ",
        "outputId": "5806199c-0be5-47dd-c680-ba742baf9920"
      },
      "source": [
        "train_loop(train_loader, model, criterion, optimizer)"
      ],
      "execution_count": null,
      "outputs": [
        {
          "output_type": "stream",
          "name": "stdout",
          "text": [
            "loss: 0.403893\n"
          ]
        },
        {
          "output_type": "execute_result",
          "data": {
            "text/plain": [
              "0.4038926661014557"
            ]
          },
          "metadata": {},
          "execution_count": 145
        }
      ]
    },
    {
      "cell_type": "code",
      "metadata": {
        "id": "odmS9x8rVLay",
        "colab": {
          "base_uri": "https://localhost:8080/"
        },
        "outputId": "39dbd803-6725-474f-f89b-c3f5e80f2c3c"
      },
      "source": [
        "print(net(x_ts[:5]))\n",
        "print(net(x_ts[:5])>.5)\n",
        "print(y_ts[:5])"
      ],
      "execution_count": null,
      "outputs": [
        {
          "output_type": "stream",
          "name": "stdout",
          "text": [
            "tensor([[0.0067],\n",
            "        [0.0067],\n",
            "        [0.9731],\n",
            "        [0.0629],\n",
            "        [0.9861]], grad_fn=<SigmoidBackward0>)\n",
            "tensor([[False],\n",
            "        [False],\n",
            "        [ True],\n",
            "        [False],\n",
            "        [ True]])\n",
            "tensor([[0.],\n",
            "        [0.],\n",
            "        [1.],\n",
            "        [0.],\n",
            "        [1.]])\n"
          ]
        }
      ]
    },
    {
      "cell_type": "markdown",
      "metadata": {
        "id": "ExRuZUOKSUwK"
      },
      "source": [
        "#### Training"
      ]
    },
    {
      "cell_type": "code",
      "metadata": {
        "colab": {
          "base_uri": "https://localhost:8080/"
        },
        "id": "NJfHJ5SESUV9",
        "outputId": "68dd3586-e5b2-4739-ded2-1d3e9fe4ad5f"
      },
      "source": [
        "training_hist = []\n",
        "test_hist = []\n",
        "\n",
        "for t in range(n_epoch):\n",
        "    print(f\"Epoch {t+1}\\n-------------------------------\")\n",
        "    training_hist += [train_loop(train_loader, model, criterion, optimizer)]\n",
        "    test_hist += [test_loop(test_loader, model, criterion)]\n",
        "print(\"Done!\")"
      ],
      "execution_count": null,
      "outputs": [
        {
          "output_type": "stream",
          "name": "stdout",
          "text": [
            "Epoch 1\n",
            "-------------------------------\n",
            "loss: 0.653307\n",
            "Test Error: \n",
            " Accuracy: 58.3%, Avg loss: 0.008597 \n",
            "\n",
            "Epoch 2\n",
            "-------------------------------\n",
            "loss: 0.037238\n",
            "Test Error: \n",
            " Accuracy: 82.6%, Avg loss: 0.004193 \n",
            "\n",
            "Epoch 3\n",
            "-------------------------------\n",
            "loss: 0.003617\n",
            "Test Error: \n",
            " Accuracy: 93.2%, Avg loss: 0.003153 \n",
            "\n",
            "Epoch 4\n",
            "-------------------------------\n",
            "loss: 0.214061\n",
            "Test Error: \n",
            " Accuracy: 58.3%, Avg loss: 0.021946 \n",
            "\n",
            "Epoch 5\n",
            "-------------------------------\n",
            "loss: 0.031230\n",
            "Test Error: \n",
            " Accuracy: 83.4%, Avg loss: 0.003044 \n",
            "\n",
            "Epoch 6\n",
            "-------------------------------\n",
            "loss: 0.004859\n",
            "Test Error: \n",
            " Accuracy: 98.0%, Avg loss: 0.001617 \n",
            "\n",
            "Epoch 7\n",
            "-------------------------------\n",
            "loss: 0.024851\n",
            "Test Error: \n",
            " Accuracy: 87.5%, Avg loss: 0.002063 \n",
            "\n",
            "Epoch 8\n",
            "-------------------------------\n",
            "loss: 0.000065\n",
            "Test Error: \n",
            " Accuracy: 95.0%, Avg loss: 0.001617 \n",
            "\n",
            "Epoch 9\n",
            "-------------------------------\n",
            "loss: 0.614793\n",
            "Test Error: \n",
            " Accuracy: 90.4%, Avg loss: 0.001697 \n",
            "\n",
            "Epoch 10\n",
            "-------------------------------\n",
            "loss: 0.163084\n",
            "Test Error: \n",
            " Accuracy: 87.0%, Avg loss: 0.003395 \n",
            "\n",
            "Epoch 11\n",
            "-------------------------------\n",
            "loss: 0.323582\n",
            "Test Error: \n",
            " Accuracy: 58.9%, Avg loss: 0.037975 \n",
            "\n",
            "Epoch 12\n",
            "-------------------------------\n",
            "loss: 0.000485\n",
            "Test Error: \n",
            " Accuracy: 95.0%, Avg loss: 0.001772 \n",
            "\n",
            "Epoch 13\n",
            "-------------------------------\n",
            "loss: 0.028235\n",
            "Test Error: \n",
            " Accuracy: 87.2%, Avg loss: 0.002269 \n",
            "\n",
            "Epoch 14\n",
            "-------------------------------\n",
            "loss: 0.011824\n",
            "Test Error: \n",
            " Accuracy: 93.9%, Avg loss: 0.001283 \n",
            "\n",
            "Epoch 15\n",
            "-------------------------------\n",
            "loss: 0.000102\n",
            "Test Error: \n",
            " Accuracy: 96.5%, Avg loss: 0.001126 \n",
            "\n",
            "Epoch 16\n",
            "-------------------------------\n",
            "loss: 0.000019\n",
            "Test Error: \n",
            " Accuracy: 92.8%, Avg loss: 0.001242 \n",
            "\n",
            "Epoch 17\n",
            "-------------------------------\n",
            "loss: 0.009880\n",
            "Test Error: \n",
            " Accuracy: 88.6%, Avg loss: 0.002193 \n",
            "\n",
            "Epoch 18\n",
            "-------------------------------\n",
            "loss: 0.949300\n",
            "Test Error: \n",
            " Accuracy: 96.7%, Avg loss: 0.001054 \n",
            "\n",
            "Epoch 19\n",
            "-------------------------------\n",
            "loss: 0.000033\n",
            "Test Error: \n",
            " Accuracy: 95.2%, Avg loss: 0.001198 \n",
            "\n",
            "Epoch 20\n",
            "-------------------------------\n",
            "loss: 0.000028\n",
            "Test Error: \n",
            " Accuracy: 95.4%, Avg loss: 0.001289 \n",
            "\n",
            "Epoch 21\n",
            "-------------------------------\n",
            "loss: 0.922059\n",
            "Test Error: \n",
            " Accuracy: 98.2%, Avg loss: 0.000895 \n",
            "\n",
            "Epoch 22\n",
            "-------------------------------\n",
            "loss: 0.017643\n",
            "Test Error: \n",
            " Accuracy: 98.5%, Avg loss: 0.000861 \n",
            "\n",
            "Epoch 23\n",
            "-------------------------------\n",
            "loss: 0.000012\n",
            "Test Error: \n",
            " Accuracy: 97.6%, Avg loss: 0.000998 \n",
            "\n",
            "Epoch 24\n",
            "-------------------------------\n",
            "loss: 1.284522\n",
            "Test Error: \n",
            " Accuracy: 66.7%, Avg loss: 0.010465 \n",
            "\n",
            "Epoch 25\n",
            "-------------------------------\n",
            "loss: 0.038762\n",
            "Test Error: \n",
            " Accuracy: 82.6%, Avg loss: 0.002948 \n",
            "\n",
            "Epoch 26\n",
            "-------------------------------\n",
            "loss: 0.033326\n",
            "Test Error: \n",
            " Accuracy: 93.5%, Avg loss: 0.001442 \n",
            "\n",
            "Epoch 27\n",
            "-------------------------------\n",
            "loss: 0.000048\n",
            "Test Error: \n",
            " Accuracy: 95.6%, Avg loss: 0.001332 \n",
            "\n",
            "Epoch 28\n",
            "-------------------------------\n",
            "loss: 0.084470\n",
            "Test Error: \n",
            " Accuracy: 89.6%, Avg loss: 0.002290 \n",
            "\n",
            "Epoch 29\n",
            "-------------------------------\n",
            "loss: 0.000010\n",
            "Test Error: \n",
            " Accuracy: 95.7%, Avg loss: 0.001143 \n",
            "\n",
            "Epoch 30\n",
            "-------------------------------\n",
            "loss: 0.000602\n",
            "Test Error: \n",
            " Accuracy: 95.3%, Avg loss: 0.001433 \n",
            "\n",
            "Done!\n"
          ]
        }
      ]
    },
    {
      "cell_type": "code",
      "metadata": {
        "colab": {
          "base_uri": "https://localhost:8080/",
          "height": 369
        },
        "id": "P9JWaf0dS0VN",
        "outputId": "a232e811-cd70-4b00-d203-b32c3cf6b6c8"
      },
      "source": [
        "test_hist = np.array(test_hist)\n",
        "# Plot training & validation accuracy values\n",
        "fig = plt.figure(figsize=(14,5))\n",
        "ax = fig.add_subplot(1,2,1, title = 'Model accuracy', ylabel= 'Accuracy')\n",
        "plt.plot(test_hist[:, 1])\n",
        "\n",
        "# Plot training & validation loss values\n",
        "ax = fig.add_subplot(1,2,2, title = 'Model loss', ylabel= 'Loss')\n",
        "plt.plot(training_hist, label='Train')\n",
        "plt.plot(test_hist[:, 0], label='Test')\n",
        "plt.legend(['Train', 'Test'], loc='upper left')\n",
        "\n",
        "plt.tight_layout()\n",
        "plt.show()"
      ],
      "execution_count": null,
      "outputs": [
        {
          "output_type": "display_data",
          "data": {
            "image/png": "[encoded data removed]",
            "text/plain": [
              "<Figure size 1008x360 with 2 Axes>"
            ]
          },
          "metadata": {
            "needs_background": "light"
          }
        }
      ]
    },
    {
      "cell_type": "markdown",
      "metadata": {
        "id": "BNUsUpNUPk29"
      },
      "source": [
        "### Saving the model"
      ]
    },
    {
      "cell_type": "code",
      "metadata": {
        "colab": {
          "base_uri": "https://localhost:8080/"
        },
        "id": "rwUon-BYhz6S",
        "outputId": "b4aba27a-aedf-41e5-b697-b11b383c9cfa"
      },
      "source": [
        "model.state_dict()"
      ],
      "execution_count": null,
      "outputs": [
        {
          "output_type": "execute_result",
          "data": {
            "text/plain": [
              "OrderedDict([('ff.0.weight', tensor([[-1.7718,  2.8725],\n",
              "                      [-0.3211,  5.2300],\n",
              "                      [-0.1238,  1.9523],\n",
              "                      [ 0.0214, -2.5374],\n",
              "                      [ 0.0242,  0.1639],\n",
              "                      [ 0.0889, -0.4075],\n",
              "                      [-0.3797,  0.1199],\n",
              "                      [-2.0353,  3.2918],\n",
              "                      [ 0.8367, -2.0164],\n",
              "                      [ 0.6650, -0.5875]])),\n",
              "             ('ff.0.bias',\n",
              "              tensor([-0.9996, -2.8283, -3.3462,  1.4771, -0.2787, -0.1589, -0.1040, -3.3360,\n",
              "                       1.0581, -0.2340])),\n",
              "             ('ff.2.weight',\n",
              "              tensor([[ 1.2031,  2.6075,  0.0152, -1.2793,  0.1337,  0.0489,  0.0509,  1.3055,\n",
              "                       -1.2230, -0.2791],\n",
              "                      [ 0.1710,  0.0853,  0.4144, -0.1954,  0.1961,  0.2977,  0.1959,  0.0578,\n",
              "                       -0.1882, -0.1833],\n",
              "                      [ 0.3048, -0.1462, -0.1378,  0.1012, -0.2514, -0.1625, -0.2702,  0.0105,\n",
              "                       -0.2521, -0.0277],\n",
              "                      [-0.0581, -0.7421, -1.3229,  0.3463, -0.1660,  0.1617,  0.0400, -0.8157,\n",
              "                       -0.4569, -0.5042],\n",
              "                      [-0.2737, -0.2380, -0.2154, -0.0561,  0.2274, -0.0664, -0.0490,  0.0192,\n",
              "                        0.0758, -0.3036]])),\n",
              "             ('ff.2.bias',\n",
              "              tensor([-1.6242, -0.3383, -0.2831,  2.2788,  0.0513])),\n",
              "             ('ff.4.weight',\n",
              "              tensor([[-3.0943,  0.4585,  0.3928,  1.9978, -0.1801]])),\n",
              "             ('ff.4.bias', tensor([0.2673]))])"
            ]
          },
          "metadata": {},
          "execution_count": 149
        }
      ]
    },
    {
      "cell_type": "code",
      "metadata": {
        "id": "lgVgBwvaDbOr"
      },
      "source": [
        "## Save the model\n",
        "# https://pytorch.org/docs/stable/notes/serialization.html\n",
        "\n",
        "PATH = 'test_model'\n",
        "torch.save(model.state_dict(), PATH)"
      ],
      "execution_count": null,
      "outputs": []
    },
    {
      "cell_type": "code",
      "metadata": {
        "colab": {
          "base_uri": "https://localhost:8080/"
        },
        "id": "n31qmKtXh32I",
        "outputId": "e87b036e-e04b-4f93-9562-c2a1e1a7c8dd"
      },
      "source": [
        "## Load a saved model\n",
        "nn_state_dict = torch.load('test_model')\n",
        "new_model = Net()\n",
        "new_model.load_state_dict(nn_state_dict)\n",
        "new_model(x_ts[:3])"
      ],
      "execution_count": null,
      "outputs": [
        {
          "output_type": "execute_result",
          "data": {
            "text/plain": [
              "tensor([[1.9749e-06],\n",
              "        [4.2271e-04],\n",
              "        [6.3663e-01]], grad_fn=<SigmoidBackward0>)"
            ]
          },
          "metadata": {},
          "execution_count": 151
        }
      ]
    },
    {
      "cell_type": "markdown",
      "metadata": {
        "heading_collapsed": true,
        "id": "Pw3EoyFJ8hsR"
      },
      "source": [
        "## Visualization"
      ]
    },
    {
      "cell_type": "code",
      "metadata": {
        "hidden": true,
        "id": "SdAiG5nC8hsS",
        "colab": {
          "base_uri": "https://localhost:8080/",
          "height": 1000
        },
        "outputId": "d9880521-027a-47f6-c804-115f0383f136"
      },
      "source": [
        "'''\n",
        "Later, we will use tensorboard for more visualization. \n",
        "'''\n",
        "# https://github.com/szagoruyko/pytorchviz\n",
        "!pip install torchviz\n",
        "from torchviz import make_dot\n",
        "\n",
        "\n",
        "y_predict = (net.forward(x_ts) )\n",
        "make_dot( y_predict.mean(),  params=dict(net.named_parameters() )  , \n",
        "          # show_attrs=True, show_saved=True\n",
        "         )"
      ],
      "execution_count": null,
      "outputs": [
        {
          "output_type": "stream",
          "name": "stdout",
          "text": [
            "Collecting torchviz\n",
            "  Downloading torchviz-0.0.2.tar.gz (4.9 kB)\n",
            "Requirement already satisfied: torch in /usr/local/lib/python3.7/dist-packages (from torchviz) (1.10.0+cu111)\n",
            "Requirement already satisfied: graphviz in /usr/local/lib/python3.7/dist-packages (from torchviz) (0.10.1)\n",
            "Requirement already satisfied: typing-extensions in /usr/local/lib/python3.7/dist-packages (from torch->torchviz) (3.10.0.2)\n",
            "Building wheels for collected packages: torchviz\n",
            "  Building wheel for torchviz (setup.py) ... \u001b[?25l\u001b[?25hdone\n",
            "  Created wheel for torchviz: filename=torchviz-0.0.2-py3-none-any.whl size=4151 sha256=31f3e39220cd96aab2510a94a2b46e889fd931c51bbeeef664f9003301c9537f\n",
            "  Stored in directory: /root/.cache/pip/wheels/04/38/f5/dc4f85c3909051823df49901e72015d2d750bd26b086480ec2\n",
            "Successfully built torchviz\n",
            "Installing collected packages: torchviz\n",
            "Successfully installed torchviz-0.0.2\n"
          ]
        },
        {
          "output_type": "execute_result",
          "data": {
            "text/plain": [
              "<graphviz.dot.Digraph at 0x7f4646d69990>"
            ],
            "image/svg+xml": "<?xml version=\"1.0\" encoding=\"UTF-8\" standalone=\"no\"?>\n<!DOCTYPE svg PUBLIC \"-//W3C//DTD SVG 1.1//EN\"\n \"http://www.w3.org/Graphics/SVG/1.1/DTD/svg11.dtd\">\n<!-- Generated by graphviz version 2.40.1 (20161225.0304)\n -->\n<!-- Title: %3 Pages: 1 -->\n<svg width=\"412pt\" height=\"655pt\"\n viewBox=\"0.00 0.00 412.00 655.00\" xmlns=\"http://www.w3.org/2000/svg\" xmlns:xlink=\"http://www.w3.org/1999/xlink\">\n<g id=\"graph0\" class=\"graph\" transform=\"scale(1 1) rotate(0) translate(4 651)\">\n<title>%3</title>\n<polygon fill=\"#ffffff\" stroke=\"transparent\" points=\"-4,4 -4,-651 408,-651 408,4 -4,4\"/>\n<!-- 139939808483568 -->\n<g id=\"node1\" class=\"node\">\n<title>139939808483568</title>\n<polygon fill=\"#caff70\" stroke=\"#000000\" points=\"221.5,-31 167.5,-31 167.5,0 221.5,0 221.5,-31\"/>\n<text text-anchor=\"middle\" x=\"194.5\" y=\"-7\" font-family=\"monospace\" font-size=\"10.00\" fill=\"#000000\"> ()</text>\n</g>\n<!-- 139939812906768 -->\n<g id=\"node2\" class=\"node\">\n<title>139939812906768</title>\n<polygon fill=\"#d3d3d3\" stroke=\"#000000\" points=\"242,-86 147,-86 147,-67 242,-67 242,-86\"/>\n<text text-anchor=\"middle\" x=\"194.5\" y=\"-74\" font-family=\"monospace\" font-size=\"10.00\" fill=\"#000000\">MeanBackward0</text>\n</g>\n<!-- 139939812906768&#45;&gt;139939808483568 -->\n<g id=\"edge22\" class=\"edge\">\n<title>139939812906768&#45;&gt;139939808483568</title>\n<path fill=\"none\" stroke=\"#000000\" d=\"M194.5,-66.9688C194.5,-60.1289 194.5,-50.5621 194.5,-41.5298\"/>\n<polygon fill=\"#000000\" stroke=\"#000000\" points=\"198.0001,-41.3678 194.5,-31.3678 191.0001,-41.3678 198.0001,-41.3678\"/>\n</g>\n<!-- 139939812907920 -->\n<g id=\"node3\" class=\"node\">\n<title>139939812907920</title>\n<polygon fill=\"#d3d3d3\" stroke=\"#000000\" points=\"251,-141 138,-141 138,-122 251,-122 251,-141\"/>\n<text text-anchor=\"middle\" x=\"194.5\" y=\"-129\" font-family=\"monospace\" font-size=\"10.00\" fill=\"#000000\">SigmoidBackward0</text>\n</g>\n<!-- 139939812907920&#45;&gt;139939812906768 -->\n<g id=\"edge1\" class=\"edge\">\n<title>139939812907920&#45;&gt;139939812906768</title>\n<path fill=\"none\" stroke=\"#000000\" d=\"M194.5,-121.9197C194.5,-114.9083 194.5,-105.1442 194.5,-96.4652\"/>\n<polygon fill=\"#000000\" stroke=\"#000000\" points=\"198.0001,-96.3408 194.5,-86.3408 191.0001,-96.3409 198.0001,-96.3408\"/>\n</g>\n<!-- 139939812905552 -->\n<g id=\"node4\" class=\"node\">\n<title>139939812905552</title>\n<polygon fill=\"#d3d3d3\" stroke=\"#000000\" points=\"245,-196 144,-196 144,-177 245,-177 245,-196\"/>\n<text text-anchor=\"middle\" x=\"194.5\" y=\"-184\" font-family=\"monospace\" font-size=\"10.00\" fill=\"#000000\">AddmmBackward0</text>\n</g>\n<!-- 139939812905552&#45;&gt;139939812907920 -->\n<g id=\"edge2\" class=\"edge\">\n<title>139939812905552&#45;&gt;139939812907920</title>\n<path fill=\"none\" stroke=\"#000000\" d=\"M194.5,-176.9197C194.5,-169.9083 194.5,-160.1442 194.5,-151.4652\"/>\n<polygon fill=\"#000000\" stroke=\"#000000\" points=\"198.0001,-151.3408 194.5,-141.3408 191.0001,-151.3409 198.0001,-151.3408\"/>\n</g>\n<!-- 139939812906256 -->\n<g id=\"node5\" class=\"node\">\n<title>139939812906256</title>\n<polygon fill=\"#d3d3d3\" stroke=\"#000000\" points=\"129,-251 28,-251 28,-232 129,-232 129,-251\"/>\n<text text-anchor=\"middle\" x=\"78.5\" y=\"-239\" font-family=\"monospace\" font-size=\"10.00\" fill=\"#000000\">AccumulateGrad</text>\n</g>\n<!-- 139939812906256&#45;&gt;139939812905552 -->\n<g id=\"edge3\" class=\"edge\">\n<title>139939812906256&#45;&gt;139939812905552</title>\n<path fill=\"none\" stroke=\"#000000\" d=\"M98.7057,-231.9197C116.9737,-223.2581 144.1018,-210.3957 164.8304,-200.5675\"/>\n<polygon fill=\"#000000\" stroke=\"#000000\" points=\"166.6004,-203.6018 174.1367,-196.155 163.6014,-197.2768 166.6004,-203.6018\"/>\n</g>\n<!-- 139939811175408 -->\n<g id=\"node6\" class=\"node\">\n<title>139939811175408</title>\n<polygon fill=\"#add8e6\" stroke=\"#000000\" points=\"111,-317 46,-317 46,-287 111,-287 111,-317\"/>\n<text text-anchor=\"middle\" x=\"78.5\" y=\"-305\" font-family=\"monospace\" font-size=\"10.00\" fill=\"#000000\">out.bias</text>\n<text text-anchor=\"middle\" x=\"78.5\" y=\"-294\" font-family=\"monospace\" font-size=\"10.00\" fill=\"#000000\"> (1)</text>\n</g>\n<!-- 139939811175408&#45;&gt;139939812906256 -->\n<g id=\"edge4\" class=\"edge\">\n<title>139939811175408&#45;&gt;139939812906256</title>\n<path fill=\"none\" stroke=\"#000000\" d=\"M78.5,-286.7333C78.5,-279.0322 78.5,-269.5977 78.5,-261.3414\"/>\n<polygon fill=\"#000000\" stroke=\"#000000\" points=\"82.0001,-261.0864 78.5,-251.0864 75.0001,-261.0864 82.0001,-261.0864\"/>\n</g>\n<!-- 139939812905808 -->\n<g id=\"node7\" class=\"node\">\n<title>139939812905808</title>\n<polygon fill=\"#d3d3d3\" stroke=\"#000000\" points=\"242,-251 147,-251 147,-232 242,-232 242,-251\"/>\n<text text-anchor=\"middle\" x=\"194.5\" y=\"-239\" font-family=\"monospace\" font-size=\"10.00\" fill=\"#000000\">ReluBackward0</text>\n</g>\n<!-- 139939812905808&#45;&gt;139939812905552 -->\n<g id=\"edge5\" class=\"edge\">\n<title>139939812905808&#45;&gt;139939812905552</title>\n<path fill=\"none\" stroke=\"#000000\" d=\"M194.5,-231.9197C194.5,-224.9083 194.5,-215.1442 194.5,-206.4652\"/>\n<polygon fill=\"#000000\" stroke=\"#000000\" points=\"198.0001,-206.3408 194.5,-196.3408 191.0001,-206.3409 198.0001,-206.3408\"/>\n</g>\n<!-- 139939812907472 -->\n<g id=\"node8\" class=\"node\">\n<title>139939812907472</title>\n<polygon fill=\"#d3d3d3\" stroke=\"#000000\" points=\"237,-311.5 136,-311.5 136,-292.5 237,-292.5 237,-311.5\"/>\n<text text-anchor=\"middle\" x=\"186.5\" y=\"-299.5\" font-family=\"monospace\" font-size=\"10.00\" fill=\"#000000\">AddmmBackward0</text>\n</g>\n<!-- 139939812907472&#45;&gt;139939812905808 -->\n<g id=\"edge6\" class=\"edge\">\n<title>139939812907472&#45;&gt;139939812905808</title>\n<path fill=\"none\" stroke=\"#000000\" d=\"M187.7853,-292.2796C188.8752,-284.0376 190.4741,-271.9457 191.8383,-261.629\"/>\n<polygon fill=\"#000000\" stroke=\"#000000\" points=\"195.3501,-261.7698 193.1913,-251.3972 188.4105,-260.8521 195.3501,-261.7698\"/>\n</g>\n<!-- 139939812907152 -->\n<g id=\"node9\" class=\"node\">\n<title>139939812907152</title>\n<polygon fill=\"#d3d3d3\" stroke=\"#000000\" points=\"101,-377.5 0,-377.5 0,-358.5 101,-358.5 101,-377.5\"/>\n<text text-anchor=\"middle\" x=\"50.5\" y=\"-365.5\" font-family=\"monospace\" font-size=\"10.00\" fill=\"#000000\">AccumulateGrad</text>\n</g>\n<!-- 139939812907152&#45;&gt;139939812907472 -->\n<g id=\"edge7\" class=\"edge\">\n<title>139939812907152&#45;&gt;139939812907472</title>\n<path fill=\"none\" stroke=\"#000000\" d=\"M70.2756,-358.403C93.24,-347.2585 131.3225,-328.7773 157.6024,-316.0238\"/>\n<polygon fill=\"#000000\" stroke=\"#000000\" points=\"159.2321,-319.1234 166.7006,-311.6085 156.1759,-312.8258 159.2321,-319.1234\"/>\n</g>\n<!-- 139939811175792 -->\n<g id=\"node10\" class=\"node\">\n<title>139939811175792</title>\n<polygon fill=\"#add8e6\" stroke=\"#000000\" points=\"83,-449 18,-449 18,-419 83,-419 83,-449\"/>\n<text text-anchor=\"middle\" x=\"50.5\" y=\"-437\" font-family=\"monospace\" font-size=\"10.00\" fill=\"#000000\">fc2.bias</text>\n<text text-anchor=\"middle\" x=\"50.5\" y=\"-426\" font-family=\"monospace\" font-size=\"10.00\" fill=\"#000000\"> (4)</text>\n</g>\n<!-- 139939811175792&#45;&gt;139939812907152 -->\n<g id=\"edge8\" class=\"edge\">\n<title>139939811175792&#45;&gt;139939812907152</title>\n<path fill=\"none\" stroke=\"#000000\" d=\"M50.5,-418.6924C50.5,-409.5067 50.5,-397.7245 50.5,-387.8312\"/>\n<polygon fill=\"#000000\" stroke=\"#000000\" points=\"54.0001,-387.703 50.5,-377.7031 47.0001,-387.7031 54.0001,-387.703\"/>\n</g>\n<!-- 139939812905040 -->\n<g id=\"node11\" class=\"node\">\n<title>139939812905040</title>\n<polygon fill=\"#d3d3d3\" stroke=\"#000000\" points=\"214,-377.5 119,-377.5 119,-358.5 214,-358.5 214,-377.5\"/>\n<text text-anchor=\"middle\" x=\"166.5\" y=\"-365.5\" font-family=\"monospace\" font-size=\"10.00\" fill=\"#000000\">ReluBackward0</text>\n</g>\n<!-- 139939812905040&#45;&gt;139939812907472 -->\n<g id=\"edge9\" class=\"edge\">\n<title>139939812905040&#45;&gt;139939812907472</title>\n<path fill=\"none\" stroke=\"#000000\" d=\"M169.4511,-358.2615C172.3757,-348.6102 176.937,-333.558 180.6059,-321.4506\"/>\n<polygon fill=\"#000000\" stroke=\"#000000\" points=\"183.9863,-322.3638 183.5368,-311.7785 177.2871,-320.3337 183.9863,-322.3638\"/>\n</g>\n<!-- 139939812905616 -->\n<g id=\"node12\" class=\"node\">\n<title>139939812905616</title>\n<polygon fill=\"#d3d3d3\" stroke=\"#000000\" points=\"209,-443.5 108,-443.5 108,-424.5 209,-424.5 209,-443.5\"/>\n<text text-anchor=\"middle\" x=\"158.5\" y=\"-431.5\" font-family=\"monospace\" font-size=\"10.00\" fill=\"#000000\">AddmmBackward0</text>\n</g>\n<!-- 139939812905616&#45;&gt;139939812905040 -->\n<g id=\"edge10\" class=\"edge\">\n<title>139939812905616&#45;&gt;139939812905040</title>\n<path fill=\"none\" stroke=\"#000000\" d=\"M159.6804,-424.2615C160.8385,-414.7077 162.638,-399.8615 164.0978,-387.8183\"/>\n<polygon fill=\"#000000\" stroke=\"#000000\" points=\"167.5859,-388.127 165.3147,-377.7785 160.6368,-387.2846 167.5859,-388.127\"/>\n</g>\n<!-- 139939812908624 -->\n<g id=\"node13\" class=\"node\">\n<title>139939812908624</title>\n<polygon fill=\"#d3d3d3\" stroke=\"#000000\" points=\"114,-509.5 13,-509.5 13,-490.5 114,-490.5 114,-509.5\"/>\n<text text-anchor=\"middle\" x=\"63.5\" y=\"-497.5\" font-family=\"monospace\" font-size=\"10.00\" fill=\"#000000\">AccumulateGrad</text>\n</g>\n<!-- 139939812908624&#45;&gt;139939812905616 -->\n<g id=\"edge11\" class=\"edge\">\n<title>139939812908624&#45;&gt;139939812905616</title>\n<path fill=\"none\" stroke=\"#000000\" d=\"M77.5176,-490.2615C93.0418,-479.4762 118.2743,-461.9463 136.4509,-449.3183\"/>\n<polygon fill=\"#000000\" stroke=\"#000000\" points=\"138.5182,-452.1439 144.7338,-443.5639 134.5242,-446.3951 138.5182,-452.1439\"/>\n</g>\n<!-- 139939811175216 -->\n<g id=\"node14\" class=\"node\">\n<title>139939811175216</title>\n<polygon fill=\"#add8e6\" stroke=\"#000000\" points=\"96,-581 31,-581 31,-551 96,-551 96,-581\"/>\n<text text-anchor=\"middle\" x=\"63.5\" y=\"-569\" font-family=\"monospace\" font-size=\"10.00\" fill=\"#000000\">fc1.bias</text>\n<text text-anchor=\"middle\" x=\"63.5\" y=\"-558\" font-family=\"monospace\" font-size=\"10.00\" fill=\"#000000\"> (10)</text>\n</g>\n<!-- 139939811175216&#45;&gt;139939812908624 -->\n<g id=\"edge12\" class=\"edge\">\n<title>139939811175216&#45;&gt;139939812908624</title>\n<path fill=\"none\" stroke=\"#000000\" d=\"M63.5,-550.6924C63.5,-541.5067 63.5,-529.7245 63.5,-519.8312\"/>\n<polygon fill=\"#000000\" stroke=\"#000000\" points=\"67.0001,-519.703 63.5,-509.7031 60.0001,-519.7031 67.0001,-519.703\"/>\n</g>\n<!-- 139939812906192 -->\n<g id=\"node15\" class=\"node\">\n<title>139939812906192</title>\n<polygon fill=\"#d3d3d3\" stroke=\"#000000\" points=\"209,-509.5 132,-509.5 132,-490.5 209,-490.5 209,-509.5\"/>\n<text text-anchor=\"middle\" x=\"170.5\" y=\"-497.5\" font-family=\"monospace\" font-size=\"10.00\" fill=\"#000000\">TBackward0</text>\n</g>\n<!-- 139939812906192&#45;&gt;139939812905616 -->\n<g id=\"edge13\" class=\"edge\">\n<title>139939812906192&#45;&gt;139939812905616</title>\n<path fill=\"none\" stroke=\"#000000\" d=\"M168.7294,-490.2615C166.9923,-480.7077 164.293,-465.8615 162.1033,-453.8183\"/>\n<polygon fill=\"#000000\" stroke=\"#000000\" points=\"165.5104,-452.9911 160.2779,-443.7785 158.6233,-454.2433 165.5104,-452.9911\"/>\n</g>\n<!-- 139939812907728 -->\n<g id=\"node16\" class=\"node\">\n<title>139939812907728</title>\n<polygon fill=\"#d3d3d3\" stroke=\"#000000\" points=\"221,-575.5 120,-575.5 120,-556.5 221,-556.5 221,-575.5\"/>\n<text text-anchor=\"middle\" x=\"170.5\" y=\"-563.5\" font-family=\"monospace\" font-size=\"10.00\" fill=\"#000000\">AccumulateGrad</text>\n</g>\n<!-- 139939812907728&#45;&gt;139939812906192 -->\n<g id=\"edge14\" class=\"edge\">\n<title>139939812907728&#45;&gt;139939812906192</title>\n<path fill=\"none\" stroke=\"#000000\" d=\"M170.5,-556.2615C170.5,-546.7077 170.5,-531.8615 170.5,-519.8183\"/>\n<polygon fill=\"#000000\" stroke=\"#000000\" points=\"174.0001,-519.7784 170.5,-509.7785 167.0001,-519.7785 174.0001,-519.7784\"/>\n</g>\n<!-- 139939811175504 -->\n<g id=\"node17\" class=\"node\">\n<title>139939811175504</title>\n<polygon fill=\"#add8e6\" stroke=\"#000000\" points=\"209,-647 132,-647 132,-617 209,-617 209,-647\"/>\n<text text-anchor=\"middle\" x=\"170.5\" y=\"-635\" font-family=\"monospace\" font-size=\"10.00\" fill=\"#000000\">fc1.weight</text>\n<text text-anchor=\"middle\" x=\"170.5\" y=\"-624\" font-family=\"monospace\" font-size=\"10.00\" fill=\"#000000\"> (10, 2)</text>\n</g>\n<!-- 139939811175504&#45;&gt;139939812907728 -->\n<g id=\"edge15\" class=\"edge\">\n<title>139939811175504&#45;&gt;139939812907728</title>\n<path fill=\"none\" stroke=\"#000000\" d=\"M170.5,-616.6924C170.5,-607.5067 170.5,-595.7245 170.5,-585.8312\"/>\n<polygon fill=\"#000000\" stroke=\"#000000\" points=\"174.0001,-585.703 170.5,-575.7031 167.0001,-585.7031 174.0001,-585.703\"/>\n</g>\n<!-- 139939812905232 -->\n<g id=\"node18\" class=\"node\">\n<title>139939812905232</title>\n<polygon fill=\"#d3d3d3\" stroke=\"#000000\" points=\"309,-377.5 232,-377.5 232,-358.5 309,-358.5 309,-377.5\"/>\n<text text-anchor=\"middle\" x=\"270.5\" y=\"-365.5\" font-family=\"monospace\" font-size=\"10.00\" fill=\"#000000\">TBackward0</text>\n</g>\n<!-- 139939812905232&#45;&gt;139939812907472 -->\n<g id=\"edge16\" class=\"edge\">\n<title>139939812905232&#45;&gt;139939812907472</title>\n<path fill=\"none\" stroke=\"#000000\" d=\"M258.1055,-358.2615C244.6284,-347.6723 222.8765,-330.5815 206.8788,-318.0119\"/>\n<polygon fill=\"#000000\" stroke=\"#000000\" points=\"208.6978,-314.99 198.6722,-311.5639 204.3731,-320.4943 208.6978,-314.99\"/>\n</g>\n<!-- 139939812908240 -->\n<g id=\"node19\" class=\"node\">\n<title>139939812908240</title>\n<polygon fill=\"#d3d3d3\" stroke=\"#000000\" points=\"328,-443.5 227,-443.5 227,-424.5 328,-424.5 328,-443.5\"/>\n<text text-anchor=\"middle\" x=\"277.5\" y=\"-431.5\" font-family=\"monospace\" font-size=\"10.00\" fill=\"#000000\">AccumulateGrad</text>\n</g>\n<!-- 139939812908240&#45;&gt;139939812905232 -->\n<g id=\"edge17\" class=\"edge\">\n<title>139939812908240&#45;&gt;139939812905232</title>\n<path fill=\"none\" stroke=\"#000000\" d=\"M276.4671,-424.2615C275.4538,-414.7077 273.8793,-399.8615 272.6019,-387.8183\"/>\n<polygon fill=\"#000000\" stroke=\"#000000\" points=\"276.0724,-387.3535 271.5371,-377.7785 269.1114,-388.0919 276.0724,-387.3535\"/>\n</g>\n<!-- 139939811175888 -->\n<g id=\"node20\" class=\"node\">\n<title>139939811175888</title>\n<polygon fill=\"#add8e6\" stroke=\"#000000\" points=\"316,-515 239,-515 239,-485 316,-485 316,-515\"/>\n<text text-anchor=\"middle\" x=\"277.5\" y=\"-503\" font-family=\"monospace\" font-size=\"10.00\" fill=\"#000000\">fc2.weight</text>\n<text text-anchor=\"middle\" x=\"277.5\" y=\"-492\" font-family=\"monospace\" font-size=\"10.00\" fill=\"#000000\"> (4, 10)</text>\n</g>\n<!-- 139939811175888&#45;&gt;139939812908240 -->\n<g id=\"edge18\" class=\"edge\">\n<title>139939811175888&#45;&gt;139939812908240</title>\n<path fill=\"none\" stroke=\"#000000\" d=\"M277.5,-484.6924C277.5,-475.5067 277.5,-463.7245 277.5,-453.8312\"/>\n<polygon fill=\"#000000\" stroke=\"#000000\" points=\"281.0001,-453.703 277.5,-443.7031 274.0001,-453.7031 281.0001,-453.703\"/>\n</g>\n<!-- 139939812905424 -->\n<g id=\"node21\" class=\"node\">\n<title>139939812905424</title>\n<polygon fill=\"#d3d3d3\" stroke=\"#000000\" points=\"360,-251 283,-251 283,-232 360,-232 360,-251\"/>\n<text text-anchor=\"middle\" x=\"321.5\" y=\"-239\" font-family=\"monospace\" font-size=\"10.00\" fill=\"#000000\">TBackward0</text>\n</g>\n<!-- 139939812905424&#45;&gt;139939812905552 -->\n<g id=\"edge19\" class=\"edge\">\n<title>139939812905424&#45;&gt;139939812905552</title>\n<path fill=\"none\" stroke=\"#000000\" d=\"M299.3783,-231.9197C279.1064,-223.1406 248.8692,-210.0457 226.0628,-200.1689\"/>\n<polygon fill=\"#000000\" stroke=\"#000000\" points=\"227.3617,-196.9174 216.7943,-196.155 224.5798,-203.3409 227.3617,-196.9174\"/>\n</g>\n<!-- 139939812908048 -->\n<g id=\"node22\" class=\"node\">\n<title>139939812908048</title>\n<polygon fill=\"#d3d3d3\" stroke=\"#000000\" points=\"396,-311.5 295,-311.5 295,-292.5 396,-292.5 396,-311.5\"/>\n<text text-anchor=\"middle\" x=\"345.5\" y=\"-299.5\" font-family=\"monospace\" font-size=\"10.00\" fill=\"#000000\">AccumulateGrad</text>\n</g>\n<!-- 139939812908048&#45;&gt;139939812905424 -->\n<g id=\"edge20\" class=\"edge\">\n<title>139939812908048&#45;&gt;139939812905424</title>\n<path fill=\"none\" stroke=\"#000000\" d=\"M341.644,-292.2796C338.3049,-283.8623 333.3728,-271.4295 329.2248,-260.973\"/>\n<polygon fill=\"#000000\" stroke=\"#000000\" points=\"332.367,-259.402 325.4262,-251.3972 325.8603,-261.9832 332.367,-259.402\"/>\n</g>\n<!-- 139939811175600 -->\n<g id=\"node23\" class=\"node\">\n<title>139939811175600</title>\n<polygon fill=\"#add8e6\" stroke=\"#000000\" points=\"404,-383 327,-383 327,-353 404,-353 404,-383\"/>\n<text text-anchor=\"middle\" x=\"365.5\" y=\"-371\" font-family=\"monospace\" font-size=\"10.00\" fill=\"#000000\">out.weight</text>\n<text text-anchor=\"middle\" x=\"365.5\" y=\"-360\" font-family=\"monospace\" font-size=\"10.00\" fill=\"#000000\"> (1, 4)</text>\n</g>\n<!-- 139939811175600&#45;&gt;139939812908048 -->\n<g id=\"edge21\" class=\"edge\">\n<title>139939811175600&#45;&gt;139939812908048</title>\n<path fill=\"none\" stroke=\"#000000\" d=\"M360.8613,-352.6924C358.0479,-343.408 354.4305,-331.4708 351.4129,-321.5127\"/>\n<polygon fill=\"#000000\" stroke=\"#000000\" points=\"354.6901,-320.2583 348.4403,-311.7031 347.9909,-322.2884 354.6901,-320.2583\"/>\n</g>\n</g>\n</svg>\n"
          },
          "metadata": {},
          "execution_count": 152
        }
      ]
    },
    {
      "cell_type": "markdown",
      "metadata": {
        "heading_collapsed": true,
        "id": "vPUjDX8ABoGc"
      },
      "source": [
        "## Data: Farsi Hand-written digits classification"
      ]
    },
    {
      "cell_type": "code",
      "metadata": {
        "ExecuteTime": {
          "end_time": "2020-05-05T11:49:24.322716Z",
          "start_time": "2020-05-05T11:49:19.069265Z"
        },
        "hidden": true,
        "id": "FE54NJdSXplU",
        "init_cell": true
      },
      "source": [
        "url = 'https://raw.githubusercontent.com/sraeisi/MachineLearning_Physics/master/Data/Farsi_digits_X.npz'\n",
        "s=requests.get(url, stream=True).content\n",
        "X = np.load(io.BytesIO(s) )['arr_0']\n",
        "url = 'https://raw.githubusercontent.com/sraeisi/MachineLearning_Physics/master/Data/Farsi_digits_Y.npz'\n",
        "s=requests.get(url, stream=True).content\n",
        "Y = np.load(io.BytesIO(s) )['arr_0']\n",
        "\n",
        "# X = np.load('X.npz')['arr_0']\n",
        "# Y = np.load('Y.npz')['arr_0']\n",
        "\n",
        "\n",
        "from sklearn.utils import shuffle\n",
        "X, Y = shuffle(X,Y, random_state = 0 )"
      ],
      "execution_count": null,
      "outputs": []
    },
    {
      "cell_type": "code",
      "metadata": {
        "ExecuteTime": {
          "end_time": "2020-05-04T16:42:36.764489Z",
          "start_time": "2020-05-04T16:42:36.756468Z"
        },
        "hidden": true,
        "id": "ldLimT4BXqVg",
        "colab": {
          "base_uri": "https://localhost:8080/"
        },
        "outputId": "3fe14ab4-dccc-43eb-b35d-7498973475b0"
      },
      "source": [
        "print('Each image is of the form: {}'.format(X[0].shape ) )"
      ],
      "execution_count": null,
      "outputs": [
        {
          "output_type": "stream",
          "name": "stdout",
          "text": [
            "Each image is of the form: (32, 32)\n"
          ]
        }
      ]
    },
    {
      "cell_type": "code",
      "metadata": {
        "id": "_C1Tbx0MDMZM",
        "colab": {
          "base_uri": "https://localhost:8080/",
          "height": 293
        },
        "outputId": "362c9d9d-2a18-4b1b-9e3a-6a68a9af3961"
      },
      "source": [
        "plt.imshow(X[270])\n",
        "X.reshape(-1, 32*32).shape\n",
        "Y[270]"
      ],
      "execution_count": null,
      "outputs": [
        {
          "output_type": "execute_result",
          "data": {
            "text/plain": [
              "8"
            ]
          },
          "metadata": {},
          "execution_count": 155
        },
        {
          "output_type": "display_data",
          "data": {
            "image/png": "[encoded data removed]",
            "text/plain": [
              "<Figure size 432x288 with 1 Axes>"
            ]
          },
          "metadata": {
            "needs_background": "light"
          }
        }
      ]
    },
    {
      "cell_type": "code",
      "metadata": {
        "ExecuteTime": {
          "end_time": "2020-05-05T11:49:31.463454Z",
          "start_time": "2020-05-05T11:49:30.652380Z"
        },
        "hidden": true,
        "id": "FyNX5FJRXx9V",
        "init_cell": true
      },
      "source": [
        "from sklearn.model_selection import train_test_split\n",
        "from sklearn.metrics import confusion_matrix\n",
        "\n",
        "X_train, X_test, Y_train, Y_test = train_test_split(X, Y, random_state=0)"
      ],
      "execution_count": null,
      "outputs": []
    },
    {
      "cell_type": "code",
      "metadata": {
        "id": "I2BXL0g-SQIQ"
      },
      "source": [
        ""
      ],
      "execution_count": null,
      "outputs": []
    }
  ]
}